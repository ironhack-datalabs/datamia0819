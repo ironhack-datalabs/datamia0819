{
 "cells": [
  {
   "cell_type": "code",
   "execution_count": 1,
   "metadata": {},
   "outputs": [
    {
     "name": "stdout",
     "output_type": "stream",
     "text": [
      "himanshu\n",
      "aggarwal\n",
      "himanshu.aggarwal@ironhack.com\n",
      "27\n"
     ]
    }
   ],
   "source": [
    "import datetime\n",
    "class Person:\n",
    "    def __init__(self, first_name, last_name, dob, address, telephone, email):\n",
    "        self.first_name = first_name\n",
    "        self.last_name = last_name\n",
    "        self.dob = dob\n",
    "        self.address = address\n",
    "        self.telephone = telephone\n",
    "        self.email = email\n",
    "    def age(self):\n",
    "        today = datetime.date.today()\n",
    "        age = today.year - self.dob.year\n",
    "        if today < datetime.date(today.year, self.dob.month, self.dob.day):\n",
    "            age -= 1\n",
    "        return age\n",
    "person = Person(\n",
    "   \"himanshu\",\n",
    "   \"aggarwal\",\n",
    "   datetime.date(1992, 3, 26), # year, month, day\n",
    "   \"ABC, MIAMI\",\n",
    "   \"480 395 8900\",\n",
    "   \"himanshu.aggarwal@ironhack.com\"\n",
    ")\n",
    "print(person.first_name)\n",
    "print(person.last_name)\n",
    "print(person.email)\n",
    "print(person.age())"
   ]
  },
  {
   "cell_type": "code",
   "execution_count": null,
   "metadata": {},
   "outputs": [],
   "source": []
  }
 ],
 "metadata": {
  "kernelspec": {
   "display_name": "Python 3",
   "language": "python",
   "name": "python3"
  },
  "language_info": {
   "codemirror_mode": {
    "name": "ipython",
    "version": 3
   },
   "file_extension": ".py",
   "mimetype": "text/x-python",
   "name": "python",
   "nbconvert_exporter": "python",
   "pygments_lexer": "ipython3",
   "version": "3.7.3"
  }
 },
 "nbformat": 4,
 "nbformat_minor": 2
}
