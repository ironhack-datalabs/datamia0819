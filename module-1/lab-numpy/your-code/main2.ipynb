{
 "cells": [
  {
   "cell_type": "code",
   "execution_count": 3,
   "metadata": {},
   "outputs": [
    {
     "name": "stdout",
     "output_type": "stream",
     "text": [
      "1.16.4 \n",
      "\n",
      "\n",
      "mkl_info:\n",
      "    libraries = ['mkl_rt']\n",
      "    library_dirs = ['C:/Users/rbarr/Anaconda3\\\\Library\\\\lib']\n",
      "    define_macros = [('SCIPY_MKL_H', None), ('HAVE_CBLAS', None)]\n",
      "    include_dirs = ['C:\\\\Program Files (x86)\\\\IntelSWTools\\\\compilers_and_libraries_2019.0.117\\\\windows\\\\mkl', 'C:\\\\Program Files (x86)\\\\IntelSWTools\\\\compilers_and_libraries_2019.0.117\\\\windows\\\\mkl\\\\include', 'C:\\\\Program Files (x86)\\\\IntelSWTools\\\\compilers_and_libraries_2019.0.117\\\\windows\\\\mkl\\\\lib', 'C:/Users/rbarr/Anaconda3\\\\Library\\\\include']\n",
      "blas_mkl_info:\n",
      "    libraries = ['mkl_rt']\n",
      "    library_dirs = ['C:/Users/rbarr/Anaconda3\\\\Library\\\\lib']\n",
      "    define_macros = [('SCIPY_MKL_H', None), ('HAVE_CBLAS', None)]\n",
      "    include_dirs = ['C:\\\\Program Files (x86)\\\\IntelSWTools\\\\compilers_and_libraries_2019.0.117\\\\windows\\\\mkl', 'C:\\\\Program Files (x86)\\\\IntelSWTools\\\\compilers_and_libraries_2019.0.117\\\\windows\\\\mkl\\\\include', 'C:\\\\Program Files (x86)\\\\IntelSWTools\\\\compilers_and_libraries_2019.0.117\\\\windows\\\\mkl\\\\lib', 'C:/Users/rbarr/Anaconda3\\\\Library\\\\include']\n",
      "blas_opt_info:\n",
      "    libraries = ['mkl_rt']\n",
      "    library_dirs = ['C:/Users/rbarr/Anaconda3\\\\Library\\\\lib']\n",
      "    define_macros = [('SCIPY_MKL_H', None), ('HAVE_CBLAS', None)]\n",
      "    include_dirs = ['C:\\\\Program Files (x86)\\\\IntelSWTools\\\\compilers_and_libraries_2019.0.117\\\\windows\\\\mkl', 'C:\\\\Program Files (x86)\\\\IntelSWTools\\\\compilers_and_libraries_2019.0.117\\\\windows\\\\mkl\\\\include', 'C:\\\\Program Files (x86)\\\\IntelSWTools\\\\compilers_and_libraries_2019.0.117\\\\windows\\\\mkl\\\\lib', 'C:/Users/rbarr/Anaconda3\\\\Library\\\\include']\n",
      "lapack_mkl_info:\n",
      "    libraries = ['mkl_rt']\n",
      "    library_dirs = ['C:/Users/rbarr/Anaconda3\\\\Library\\\\lib']\n",
      "    define_macros = [('SCIPY_MKL_H', None), ('HAVE_CBLAS', None)]\n",
      "    include_dirs = ['C:\\\\Program Files (x86)\\\\IntelSWTools\\\\compilers_and_libraries_2019.0.117\\\\windows\\\\mkl', 'C:\\\\Program Files (x86)\\\\IntelSWTools\\\\compilers_and_libraries_2019.0.117\\\\windows\\\\mkl\\\\include', 'C:\\\\Program Files (x86)\\\\IntelSWTools\\\\compilers_and_libraries_2019.0.117\\\\windows\\\\mkl\\\\lib', 'C:/Users/rbarr/Anaconda3\\\\Library\\\\include']\n",
      "lapack_opt_info:\n",
      "    libraries = ['mkl_rt']\n",
      "    library_dirs = ['C:/Users/rbarr/Anaconda3\\\\Library\\\\lib']\n",
      "    define_macros = [('SCIPY_MKL_H', None), ('HAVE_CBLAS', None)]\n",
      "    include_dirs = ['C:\\\\Program Files (x86)\\\\IntelSWTools\\\\compilers_and_libraries_2019.0.117\\\\windows\\\\mkl', 'C:\\\\Program Files (x86)\\\\IntelSWTools\\\\compilers_and_libraries_2019.0.117\\\\windows\\\\mkl\\\\include', 'C:\\\\Program Files (x86)\\\\IntelSWTools\\\\compilers_and_libraries_2019.0.117\\\\windows\\\\mkl\\\\lib', 'C:/Users/rbarr/Anaconda3\\\\Library\\\\include']\n",
      "None\n"
     ]
    }
   ],
   "source": [
    "import numpy as np\n",
    "\n",
    "print(np.__version__, '\\n\\n')\n",
    "print(np.show_config())"
   ]
  },
  {
   "cell_type": "code",
   "execution_count": 4,
   "metadata": {},
   "outputs": [
    {
     "name": "stdout",
     "output_type": "stream",
     "text": [
      "[[[0.78880951 0.55957597 0.66695463 0.52644252 0.68868902]\n",
      "  [0.53564137 0.37914965 0.70407362 0.12872362 0.8455654 ]\n",
      "  [0.90476228 0.91983747 0.23117976 0.93933524 0.22597083]]\n",
      "\n",
      " [[0.79198097 0.67772611 0.73141591 0.26687977 0.69581685]\n",
      "  [0.2248575  0.26602637 0.08408424 0.84938186 0.94730539]\n",
      "  [0.87901224 0.20191186 0.63780328 0.51041547 0.46684125]]] \n",
      "\n",
      "\n"
     ]
    },
    {
     "name": "stderr",
     "output_type": "stream",
     "text": [
      "C:\\Users\\rbarr\\Anaconda3\\lib\\site-packages\\ipykernel_launcher.py:4: DeprecationWarning: This function is deprecated. Please call randint(1, 101 + 1) instead\n",
      "  after removing the cwd from sys.path.\n"
     ]
    }
   ],
   "source": [
    "a = np.random.random((2, 3, 5))\n",
    "a1 = np.random.rand(2, 3, 5)\n",
    "a2 = np.random.randint(101, size = (2, 3, 5))\n",
    "a3 = np.random.random_integers(101, size = (2, 3, 5))\n",
    "print(a, '\\n\\n')"
   ]
  },
  {
   "cell_type": "code",
   "execution_count": 5,
   "metadata": {},
   "outputs": [
    {
     "name": "stdout",
     "output_type": "stream",
     "text": [
      "[[[1 1]\n",
      "  [1 1]\n",
      "  [1 1]]\n",
      "\n",
      " [[1 1]\n",
      "  [1 1]\n",
      "  [1 1]]\n",
      "\n",
      " [[1 1]\n",
      "  [1 1]\n",
      "  [1 1]]\n",
      "\n",
      " [[1 1]\n",
      "  [1 1]\n",
      "  [1 1]]\n",
      "\n",
      " [[1 1]\n",
      "  [1 1]\n",
      "  [1 1]]] \n",
      "\n",
      "\n",
      "True \n",
      "\n",
      "\n",
      "False \n",
      "\n",
      "\n"
     ]
    }
   ],
   "source": [
    "b = np.ones((5, 3, 2), dtype = int)\n",
    "b1 = np.random.randint(1, 2, size = (5, 3, 2))\n",
    "print(b, '\\n\\n')\n",
    "print(a.size == b.size, '\\n\\n')\n",
    "print(a.shape == b.shape, '\\n\\n')"
   ]
  },
  {
   "cell_type": "code",
   "execution_count": 6,
   "metadata": {},
   "outputs": [
    {
     "name": "stdout",
     "output_type": "stream",
     "text": [
      "[[[1 1 1 1 1]\n",
      "  [1 1 1 1 1]\n",
      "  [1 1 1 1 1]]\n",
      "\n",
      " [[1 1 1 1 1]\n",
      "  [1 1 1 1 1]\n",
      "  [1 1 1 1 1]]] \n",
      "\n",
      "\n",
      "True \n",
      "\n",
      "\n",
      "True \n",
      "\n",
      "\n"
     ]
    }
   ],
   "source": [
    "c = b.T\n",
    "c1 = b.transpose()\n",
    "c2 = np.transpose(b)\n",
    "print(c, '\\n\\n')\n",
    "print(a.size == c.size, '\\n\\n')\n",
    "print(a.shape == c.shape, '\\n\\n')"
   ]
  },
  {
   "cell_type": "code",
   "execution_count": 7,
   "metadata": {},
   "outputs": [
    {
     "name": "stdout",
     "output_type": "stream",
     "text": [
      "[[[0.78880951 0.55957597 0.66695463 0.52644252 0.68868902]\n",
      "  [0.53564137 0.37914965 0.70407362 0.12872362 0.8455654 ]\n",
      "  [0.90476228 0.91983747 0.23117976 0.93933524 0.22597083]]\n",
      "\n",
      " [[0.79198097 0.67772611 0.73141591 0.26687977 0.69581685]\n",
      "  [0.2248575  0.26602637 0.08408424 0.84938186 0.94730539]\n",
      "  [0.87901224 0.20191186 0.63780328 0.51041547 0.46684125]]] \n",
      "\n",
      "\n",
      "[[[1.78880951 1.55957597 1.66695463 1.52644252 1.68868902]\n",
      "  [1.53564137 1.37914965 1.70407362 1.12872362 1.8455654 ]\n",
      "  [1.90476228 1.91983747 1.23117976 1.93933524 1.22597083]]\n",
      "\n",
      " [[1.79198097 1.67772611 1.73141591 1.26687977 1.69581685]\n",
      "  [1.2248575  1.26602637 1.08408424 1.84938186 1.94730539]\n",
      "  [1.87901224 1.20191186 1.63780328 1.51041547 1.46684125]]] \n",
      "\n",
      "\n"
     ]
    }
   ],
   "source": [
    "d = a + c\n",
    "print(a, '\\n\\n')\n",
    "print(d, '\\n\\n')"
   ]
  },
  {
   "cell_type": "code",
   "execution_count": 8,
   "metadata": {},
   "outputs": [
    {
     "name": "stdout",
     "output_type": "stream",
     "text": [
      "[[[0.78880951 0.55957597 0.66695463 0.52644252 0.68868902]\n",
      "  [0.53564137 0.37914965 0.70407362 0.12872362 0.8455654 ]\n",
      "  [0.90476228 0.91983747 0.23117976 0.93933524 0.22597083]]\n",
      "\n",
      " [[0.79198097 0.67772611 0.73141591 0.26687977 0.69581685]\n",
      "  [0.2248575  0.26602637 0.08408424 0.84938186 0.94730539]\n",
      "  [0.87901224 0.20191186 0.63780328 0.51041547 0.46684125]]] \n",
      "\n",
      "\n",
      "[[[0.78880951 0.55957597 0.66695463 0.52644252 0.68868902]\n",
      "  [0.53564137 0.37914965 0.70407362 0.12872362 0.8455654 ]\n",
      "  [0.90476228 0.91983747 0.23117976 0.93933524 0.22597083]]\n",
      "\n",
      " [[0.79198097 0.67772611 0.73141591 0.26687977 0.69581685]\n",
      "  [0.2248575  0.26602637 0.08408424 0.84938186 0.94730539]\n",
      "  [0.87901224 0.20191186 0.63780328 0.51041547 0.46684125]]] \n",
      "\n",
      "\n",
      "True\n"
     ]
    }
   ],
   "source": [
    "e = a * c\n",
    "print(a, '\\n\\n')\n",
    "print(e, '\\n\\n')\n",
    "print(np.array_equal(a, e))"
   ]
  },
  {
   "cell_type": "code",
   "execution_count": 9,
   "metadata": {},
   "outputs": [
    {
     "name": "stdout",
     "output_type": "stream",
     "text": [
      "1.9473053949337704 \n",
      "\n",
      "\n",
      "1.0840842406360371 \n",
      "\n",
      "\n",
      "1.575872331979131 \n",
      "\n",
      "\n"
     ]
    }
   ],
   "source": [
    "d_max = d.max()\n",
    "d_min = d.min()\n",
    "d_mean = d.mean()\n",
    "print(d_max, '\\n\\n')\n",
    "print(d_min, '\\n\\n')\n",
    "print(d_mean, '\\n\\n')"
   ]
  },
  {
   "cell_type": "code",
   "execution_count": 16,
   "metadata": {},
   "outputs": [
    {
     "name": "stdout",
     "output_type": "stream",
     "text": [
      "[[[1.78880951 1.55957597 1.66695463 1.52644252 1.68868902]\n",
      "  [1.53564137 1.37914965 1.70407362 1.12872362 1.8455654 ]\n",
      "  [1.90476228 1.91983747 1.23117976 1.93933524 1.22597083]]\n",
      "\n",
      " [[1.79198097 1.67772611 1.73141591 1.26687977 1.69581685]\n",
      "  [1.2248575  1.26602637 1.08408424 1.84938186 1.94730539]\n",
      "  [1.87901224 1.20191186 1.63780328 1.51041547 1.46684125]]] \n",
      "\n",
      "\n",
      "[[[ 75.  25.  75.  25.  75.]\n",
      "  [ 25.  25.  75.  25.  75.]\n",
      "  [ 75.  75.  25.  75.  25.]]\n",
      "\n",
      " [[ 75.  75.  75.  25.  75.]\n",
      "  [ 25.  25.   0.  75. 100.]\n",
      "  [ 75.  25.  75.  25.  25.]]] \n",
      "\n",
      "\n",
      "[[[1.78880951 1.55957597 1.66695463 1.52644252 1.68868902]\n",
      "  [1.53564137 1.37914965 1.70407362 1.12872362 1.8455654 ]\n",
      "  [1.90476228 1.91983747 1.23117976 1.93933524 1.22597083]]\n",
      "\n",
      " [[1.79198097 1.67772611 1.73141591 1.26687977 1.69581685]\n",
      "  [1.2248575  1.26602637 1.08408424 1.84938186 1.94730539]\n",
      "  [1.87901224 1.20191186 1.63780328 1.51041547 1.46684125]]] \n",
      "\n",
      "\n"
     ]
    }
   ],
   "source": [
    "f = d.copy()\n",
    "\n",
    "f[(f > d_min) & (f < d_mean)] = 25\n",
    "f[(f > d_mean) & (f < d_max)] = 75\n",
    "f[f == d_mean] = 50\n",
    "f[f == d_min] = 0\n",
    "f[f == d_max] = 100\n",
    "\n",
    "f1 = d.copy()\n",
    "\n",
    "for i in range(len(d)):\n",
    "    for j in range(len(d[i])):\n",
    "        for k in range(len(d[i][j])):\n",
    "            if d[i][j][k] == d_min:\n",
    "                g1[i][j][k] = 0\n",
    "            elif d[i][j][k] > d_min and d[i][j][k] < d_mean:\n",
    "                g1[i][j][k] = 25\n",
    "            elif d[i][j][k] == d_mean:\n",
    "                g1[i][j][k] = 50   \n",
    "            elif d[i][j][k] == d_mean and d[i][j][k] < d_max:\n",
    "                g1[i][j][k] = 75\n",
    "            elif d[i][j][k] == d_max:\n",
    "                g1[i][j][k] = 100\n",
    "            else:\n",
    "                g1[i][j][k] = None\n",
    "\n",
    "print(d, '\\n\\n')\n",
    "print(f, '\\n\\n')\n",
    "print(f1, '\\n\\n')"
   ]
  },
  {
   "cell_type": "code",
   "execution_count": 13,
   "metadata": {},
   "outputs": [
    {
     "name": "stdout",
     "output_type": "stream",
     "text": [
      "[[[1.78880951 1.55957597 1.66695463 1.52644252 1.68868902]\n",
      "  [1.53564137 1.37914965 1.70407362 1.12872362 1.8455654 ]\n",
      "  [1.90476228 1.91983747 1.23117976 1.93933524 1.22597083]]\n",
      "\n",
      " [[1.79198097 1.67772611 1.73141591 1.26687977 1.69581685]\n",
      "  [1.2248575  1.26602637 1.08408424 1.84938186 1.94730539]\n",
      "  [1.87901224 1.20191186 1.63780328 1.51041547 1.46684125]]] \n",
      "\n",
      "\n",
      "[[['D' 'B' 'D' 'B' 'D']\n",
      "  ['B' 'B' 'D' 'B' 'D']\n",
      "  ['D' 'D' 'B' 'D' 'B']]\n",
      "\n",
      " [['D' 'D' 'D' 'B' 'D']\n",
      "  ['B' 'B' 'A' 'D' 'E']\n",
      "  ['D' 'B' 'D' 'B' 'B']]] \n",
      "\n",
      "\n",
      "[[['D' 'B' 'D' 'B' 'D']\n",
      "  ['B' 'B' 'D' 'B' 'D']\n",
      "  ['D' 'D' 'B' 'D' 'B']]\n",
      "\n",
      " [['D' 'D' 'D' 'B' 'D']\n",
      "  ['B' 'B' 'A' 'D' 'E']\n",
      "  ['D' 'B' 'D' 'B' 'B']]] \n",
      "\n",
      "\n"
     ]
    }
   ],
   "source": [
    "g = f.copy().astype(str)\n",
    "\n",
    "g[f == 0] = 'A'\n",
    "g[f == 25] = 'B'\n",
    "g[f == 50] = 'C'\n",
    "g[f == 75] = 'D'\n",
    "g[f == 100] = 'E'\n",
    "\n",
    "g1 = d.copy().astype(str)\n",
    "\n",
    "for i in range(len(d)):\n",
    "    for j in range(len(d[i])):\n",
    "        for k in range(len(d[i][j])):\n",
    "            if d[i][j][k] == d_min:\n",
    "                g1[i][j][k] = 'A'\n",
    "            elif d[i][j][k] > d_min and d[i][j][k] < d_mean\n",
    "                g1[i][j][k] = 'B'\n",
    "            elif d[i][j][k] == d_mean:\n",
    "                g1[i][j][k] = 'C'   \n",
    "            elif d[i][j][k] == d_mean and d[i][j][k] < d_max:\n",
    "                g1[i][j][k] = 'D'\n",
    "            elif d[i][j][k] == d_max:\n",
    "                g1[i][j][k] = 'E'\n",
    "            else:\n",
    "                g1[i][j][k] = None\n",
    "\n",
    "print(d, '\\n\\n')\n",
    "print(g, '\\n\\n')\n",
    "print(g1, '\\n\\n')"
   ]
  },
  {
   "cell_type": "code",
   "execution_count": null,
   "metadata": {},
   "outputs": [],
   "source": []
  }
 ],
 "metadata": {
  "kernelspec": {
   "display_name": "Python 3",
   "language": "python",
   "name": "python3"
  },
  "language_info": {
   "codemirror_mode": {
    "name": "ipython",
    "version": 3
   },
   "file_extension": ".py",
   "mimetype": "text/x-python",
   "name": "python",
   "nbconvert_exporter": "python",
   "pygments_lexer": "ipython3",
   "version": "3.6.8"
  }
 },
 "nbformat": 4,
 "nbformat_minor": 2
}
