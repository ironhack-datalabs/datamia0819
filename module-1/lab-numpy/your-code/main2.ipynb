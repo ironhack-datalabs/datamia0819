{
 "cells": [
  {
   "cell_type": "code",
   "execution_count": 43,
   "metadata": {},
   "outputs": [
    {
     "name": "stdout",
     "output_type": "stream",
     "text": [
      "1.16.4 \n",
      "\n",
      "\n",
      "mkl_info:\n",
      "    libraries = ['mkl_rt']\n",
      "    library_dirs = ['C:/Users/rbarr/Anaconda3\\\\Library\\\\lib']\n",
      "    define_macros = [('SCIPY_MKL_H', None), ('HAVE_CBLAS', None)]\n",
      "    include_dirs = ['C:\\\\Program Files (x86)\\\\IntelSWTools\\\\compilers_and_libraries_2019.0.117\\\\windows\\\\mkl', 'C:\\\\Program Files (x86)\\\\IntelSWTools\\\\compilers_and_libraries_2019.0.117\\\\windows\\\\mkl\\\\include', 'C:\\\\Program Files (x86)\\\\IntelSWTools\\\\compilers_and_libraries_2019.0.117\\\\windows\\\\mkl\\\\lib', 'C:/Users/rbarr/Anaconda3\\\\Library\\\\include']\n",
      "blas_mkl_info:\n",
      "    libraries = ['mkl_rt']\n",
      "    library_dirs = ['C:/Users/rbarr/Anaconda3\\\\Library\\\\lib']\n",
      "    define_macros = [('SCIPY_MKL_H', None), ('HAVE_CBLAS', None)]\n",
      "    include_dirs = ['C:\\\\Program Files (x86)\\\\IntelSWTools\\\\compilers_and_libraries_2019.0.117\\\\windows\\\\mkl', 'C:\\\\Program Files (x86)\\\\IntelSWTools\\\\compilers_and_libraries_2019.0.117\\\\windows\\\\mkl\\\\include', 'C:\\\\Program Files (x86)\\\\IntelSWTools\\\\compilers_and_libraries_2019.0.117\\\\windows\\\\mkl\\\\lib', 'C:/Users/rbarr/Anaconda3\\\\Library\\\\include']\n",
      "blas_opt_info:\n",
      "    libraries = ['mkl_rt']\n",
      "    library_dirs = ['C:/Users/rbarr/Anaconda3\\\\Library\\\\lib']\n",
      "    define_macros = [('SCIPY_MKL_H', None), ('HAVE_CBLAS', None)]\n",
      "    include_dirs = ['C:\\\\Program Files (x86)\\\\IntelSWTools\\\\compilers_and_libraries_2019.0.117\\\\windows\\\\mkl', 'C:\\\\Program Files (x86)\\\\IntelSWTools\\\\compilers_and_libraries_2019.0.117\\\\windows\\\\mkl\\\\include', 'C:\\\\Program Files (x86)\\\\IntelSWTools\\\\compilers_and_libraries_2019.0.117\\\\windows\\\\mkl\\\\lib', 'C:/Users/rbarr/Anaconda3\\\\Library\\\\include']\n",
      "lapack_mkl_info:\n",
      "    libraries = ['mkl_rt']\n",
      "    library_dirs = ['C:/Users/rbarr/Anaconda3\\\\Library\\\\lib']\n",
      "    define_macros = [('SCIPY_MKL_H', None), ('HAVE_CBLAS', None)]\n",
      "    include_dirs = ['C:\\\\Program Files (x86)\\\\IntelSWTools\\\\compilers_and_libraries_2019.0.117\\\\windows\\\\mkl', 'C:\\\\Program Files (x86)\\\\IntelSWTools\\\\compilers_and_libraries_2019.0.117\\\\windows\\\\mkl\\\\include', 'C:\\\\Program Files (x86)\\\\IntelSWTools\\\\compilers_and_libraries_2019.0.117\\\\windows\\\\mkl\\\\lib', 'C:/Users/rbarr/Anaconda3\\\\Library\\\\include']\n",
      "lapack_opt_info:\n",
      "    libraries = ['mkl_rt']\n",
      "    library_dirs = ['C:/Users/rbarr/Anaconda3\\\\Library\\\\lib']\n",
      "    define_macros = [('SCIPY_MKL_H', None), ('HAVE_CBLAS', None)]\n",
      "    include_dirs = ['C:\\\\Program Files (x86)\\\\IntelSWTools\\\\compilers_and_libraries_2019.0.117\\\\windows\\\\mkl', 'C:\\\\Program Files (x86)\\\\IntelSWTools\\\\compilers_and_libraries_2019.0.117\\\\windows\\\\mkl\\\\include', 'C:\\\\Program Files (x86)\\\\IntelSWTools\\\\compilers_and_libraries_2019.0.117\\\\windows\\\\mkl\\\\lib', 'C:/Users/rbarr/Anaconda3\\\\Library\\\\include']\n",
      "None\n"
     ]
    }
   ],
   "source": [
    "import numpy as np\n",
    "\n",
    "print(np.__version__, '\\n\\n')\n",
    "print(np.show_config())"
   ]
  },
  {
   "cell_type": "code",
   "execution_count": 44,
   "metadata": {},
   "outputs": [
    {
     "name": "stdout",
     "output_type": "stream",
     "text": [
      "[[[0.08383157 0.15257845 0.90432785 0.14107541 0.03438504]\n",
      "  [0.6719631  0.91465938 0.34543607 0.34345476 0.83993454]\n",
      "  [0.81383427 0.74416843 0.17506768 0.60011802 0.05803383]]\n",
      "\n",
      " [[0.57645127 0.31370629 0.54411758 0.12101357 0.70672101]\n",
      "  [0.6618312  0.35823685 0.09458892 0.84804599 0.01263161]\n",
      "  [0.22557192 0.88788844 0.11774078 0.55379225 0.11212975]]] \n",
      "\n",
      "\n"
     ]
    },
    {
     "name": "stderr",
     "output_type": "stream",
     "text": [
      "C:\\Users\\rbarr\\Anaconda3\\lib\\site-packages\\ipykernel_launcher.py:4: DeprecationWarning: This function is deprecated. Please call randint(1, 101 + 1) instead\n",
      "  after removing the cwd from sys.path.\n"
     ]
    }
   ],
   "source": [
    "a = np.random.random((2, 3, 5))\n",
    "a1 = np.random.rand(2, 3, 5)\n",
    "a2 = np.random.randint(101, size = (2, 3, 5))\n",
    "a3 = np.random.random_integers(101, size = (2, 3, 5))\n",
    "print(a, '\\n\\n')"
   ]
  },
  {
   "cell_type": "code",
   "execution_count": 45,
   "metadata": {},
   "outputs": [
    {
     "name": "stdout",
     "output_type": "stream",
     "text": [
      "[[[1 1]\n",
      "  [1 1]\n",
      "  [1 1]]\n",
      "\n",
      " [[1 1]\n",
      "  [1 1]\n",
      "  [1 1]]\n",
      "\n",
      " [[1 1]\n",
      "  [1 1]\n",
      "  [1 1]]\n",
      "\n",
      " [[1 1]\n",
      "  [1 1]\n",
      "  [1 1]]\n",
      "\n",
      " [[1 1]\n",
      "  [1 1]\n",
      "  [1 1]]] \n",
      "\n",
      "\n",
      "True \n",
      "\n",
      "\n",
      "False \n",
      "\n",
      "\n"
     ]
    }
   ],
   "source": [
    "b = np.ones((5, 3, 2), dtype = int)\n",
    "b1 = np.random.randint(1, 2, size = (5, 3, 2))\n",
    "print(b, '\\n\\n')\n",
    "print(a.size == b.size, '\\n\\n')\n",
    "print(a.shape == b.shape, '\\n\\n')"
   ]
  },
  {
   "cell_type": "code",
   "execution_count": 46,
   "metadata": {},
   "outputs": [
    {
     "name": "stdout",
     "output_type": "stream",
     "text": [
      "[[[1 1 1 1 1]\n",
      "  [1 1 1 1 1]\n",
      "  [1 1 1 1 1]]\n",
      "\n",
      " [[1 1 1 1 1]\n",
      "  [1 1 1 1 1]\n",
      "  [1 1 1 1 1]]] \n",
      "\n",
      "\n",
      "True \n",
      "\n",
      "\n",
      "True \n",
      "\n",
      "\n"
     ]
    }
   ],
   "source": [
    "c = b.T\n",
    "c1 = b.transpose()\n",
    "c2 = np.transpose(b)\n",
    "print(c, '\\n\\n')\n",
    "print(a.size == c.size, '\\n\\n')\n",
    "print(a.shape == c.shape, '\\n\\n')"
   ]
  },
  {
   "cell_type": "code",
   "execution_count": 111,
   "metadata": {},
   "outputs": [
    {
     "name": "stdout",
     "output_type": "stream",
     "text": [
      "[[[0.08383157 0.15257845 0.90432785 0.14107541 0.03438504]\n",
      "  [0.6719631  0.91465938 0.34543607 0.34345476 0.83993454]\n",
      "  [0.81383427 0.74416843 0.17506768 0.60011802 0.05803383]]\n",
      "\n",
      " [[0.57645127 0.31370629 0.54411758 0.12101357 0.70672101]\n",
      "  [0.6618312  0.35823685 0.09458892 0.84804599 0.01263161]\n",
      "  [0.22557192 0.88788844 0.11774078 0.55379225 0.11212975]]] \n",
      "\n",
      "\n",
      "[[[1.08383157 1.15257845 1.90432785 1.14107541 1.03438504]\n",
      "  [1.6719631  1.91465938 1.34543607 1.34345476 1.83993454]\n",
      "  [1.81383427 1.74416843 1.17506768 1.60011802 1.05803383]]\n",
      "\n",
      " [[1.57645127 1.31370629 1.54411758 1.12101357 1.70672101]\n",
      "  [1.6618312  1.35823685 1.09458892 1.84804599 1.01263161]\n",
      "  [1.22557192 1.88788844 1.11774078 1.55379225 1.11212975]]] \n",
      "\n",
      "\n"
     ]
    }
   ],
   "source": [
    "d = a + c\n",
    "print(a, '\\n\\n')\n",
    "print(d, '\\n\\n')"
   ]
  },
  {
   "cell_type": "code",
   "execution_count": 82,
   "metadata": {},
   "outputs": [
    {
     "name": "stdout",
     "output_type": "stream",
     "text": [
      "[[[0.08383157 0.15257845 0.90432785 0.14107541 0.03438504]\n",
      "  [0.6719631  0.91465938 0.34543607 0.34345476 0.83993454]\n",
      "  [0.81383427 0.74416843 0.17506768 0.60011802 0.05803383]]\n",
      "\n",
      " [[0.57645127 0.31370629 0.54411758 0.12101357 0.70672101]\n",
      "  [0.6618312  0.35823685 0.09458892 0.84804599 0.01263161]\n",
      "  [0.22557192 0.88788844 0.11774078 0.55379225 0.11212975]]] \n",
      "\n",
      "\n",
      "[[[0.08383157 0.15257845 0.90432785 0.14107541 0.03438504]\n",
      "  [0.6719631  0.91465938 0.34543607 0.34345476 0.83993454]\n",
      "  [0.81383427 0.74416843 0.17506768 0.60011802 0.05803383]]\n",
      "\n",
      " [[0.57645127 0.31370629 0.54411758 0.12101357 0.70672101]\n",
      "  [0.6618312  0.35823685 0.09458892 0.84804599 0.01263161]\n",
      "  [0.22557192 0.88788844 0.11774078 0.55379225 0.11212975]]] \n",
      "\n",
      "\n",
      "True\n"
     ]
    }
   ],
   "source": [
    "e = a * c\n",
    "print(a, '\\n\\n')\n",
    "print(e, '\\n\\n')\n",
    "print(np.array_equal(a, e))"
   ]
  },
  {
   "cell_type": "code",
   "execution_count": 92,
   "metadata": {},
   "outputs": [
    {
     "name": "stdout",
     "output_type": "stream",
     "text": [
      "1.914659380527626 \n",
      "\n",
      "\n",
      "1.012631607275837 \n",
      "\n",
      "\n",
      "1.4319111937592102 \n",
      "\n",
      "\n"
     ]
    }
   ],
   "source": [
    "d_max = d.max()\n",
    "d_min = d.min()\n",
    "d_mean = d.mean()\n",
    "print(d_max, '\\n\\n')\n",
    "print(d_min, '\\n\\n')\n",
    "print(d_mean, '\\n\\n')"
   ]
  },
  {
   "cell_type": "code",
   "execution_count": 115,
   "metadata": {},
   "outputs": [
    {
     "name": "stdout",
     "output_type": "stream",
     "text": [
      "[[[1.08383157 1.15257845 1.90432785 1.14107541 1.03438504]\n",
      "  [1.6719631  1.91465938 1.34543607 1.34345476 1.83993454]\n",
      "  [1.81383427 1.74416843 1.17506768 1.60011802 1.05803383]]\n",
      "\n",
      " [[1.57645127 1.31370629 1.54411758 1.12101357 1.70672101]\n",
      "  [1.6618312  1.35823685 1.09458892 1.84804599 1.01263161]\n",
      "  [1.22557192 1.88788844 1.11774078 1.55379225 1.11212975]]] \n",
      "\n",
      "\n",
      "[[[ 25.  25.  75.  25.  25.]\n",
      "  [ 75. 100.  25.  25.  75.]\n",
      "  [ 75.  75.  25.  75.  25.]]\n",
      "\n",
      " [[ 75.  25.  75.  25.  75.]\n",
      "  [ 75.  25.  25.  75.   0.]\n",
      "  [ 25.  75.  25.  75.  25.]]] \n",
      "\n",
      "\n",
      "[[[ 25.  25.  75.  25.  25.]\n",
      "  [ 75. 100.  25.  25.  75.]\n",
      "  [ 75.  75.  25.  75.  25.]]\n",
      "\n",
      " [[ 75.  25.  75.  25.  75.]\n",
      "  [ 75.  25.  25.  75.   0.]\n",
      "  [ 25.  75.  25.  75.  25.]]] \n",
      "\n",
      "\n"
     ]
    }
   ],
   "source": [
    "f = d.copy()\n",
    "\n",
    "f[(f > d_min) & (f < d_mean)] = 25\n",
    "f[(f > d_mean) & (f < d_max)] = 75\n",
    "f[f == d_mean] = 50\n",
    "f[f == d_min] = 0\n",
    "f[f == d_max] = 100\n",
    "\n",
    "f1 = d.copy()\n",
    "\n",
    "for i in range(len(d)):\n",
    "    for j in range(len(d[i])):\n",
    "        for k in range(len(d[i][j])):\n",
    "            if d[i][j][k] > d_min and d[i][j][k] < d_mean:\n",
    "                f1[i][j][k] = 25\n",
    "            elif d[i][j][k] > d_mean and d[i][j][k] < d_max:\n",
    "                f1[i][j][k] = 75\n",
    "            elif d[i][j][k] == d_mean:\n",
    "                f1[i][j][k] = 50   \n",
    "            elif d[i][j][k] == d_min:\n",
    "                f1[i][j][k] = 0\n",
    "            elif d[i][j][k] == d_max:\n",
    "                f1[i][j][k] = 100\n",
    "            else:\n",
    "                f1[i][j][k] = None\n",
    "\n",
    "print(d, '\\n\\n')\n",
    "print(f, '\\n\\n')\n",
    "print(f1, '\\n\\n')"
   ]
  },
  {
   "cell_type": "code",
   "execution_count": 131,
   "metadata": {},
   "outputs": [
    {
     "name": "stdout",
     "output_type": "stream",
     "text": [
      "[[[1.08383157 1.15257845 1.90432785 1.14107541 1.03438504]\n",
      "  [1.6719631  1.91465938 1.34543607 1.34345476 1.83993454]\n",
      "  [1.81383427 1.74416843 1.17506768 1.60011802 1.05803383]]\n",
      "\n",
      " [[1.57645127 1.31370629 1.54411758 1.12101357 1.70672101]\n",
      "  [1.6618312  1.35823685 1.09458892 1.84804599 1.01263161]\n",
      "  [1.22557192 1.88788844 1.11774078 1.55379225 1.11212975]]] \n",
      "\n",
      "\n",
      "[[['B' 'B' 'D' 'B' 'B']\n",
      "  ['D' 'E' 'B' 'B' 'D']\n",
      "  ['D' 'D' 'B' 'D' 'B']]\n",
      "\n",
      " [['D' 'B' 'D' 'B' 'D']\n",
      "  ['D' 'B' 'B' 'D' 'A']\n",
      "  ['B' 'D' 'B' 'D' 'B']]] \n",
      "\n",
      "\n",
      "[[['B' 'B' 'D' 'B' 'B']\n",
      "  ['D' 'E' 'B' 'B' 'D']\n",
      "  ['D' 'D' 'B' 'D' 'B']]\n",
      "\n",
      " [['D' 'B' 'D' 'B' 'D']\n",
      "  ['D' 'B' 'B' 'D' 'A']\n",
      "  ['B' 'D' 'B' 'D' 'B']]] \n",
      "\n",
      "\n"
     ]
    }
   ],
   "source": [
    "g = f.copy().astype(str)\n",
    "\n",
    "g[f == 0] = 'A'\n",
    "g[f == 25] = 'B'\n",
    "g[f == 50] = 'C'\n",
    "g[f == 75] = 'D'\n",
    "g[f == 100] = 'E'\n",
    "\n",
    "g1 = d.copy().astype(str)\n",
    "\n",
    "for i in range(len(d)):\n",
    "    for j in range(len(d[i])):\n",
    "        for k in range(len(d[i][j])):\n",
    "            if d[i][j][k] > d_min and d[i][j][k] < d_mean:\n",
    "                g1[i][j][k] = 'B'\n",
    "            elif d[i][j][k] > d_mean and d[i][j][k] < d_max:\n",
    "                g1[i][j][k] = 'D'\n",
    "            elif d[i][j][k] == d_mean:\n",
    "                g1[i][j][k] = 'C'   \n",
    "            elif d[i][j][k] == d_min:\n",
    "                g1[i][j][k] = 'A'\n",
    "            elif d[i][j][k] == d_max:\n",
    "                g1[i][j][k] = 'E'\n",
    "            else:\n",
    "                g1[i][j][k] = None\n",
    "\n",
    "print(d, '\\n\\n')\n",
    "print(g, '\\n\\n')\n",
    "print(g1, '\\n\\n')"
   ]
  },
  {
   "cell_type": "code",
   "execution_count": null,
   "metadata": {},
   "outputs": [],
   "source": []
  }
 ],
 "metadata": {
  "kernelspec": {
   "display_name": "Python 3",
   "language": "python",
   "name": "python3"
  },
  "language_info": {
   "codemirror_mode": {
    "name": "ipython",
    "version": 3
   },
   "file_extension": ".py",
   "mimetype": "text/x-python",
   "name": "python",
   "nbconvert_exporter": "python",
   "pygments_lexer": "ipython3",
   "version": "3.6.8"
  }
 },
 "nbformat": 4,
 "nbformat_minor": 2
}
