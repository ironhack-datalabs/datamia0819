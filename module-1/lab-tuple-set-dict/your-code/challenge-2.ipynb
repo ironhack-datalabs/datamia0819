{
 "cells": [
  {
   "cell_type": "markdown",
   "metadata": {},
   "source": [
    "## Challenge 2: Sets\n",
    "\n",
    "There are a lot to learn about Python Sets and the information presented in the lesson is limited due to its length. To learn Python Sets in depth you are strongly encouraged to review the W3Schools tutorial on [Python Sets Examples and Methods](https://www.w3schools.com/python/python_sets.asp) before you work on this lab. Some difficult questions in this lab have their solutions in the W3Schools tutorial.\n",
    "\n",
    "#### First, import the Python `random` libary"
   ]
  },
  {
   "cell_type": "code",
   "execution_count": null,
   "metadata": {},
   "outputs": [],
   "source": [
    "import random"
   ]
  },
  {
   "cell_type": "markdown",
   "metadata": {},
   "source": [
    "#### In the cell below, create a list named `sample_list_1` with 80 random values. \n",
    "\n",
    "Requirements:\n",
    "\n",
    "* Each value is an integer falling between 0 and 100.\n",
    "* Each value in the list is unique.\n",
    "\n",
    "Print `sample_list_1` to review its values\n",
    "\n",
    "*Hint: use `random.sample` ([reference](https://docs.python.org/3/library/random.html#random.sample)).*"
   ]
  },
  {
   "cell_type": "code",
   "execution_count": 11,
   "metadata": {},
   "outputs": [
    {
     "name": "stdout",
     "output_type": "stream",
     "text": [
      "[85, 9, 11, 34, 45, 81, 30, 82, 67, 72, 1, 33, 95, 41, 82, 10, 95, 85, 80, 38, 25, 49, 25, 98, 8, 27, 93, 3, 43, 88, 50, 38, 36, 82, 32, 32, 50, 100, 69, 60, 19, 89, 19, 71, 66, 40, 18, 95, 55, 99, 53, 94, 37, 50, 75, 54, 52, 82, 63, 82, 68, 70, 59, 65, 75, 58, 17, 60, 93, 68, 67, 66, 95, 70, 82, 10, 6, 60, 4, 92]\n",
      "len: 80\n",
      "[79, 52, 16, 42, 94, 31, 3, 85, 24, 50, 38, 28, 76, 83, 22, 87, 96, 86, 33, 63, 12, 18, 71, 68, 14, 26, 23, 48, 43, 88, 70, 61, 20, 73, 29, 91, 4, 17, 32, 69, 64, 62, 30, 49, 54, 60, 84, 27, 0, 98, 2, 92, 21, 34, 37, 82, 36, 65, 72, 6, 99, 67, 45, 75, 53, 89, 74, 19, 7, 77, 93, 8, 5, 11, 51, 78, 41, 90, 13, 66]\n",
      "len: 80\n"
     ]
    }
   ],
   "source": [
    "# Your code here\n",
    "import random\n",
    "sample_list_1=[random.randint(1,100) for i in range(80)]\n",
    "print(sample_list_1)\n",
    "print('len:',len(sample_list_1))\n",
    "#another way\n",
    "sample_list=random.sample(range(100), k=80)\n",
    "print(sample_list)\n",
    "print('len:',len(sample_list))"
   ]
  },
  {
   "cell_type": "markdown",
   "metadata": {},
   "source": [
    "#### Convert `sample_list_1` to a set called `set1`. Print the length of the set. Is its length still 80?"
   ]
  },
  {
   "cell_type": "code",
   "execution_count": 10,
   "metadata": {},
   "outputs": [
    {
     "data": {
      "text/plain": [
       "54"
      ]
     },
     "execution_count": 10,
     "metadata": {},
     "output_type": "execute_result"
    }
   ],
   "source": [
    "# Your code here\n",
    "set1=set(sample_list_1)\n",
    "len(set1)"
   ]
  },
  {
   "cell_type": "markdown",
   "metadata": {},
   "source": [
    "#### Create another list named `sample_list_2` with 80 random values.\n",
    "\n",
    "Requirements:\n",
    "\n",
    "* Each value is an integer falling between 0 and 100.\n",
    "* The values in the list don't have to be unique.\n",
    "\n",
    "*Hint: Use a FOR loop.*"
   ]
  },
  {
   "cell_type": "code",
   "execution_count": 12,
   "metadata": {},
   "outputs": [
    {
     "name": "stdout",
     "output_type": "stream",
     "text": [
      "[38, 95, 4, 22, 26, 73, 87, 37, 45, 48, 63, 86, 37, 75, 13, 67, 3, 94, 74, 75, 96, 7, 25, 34, 3, 82, 33, 26, 82, 96, 32, 9, 56, 1, 92, 92, 28, 57, 39, 94, 23, 51, 43, 17, 36, 83, 15, 82, 38, 27, 53, 42, 90, 70, 5, 39, 37, 24, 21, 38, 46, 54, 3, 54, 21, 42, 89, 69, 79, 71, 86, 87, 40, 83, 9, 12, 70, 39, 12, 79]\n",
      "len: 80\n"
     ]
    }
   ],
   "source": [
    "# Your code here\n",
    "sample_list_2=[random.randint(1,100) for i in range(80)]\n",
    "print(sample_list_2)\n",
    "print('len:',len(sample_list_2))"
   ]
  },
  {
   "cell_type": "markdown",
   "metadata": {},
   "source": [
    "#### Convert `sample_list_2` to a set called `set2`. Print the length of the set. Is its length still 80?"
   ]
  },
  {
   "cell_type": "code",
   "execution_count": 13,
   "metadata": {},
   "outputs": [
    {
     "data": {
      "text/plain": [
       "55"
      ]
     },
     "execution_count": 13,
     "metadata": {},
     "output_type": "execute_result"
    }
   ],
   "source": [
    "# Your code here\n",
    "set2=set(sample_list_2)\n",
    "len(set2)"
   ]
  },
  {
   "cell_type": "markdown",
   "metadata": {},
   "source": [
    "#### Identify the elements present in `set1` but not in `set2`. Assign the elements to a new set named `set3`."
   ]
  },
  {
   "cell_type": "code",
   "execution_count": 23,
   "metadata": {},
   "outputs": [
    {
     "name": "stdout",
     "output_type": "stream",
     "text": [
      "<class 'set'>\n"
     ]
    },
    {
     "data": {
      "text/plain": [
       "{10,\n",
       " 19,\n",
       " 29,\n",
       " 44,\n",
       " 47,\n",
       " 49,\n",
       " 50,\n",
       " 52,\n",
       " 55,\n",
       " 59,\n",
       " 62,\n",
       " 65,\n",
       " 66,\n",
       " 68,\n",
       " 76,\n",
       " 77,\n",
       " 78,\n",
       " 80,\n",
       " 81,\n",
       " 84,\n",
       " 85,\n",
       " 88,\n",
       " 91,\n",
       " 98,\n",
       " 100}"
      ]
     },
     "execution_count": 23,
     "metadata": {},
     "output_type": "execute_result"
    }
   ],
   "source": [
    "# Your code here\n",
    "set3=set()\n",
    "print(type(set3))\n",
    "for i in set1:\n",
    "    if i not in set2:\n",
    "        set3.add(i)\n",
    "set3"
   ]
  },
  {
   "cell_type": "markdown",
   "metadata": {},
   "source": [
    "#### Identify the elements present in `set2` but not in `set1`. Assign the elements to a new set named `set4`."
   ]
  },
  {
   "cell_type": "code",
   "execution_count": 24,
   "metadata": {},
   "outputs": [
    {
     "name": "stdout",
     "output_type": "stream",
     "text": [
      "<class 'set'>\n"
     ]
    },
    {
     "data": {
      "text/plain": [
       "{4,\n",
       " 12,\n",
       " 13,\n",
       " 15,\n",
       " 23,\n",
       " 24,\n",
       " 28,\n",
       " 32,\n",
       " 34,\n",
       " 36,\n",
       " 37,\n",
       " 38,\n",
       " 39,\n",
       " 45,\n",
       " 46,\n",
       " 48,\n",
       " 53,\n",
       " 54,\n",
       " 56,\n",
       " 69,\n",
       " 74,\n",
       " 86,\n",
       " 89,\n",
       " 94,\n",
       " 95,\n",
       " 96}"
      ]
     },
     "execution_count": 24,
     "metadata": {},
     "output_type": "execute_result"
    }
   ],
   "source": [
    "# Your code here\n",
    "set4=set()\n",
    "print(type(set4))\n",
    "for i in set2:\n",
    "    if i not in set1:\n",
    "        set4.add(i)\n",
    "set4"
   ]
  },
  {
   "cell_type": "markdown",
   "metadata": {},
   "source": [
    "#### Now Identify the elements shared between `set1` and `set2`. Assign the elements to a new set named `set5`."
   ]
  },
  {
   "cell_type": "code",
   "execution_count": 25,
   "metadata": {},
   "outputs": [
    {
     "data": {
      "text/plain": [
       "{1,\n",
       " 3,\n",
       " 5,\n",
       " 7,\n",
       " 9,\n",
       " 17,\n",
       " 21,\n",
       " 22,\n",
       " 25,\n",
       " 26,\n",
       " 27,\n",
       " 33,\n",
       " 40,\n",
       " 42,\n",
       " 43,\n",
       " 51,\n",
       " 57,\n",
       " 63,\n",
       " 67,\n",
       " 70,\n",
       " 71,\n",
       " 73,\n",
       " 75,\n",
       " 79,\n",
       " 82,\n",
       " 83,\n",
       " 87,\n",
       " 90,\n",
       " 92}"
      ]
     },
     "execution_count": 25,
     "metadata": {},
     "output_type": "execute_result"
    }
   ],
   "source": [
    "# Your code here\n",
    "set5=set1.intersection(set2)\n",
    "set5"
   ]
  },
  {
   "cell_type": "markdown",
   "metadata": {},
   "source": [
    "#### What is the relationship among the following values:\n",
    "\n",
    "* len(set1)\n",
    "* len(set2)\n",
    "* len(set3)\n",
    "* len(set4)\n",
    "* len(set5)\n",
    "\n",
    "Use a math formular to represent that relationship. Test your formular with Python code."
   ]
  },
  {
   "cell_type": "code",
   "execution_count": 75,
   "metadata": {},
   "outputs": [
    {
     "name": "stdout",
     "output_type": "stream",
     "text": [
      "set1: 42 set2: 55 set3: 54 set4: 26 set5: 29\n",
      " Set 1 ans Set 2 are NOT equal length\n"
     ]
    },
    {
     "data": {
      "text/plain": [
       "(42, 55)"
      ]
     },
     "execution_count": 75,
     "metadata": {},
     "output_type": "execute_result"
    }
   ],
   "source": [
    "# Your code here\n",
    "print('set1:',len(set1),'set2:',len(set2),'set3:',len(set3),'set4:',len(set4),'set5:',len(set5))\n",
    "if len(set1)==len(set2):\n",
    "    print(\" Set 1 ans Set 2 are equal length\")\n",
    "else: \n",
    "    print(\" Set 1 ans Set 2 are NOT equal length\")\n",
    "if len(set1)==len(set3)+len(set2):\n",
    "    print('yay')\n",
    "# len(set3)\n",
    "# len(set4)\n",
    "# len(set5)\n",
    "len(set1),len(set2)"
   ]
  },
  {
   "cell_type": "markdown",
   "metadata": {},
   "source": [
    "#### Create an empty set called `set6`."
   ]
  },
  {
   "cell_type": "code",
   "execution_count": 37,
   "metadata": {},
   "outputs": [
    {
     "name": "stdout",
     "output_type": "stream",
     "text": [
      "{1, 2, 3, 5, 6, 7}\n"
     ]
    }
   ],
   "source": [
    "# Your code here\n",
    "set6=set()\n"
   ]
  },
  {
   "cell_type": "markdown",
   "metadata": {},
   "source": [
    "#### Add `set3` and `set5` to `set6` using the Python Set `update` method."
   ]
  },
  {
   "cell_type": "code",
   "execution_count": 39,
   "metadata": {},
   "outputs": [
    {
     "data": {
      "text/plain": [
       "54"
      ]
     },
     "execution_count": 39,
     "metadata": {},
     "output_type": "execute_result"
    }
   ],
   "source": [
    "# Your code here\n",
    "set6=set3\n",
    "set6.update(set5)\n",
    "len(set6)"
   ]
  },
  {
   "cell_type": "markdown",
   "metadata": {},
   "source": [
    "#### Check if `set1` and `set6` are equal."
   ]
  },
  {
   "cell_type": "code",
   "execution_count": 40,
   "metadata": {},
   "outputs": [
    {
     "name": "stdout",
     "output_type": "stream",
     "text": [
      "Yes\n"
     ]
    }
   ],
   "source": [
    "# Your code here\n",
    "if set1==set6:\n",
    "    print('Yes')"
   ]
  },
  {
   "cell_type": "markdown",
   "metadata": {},
   "source": [
    "#### Check if `set1` contains `set2` using the Python Set `issubset` method. Then check if `set1` contains `set3`.*"
   ]
  },
  {
   "cell_type": "code",
   "execution_count": 48,
   "metadata": {},
   "outputs": [
    {
     "data": {
      "text/plain": [
       "(False, True)"
      ]
     },
     "execution_count": 48,
     "metadata": {},
     "output_type": "execute_result"
    }
   ],
   "source": [
    "# Your code here\n",
    "z = set2.issubset(set1) \n",
    "y=set3.issubset(set1)\n",
    "\n",
    "z,y"
   ]
  },
  {
   "cell_type": "markdown",
   "metadata": {},
   "source": [
    "#### Using the Python Set `union` method, aggregate `set3`, `set4`, and `set5`. Then aggregate `set1` and `set2`. \n",
    "\n",
    "#### Check if the aggregated values are equal."
   ]
  },
  {
   "cell_type": "code",
   "execution_count": 50,
   "metadata": {},
   "outputs": [
    {
     "name": "stdout",
     "output_type": "stream",
     "text": [
      "yes\n"
     ]
    }
   ],
   "source": [
    "# Your code here\n",
    "set9=set3.union(set4,set5)\n",
    "set10=set1.union(set2)\n",
    "if set9==set10:\n",
    "    print('yes')"
   ]
  },
  {
   "cell_type": "markdown",
   "metadata": {},
   "source": [
    "#### Using the `pop` method, remove the first element from `set1`."
   ]
  },
  {
   "cell_type": "code",
   "execution_count": 56,
   "metadata": {},
   "outputs": [
    {
     "data": {
      "text/plain": [
       "{2, 3, 4}"
      ]
     },
     "execution_count": 56,
     "metadata": {},
     "output_type": "execute_result"
    }
   ],
   "source": [
    "# Your code here\n",
    "s=set((1,2,3,4))\n",
    "s.pop()\n",
    "s"
   ]
  },
  {
   "cell_type": "markdown",
   "metadata": {},
   "source": [
    "#### Remove every element in the following list from `set1` if they are present in the set. Print the remaining elements.\n",
    "\n",
    "```\n",
    "list_to_remove = [1, 9, 11, 19, 21, 29, 31, 39, 41, 49, 51, 59, 61, 69, 71, 79, 81, 89, 91, 99]\n",
    "```"
   ]
  },
  {
   "cell_type": "code",
   "execution_count": 63,
   "metadata": {},
   "outputs": [
    {
     "data": {
      "text/plain": [
       "{3,\n",
       " 5,\n",
       " 7,\n",
       " 10,\n",
       " 17,\n",
       " 22,\n",
       " 25,\n",
       " 26,\n",
       " 27,\n",
       " 33,\n",
       " 40,\n",
       " 42,\n",
       " 43,\n",
       " 44,\n",
       " 47,\n",
       " 50,\n",
       " 52,\n",
       " 55,\n",
       " 57,\n",
       " 62,\n",
       " 63,\n",
       " 65,\n",
       " 66,\n",
       " 67,\n",
       " 68,\n",
       " 70,\n",
       " 73,\n",
       " 75,\n",
       " 76,\n",
       " 77,\n",
       " 78,\n",
       " 80,\n",
       " 82,\n",
       " 83,\n",
       " 84,\n",
       " 85,\n",
       " 87,\n",
       " 88,\n",
       " 90,\n",
       " 92,\n",
       " 98,\n",
       " 100}"
      ]
     },
     "execution_count": 63,
     "metadata": {},
     "output_type": "execute_result"
    }
   ],
   "source": [
    "# Your code here\n",
    "list_to_remove = [1, 9, 11, 19, 21, 29, 31, 39, 41, 49, 51, 59, 61, 69, 71, 79, 81, 89, 91, 99]\n",
    "for i in list_to_remove:\n",
    "    \n",
    "    if i in set1:\n",
    "        \n",
    "        set1.discard(i)\n",
    "set1"
   ]
  },
  {
   "cell_type": "code",
   "execution_count": null,
   "metadata": {},
   "outputs": [],
   "source": []
  }
 ],
 "metadata": {
  "kernelspec": {
   "display_name": "Python 3",
   "language": "python",
   "name": "python3"
  },
  "language_info": {
   "codemirror_mode": {
    "name": "ipython",
    "version": 3
   },
   "file_extension": ".py",
   "mimetype": "text/x-python",
   "name": "python",
   "nbconvert_exporter": "python",
   "pygments_lexer": "ipython3",
   "version": "3.7.3"
  }
 },
 "nbformat": 4,
 "nbformat_minor": 2
}
