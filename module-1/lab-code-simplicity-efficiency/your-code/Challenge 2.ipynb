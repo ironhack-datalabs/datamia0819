{
 "cells": [
  {
   "cell_type": "code",
   "execution_count": 1,
   "metadata": {},
   "outputs": [
    {
     "name": "stdout",
     "output_type": "stream",
     "text": [
      "Enter minimum string length: 8\n",
      "Enter maximum string length: 50\n",
      "How many random strings to generate? 9\n",
      "['owybwww85m06oq2wj0wz92', 'j87gq0mhbpu4nkryosnpz0504cb2sa9do748qfe', 'd3z7n2kp8x2fheckhrowbcp1kbv07erk0r9tdjaoz8em2a9', 'oypbi9gxr756r501dujqon6veffyeex', '15dsllc2fxtjeyjc', '38932tietzfpxts8n04osdoo0ke60k4pqgbwkqm', '0r5dc14ywik25awaicepiysm4pqv42ijmu26wv0w65qyoatt', 'sc4bni8bjm0t', '2voivzzt8cvtagdamzas20zxvs0rhe2ug']\n"
     ]
    }
   ],
   "source": [
    "\"\"\"\n",
    "The code below generates a given number of random strings that consists of numbers and \n",
    "lower case English letters. You can also define the range of the variable lengths of\n",
    "the strings being generated.\n",
    "\n",
    "The code is functional but has a lot of room for improvement. Use what you have learned\n",
    "about simple and efficient code, refactor the code.\n",
    "\"\"\"\n",
    "\n",
    "def RandomStringGenerator(l=12, a=['a','b','c','d','e','f','g','h','i','j','k','l','m','n','o','p','q','r','s','t','u','v','w','x','y','z','0','1','2','3','4','5','6','7','8','9']):\n",
    "    p = 0\n",
    "    s = ''\n",
    "    while p<l:\n",
    "        import random\n",
    "        s += random.choice(a)\n",
    "        p += 1\n",
    "    return s\n",
    "\n",
    "def BatchStringGenerator(n, a=8, b=12):\n",
    "    r = []\n",
    "    for i in range(n):\n",
    "        c = None\n",
    "        if a < b:\n",
    "            import random\n",
    "            c = random.choice(range(a, b))\n",
    "        elif a == b:\n",
    "            c = a\n",
    "        else:\n",
    "            import sys\n",
    "            sys.exit('Incorrect min and max string lengths. Try again.')\n",
    "        r.append(RandomStringGenerator(c))\n",
    "    return r\n",
    "\n",
    "a = input('Enter minimum string length: ')\n",
    "b = input('Enter maximum string length: ')\n",
    "n = input('How many random strings to generate? ')\n",
    "\n",
    "print(BatchStringGenerator(int(n), int(a), int(b)))"
   ]
  },
  {
   "cell_type": "code",
   "execution_count": 11,
   "metadata": {},
   "outputs": [
    {
     "name": "stdout",
     "output_type": "stream",
     "text": [
      "How many strings do you need?\n",
      "3\n",
      "Enter minimum length of string:\n",
      "2\n",
      " Enter the maximum length of string :\n",
      "4\n"
     ]
    },
    {
     "data": {
      "text/plain": [
       "['exw', 'e6', '84x']"
      ]
     },
     "execution_count": 11,
     "metadata": {},
     "output_type": "execute_result"
    }
   ],
   "source": [
    "import random\n",
    "import string\n",
    "choice=string.ascii_lowercase+string.digits\n",
    "a=int(input('How many strings do you need?\\n'))\n",
    "b=int(input('Enter minimum length of string:\\n'))\n",
    "c=int(input(' Enter the maximum length of string :\\n'))\n",
    "list=[]\n",
    "if c < b :\n",
    "    print('Error')\n",
    "    \n",
    "else:    \n",
    "    for i in range(a):\n",
    "        length= random.randint(b,c)\n",
    "        string=''\n",
    "        for i in range(length):\n",
    "            string+=random.choice(choice)\n",
    "        list.append(string)\n",
    "list\n",
    "        "
   ]
  },
  {
   "cell_type": "code",
   "execution_count": null,
   "metadata": {},
   "outputs": [],
   "source": []
  }
 ],
 "metadata": {
  "kernelspec": {
   "display_name": "Python 3",
   "language": "python",
   "name": "python3"
  },
  "language_info": {
   "codemirror_mode": {
    "name": "ipython",
    "version": 3
   },
   "file_extension": ".py",
   "mimetype": "text/x-python",
   "name": "python",
   "nbconvert_exporter": "python",
   "pygments_lexer": "ipython3",
   "version": "3.7.3"
  }
 },
 "nbformat": 4,
 "nbformat_minor": 2
}
