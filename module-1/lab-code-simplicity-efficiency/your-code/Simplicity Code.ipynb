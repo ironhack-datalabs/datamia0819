{
 "cells": [
  {
   "cell_type": "code",
   "execution_count": 17,
   "metadata": {},
   "outputs": [],
   "source": [
    "import pandas as pd \n",
    "import numpy as np\n",
    "import random\n"
   ]
  },
  {
   "cell_type": "code",
   "execution_count": 18,
   "metadata": {},
   "outputs": [
    {
     "name": "stdout",
     "output_type": "stream",
     "text": [
      "Welcome to this calculator!\n",
      "It can add and subtract whole numbers from zero to five\n",
      "Please choose your first number (zero to five): \n",
      "What do you want to do? plus or minus: 4\n",
      "Please choose your second number (zero to five): \n",
      "Sorry, that wasn't minus or plus. Please Try Again\n"
     ]
    },
    {
     "data": {
      "text/plain": [
       "<function __main__.calculator()>"
      ]
     },
     "execution_count": 18,
     "metadata": {},
     "output_type": "execute_result"
    }
   ],
   "source": [
    "def calculator():\n",
    "    print('Welcome to this calculator!')\n",
    "    print('It can add and subtract whole numbers from zero to five')\n",
    "    a = input('Please choose your first number (zero to five): ')\n",
    "    b = input('What do you want to do? plus or minus: ')\n",
    "    c = input('Please choose your second number (zero to five): ')\n",
    "    if b == 'minus':\n",
    "        print(int(a)-int(c))\n",
    "    elif b== 'plus':\n",
    "        print(int(a)+int(c))\n",
    "    else:\n",
    "        print(\"Sorry, that wasn't minus or plus. Please Try Again\" )\n",
    "        \n",
    "        return calculator\n",
    "        \n",
    "calculator()"
   ]
  },
  {
   "cell_type": "code",
   "execution_count": 25,
   "metadata": {},
   "outputs": [
    {
     "name": "stdout",
     "output_type": "stream",
     "text": [
      "Enter minimum string length: 4\n",
      "Enter maximum string length: 10\n",
      "How many random strings to generate? 100\n"
     ]
    },
    {
     "data": {
      "text/plain": [
       "['1']"
      ]
     },
     "execution_count": 25,
     "metadata": {},
     "output_type": "execute_result"
    }
   ],
   "source": [
    "def generator():\n",
    "    minimum_string = int(input('Enter minimum string length: '))\n",
    "    maximum_string = int(input('Enter maximum string length: '))\n",
    "    count = int(input('How many random strings to generate? '))\n",
    "    list1=[]\n",
    "    for i in range(count):\n",
    "        list_1=\"\"\n",
    "        length=random.randint(minimum_string,maximum_string)\n",
    "        for i in range(length):\n",
    "            picker= random.randint(0,1)\n",
    "            if picker ==0:\n",
    "                list_1= list_1 + random.choice(string.ascii_letters)\n",
    "            else:\n",
    "                list_1= list_1 + str(random.randint(0,9))\n",
    "            list1.append(list_1)\n",
    "            return list1\n",
    "    \n",
    "    \n",
    "    \n",
    "    \n",
    "generator()"
   ]
  },
  {
   "cell_type": "markdown",
   "metadata": {},
   "source": [
    "# "
   ]
  },
  {
   "cell_type": "code",
   "execution_count": 26,
   "metadata": {},
   "outputs": [
    {
     "data": {
      "text/plain": [
       "196911421161161294238142396129423816128"
      ]
     },
     "execution_count": 26,
     "metadata": {},
     "output_type": "execute_result"
    }
   ],
   "source": [
    "28130203023023042034020342304203402304*7\n"
   ]
  },
  {
   "cell_type": "code",
   "execution_count": 28,
   "metadata": {},
   "outputs": [
    {
     "name": "stdout",
     "output_type": "stream",
     "text": [
      "What is the maximal length of the triangle side? Enter a number: 70\n",
      "The longest side possible is 68\n"
     ]
    }
   ],
   "source": [
    "def my_function(X):\n",
    "    solutions = []\n",
    "    for x in range(5, X):\n",
    "        for y in range(4, X):\n",
    "            for z in range(3, X):\n",
    "                if (x*x==y*y+z*z):\n",
    "                  solutions.append([x, y, z])\n",
    "    m = 0\n",
    "    for solution in solutions:\n",
    "        if m < max(solution):\n",
    "            m = max(solution)\n",
    "    return m\n",
    "\n",
    "X = input(\"What is the maximal length of the triangle side? Enter a number: \")\n",
    "\n",
    "print(\"The longest side possible is \" + str(my_function(int(X))))"
   ]
  },
  {
   "cell_type": "code",
   "execution_count": 45,
   "metadata": {},
   "outputs": [
    {
     "name": "stdout",
     "output_type": "stream",
     "text": [
      "What is the maximal length of the triangle side? Enter a number: 70\n",
      "The longest side possible is  68\n"
     ]
    }
   ],
   "source": [
    "def func(X):\n",
    "    sol=[[x,y,z] for x in range(5,X) for y in range(4,X) for z in range(3,X) if (x*x==y*y+z*z)]\n",
    "    return print(\"The longest side possible is \", max(max(sol)))\n",
    "                 \n",
    "func(int(input(\"What is the maximal length of the triangle side? Enter a number: \")))\n",
    "                 "
   ]
  },
  {
   "cell_type": "code",
   "execution_count": null,
   "metadata": {},
   "outputs": [],
   "source": []
  },
  {
   "cell_type": "code",
   "execution_count": null,
   "metadata": {},
   "outputs": [],
   "source": []
  },
  {
   "cell_type": "code",
   "execution_count": null,
   "metadata": {},
   "outputs": [],
   "source": []
  }
 ],
 "metadata": {
  "kernelspec": {
   "display_name": "Python 3",
   "language": "python",
   "name": "python3"
  },
  "language_info": {
   "codemirror_mode": {
    "name": "ipython",
    "version": 3
   },
   "file_extension": ".py",
   "mimetype": "text/x-python",
   "name": "python",
   "nbconvert_exporter": "python",
   "pygments_lexer": "ipython3",
   "version": "3.7.3"
  }
 },
 "nbformat": 4,
 "nbformat_minor": 2
}
