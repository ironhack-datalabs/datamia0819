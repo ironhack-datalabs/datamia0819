{
 "cells": [
  {
   "cell_type": "markdown",
   "metadata": {},
   "source": [
    "# Working with RSS Feeds Lab\n",
    "\n",
    "Complete the following set of exercises to solidify your knowledge of parsing RSS feeds and extracting information from them."
   ]
  },
  {
   "cell_type": "code",
   "execution_count": 1,
   "metadata": {},
   "outputs": [],
   "source": [
    "import feedparser as fp\n",
    "import pandas as pd "
   ]
  },
  {
   "cell_type": "markdown",
   "metadata": {},
   "source": [
    "### 1. Use feedparser to parse the following RSS feed URL."
   ]
  },
  {
   "cell_type": "code",
   "execution_count": 2,
   "metadata": {},
   "outputs": [],
   "source": [
    "url = 'http://feeds.feedburner.com/oreilly/radar/atom'"
   ]
  },
  {
   "cell_type": "code",
   "execution_count": 3,
   "metadata": {},
   "outputs": [],
   "source": [
    "atom = fp.parse(url)"
   ]
  },
  {
   "cell_type": "markdown",
   "metadata": {},
   "source": [
    "### 2. Obtain a list of components (keys) that are available for this feed."
   ]
  },
  {
   "cell_type": "code",
   "execution_count": 23,
   "metadata": {},
   "outputs": [
    {
     "data": {
      "text/plain": [
       "dict_keys(['feed', 'entries', 'bozo', 'headers', 'etag', 'updated', 'updated_parsed', 'href', 'status', 'encoding', 'version', 'namespaces'])"
      ]
     },
     "execution_count": 23,
     "metadata": {},
     "output_type": "execute_result"
    }
   ],
   "source": [
    "atom.keys()\n"
   ]
  },
  {
   "cell_type": "markdown",
   "metadata": {},
   "source": [
    "### 3. Obtain a list of components (keys) that are available for the *feed* component of this RSS feed."
   ]
  },
  {
   "cell_type": "code",
   "execution_count": 5,
   "metadata": {},
   "outputs": [
    {
     "data": {
      "text/plain": [
       "dict_keys(['title', 'title_detail', 'links', 'link', 'subtitle', 'subtitle_detail', 'updated', 'updated_parsed', 'language', 'sy_updateperiod', 'sy_updatefrequency', 'generator_detail', 'generator', 'feedburner_info', 'geo_lat', 'geo_long', 'feedburner_emailserviceid', 'feedburner_feedburnerhostname'])"
      ]
     },
     "execution_count": 5,
     "metadata": {},
     "output_type": "execute_result"
    }
   ],
   "source": [
    "atom.feed.keys()"
   ]
  },
  {
   "cell_type": "markdown",
   "metadata": {},
   "source": [
    "### 4. Extract and print the feed title, subtitle, author, and link."
   ]
  },
  {
   "cell_type": "code",
   "execution_count": 6,
   "metadata": {},
   "outputs": [
    {
     "data": {
      "text/plain": [
       "'https://www.oreilly.com/radar'"
      ]
     },
     "execution_count": 6,
     "metadata": {},
     "output_type": "execute_result"
    }
   ],
   "source": [
    "atom.feed.title\n",
    "atom.feed.subtitle\n",
    "atom.feed.link"
   ]
  },
  {
   "cell_type": "markdown",
   "metadata": {},
   "source": [
    "### 5. Count the number of entries that are contained in this RSS feed."
   ]
  },
  {
   "cell_type": "code",
   "execution_count": 7,
   "metadata": {},
   "outputs": [
    {
     "name": "stdout",
     "output_type": "stream",
     "text": [
      "18\n"
     ]
    }
   ],
   "source": [
    "print(len(atom['entries']))"
   ]
  },
  {
   "cell_type": "markdown",
   "metadata": {},
   "source": [
    "### 6. Obtain a list of components (keys) available for an entry.\n",
    "\n",
    "*Hint: Remember to index first before requesting the keys*"
   ]
  },
  {
   "cell_type": "code",
   "execution_count": 8,
   "metadata": {},
   "outputs": [
    {
     "data": {
      "text/plain": [
       "dict_keys(['title', 'title_detail', 'links', 'link', 'comments', 'published', 'published_parsed', 'authors', 'author', 'author_detail', 'tags', 'id', 'guidislink', 'summary', 'summary_detail', 'content', 'wfw_commentrss', 'slash_comments', 'feedburner_origlink'])"
      ]
     },
     "execution_count": 8,
     "metadata": {},
     "output_type": "execute_result"
    }
   ],
   "source": [
    "atom.entries[0].keys()"
   ]
  },
  {
   "cell_type": "markdown",
   "metadata": {},
   "source": [
    "### 7. Extract a list of entry titles."
   ]
  },
  {
   "cell_type": "code",
   "execution_count": 17,
   "metadata": {},
   "outputs": [
    {
     "data": {
      "text/plain": [
       "['Four short links: 18 September 2019',\n",
       " 'Four short links: 17 September 2019',\n",
       " 'Four short links: 16 September 2019',\n",
       " 'Radar trends to watch: September 2019',\n",
       " 'Four short links: 13 September 2019',\n",
       " 'Safe and smarter driving, powered by AI',\n",
       " 'On gradient-based methods for finding game-theoretic equilibria',\n",
       " 'Accelerate with purpose',\n",
       " 'Practical insights into deep reinforcement learning',\n",
       " 'Open-endedness: A new grand challenge for AI',\n",
       " 'Four short links: 12 September 2019',\n",
       " 'AI for ophthalmology: Doing what doctors can’t',\n",
       " 'Enabling AI’s potential through wafer-scale integration',\n",
       " 'Getting from A to AI',\n",
       " 'Highlights from the O’Reilly Artificial Intelligence Conference in San Jose 2019',\n",
       " 'Going beyond fully supervised learning',\n",
       " 'Developing AI responsibly',\n",
       " 'Unlocking the value of your data']"
      ]
     },
     "execution_count": 17,
     "metadata": {},
     "output_type": "execute_result"
    }
   ],
   "source": [
    "[atom.entries[i].title for i in range(len(atom.entries))]"
   ]
  },
  {
   "cell_type": "markdown",
   "metadata": {},
   "source": [
    "### 8. Calculate the percentage of \"Four short links\" entry titles."
   ]
  },
  {
   "cell_type": "code",
   "execution_count": 10,
   "metadata": {},
   "outputs": [
    {
     "name": "stdout",
     "output_type": "stream",
     "text": [
      "Four Short Links Percentage: 38.46153846153847 %\n"
     ]
    }
   ],
   "source": [
    "four=[atom.entries[i].title.count(\"Four short links\") for i in range(len(atom.entries))]\n",
    "\n",
    "ones=[]\n",
    "zeros=[]\n",
    "\n",
    "for i in four:\n",
    "    if i ==1:\n",
    "        ones.append(i)\n",
    "    if i==0:\n",
    "        zeros.append(i)\n",
    "        \n",
    "print('Four Short Links Percentage:',(len(ones)/len(zeros))*100,'%')"
   ]
  },
  {
   "cell_type": "markdown",
   "metadata": {},
   "source": [
    "### 9. Create a Pandas data frame from the feed's entries."
   ]
  },
  {
   "cell_type": "code",
   "execution_count": 11,
   "metadata": {},
   "outputs": [],
   "source": [
    "import pandas as pd"
   ]
  },
  {
   "cell_type": "code",
   "execution_count": 12,
   "metadata": {},
   "outputs": [],
   "source": [
    "df= pd.DataFrame(atom.entries)\n"
   ]
  },
  {
   "cell_type": "markdown",
   "metadata": {},
   "source": [
    "### 10. Count the number of entries per author and sort them in descending order."
   ]
  },
  {
   "cell_type": "code",
   "execution_count": 13,
   "metadata": {},
   "outputs": [
    {
     "data": {
      "text/html": [
       "<div>\n",
       "<style scoped>\n",
       "    .dataframe tbody tr th:only-of-type {\n",
       "        vertical-align: middle;\n",
       "    }\n",
       "\n",
       "    .dataframe tbody tr th {\n",
       "        vertical-align: top;\n",
       "    }\n",
       "\n",
       "    .dataframe thead th {\n",
       "        text-align: right;\n",
       "    }\n",
       "</style>\n",
       "<table border=\"1\" class=\"dataframe\">\n",
       "  <thead>\n",
       "    <tr style=\"text-align: right;\">\n",
       "      <th></th>\n",
       "      <th>author</th>\n",
       "      <th>title</th>\n",
       "    </tr>\n",
       "  </thead>\n",
       "  <tbody>\n",
       "    <tr>\n",
       "      <th>0</th>\n",
       "      <td>Mac Slocum</td>\n",
       "      <td>18</td>\n",
       "    </tr>\n",
       "  </tbody>\n",
       "</table>\n",
       "</div>"
      ],
      "text/plain": [
       "       author  title\n",
       "0  Mac Slocum     18"
      ]
     },
     "execution_count": 13,
     "metadata": {},
     "output_type": "execute_result"
    }
   ],
   "source": [
    "df.head(3)\n",
    "authors= df.groupby('author', as_index=False).agg({'title':'count'})\n",
    "authors"
   ]
  },
  {
   "cell_type": "markdown",
   "metadata": {},
   "source": [
    "### 11. Add a new column to the data frame that contains the length (number of characters) of each entry title. Return a data frame that contains the title, author, and title length of each entry in descending order (longest title length at the top)."
   ]
  },
  {
   "cell_type": "code",
   "execution_count": 14,
   "metadata": {},
   "outputs": [
    {
     "data": {
      "text/html": [
       "<div>\n",
       "<style scoped>\n",
       "    .dataframe tbody tr th:only-of-type {\n",
       "        vertical-align: middle;\n",
       "    }\n",
       "\n",
       "    .dataframe tbody tr th {\n",
       "        vertical-align: top;\n",
       "    }\n",
       "\n",
       "    .dataframe thead th {\n",
       "        text-align: right;\n",
       "    }\n",
       "</style>\n",
       "<table border=\"1\" class=\"dataframe\">\n",
       "  <thead>\n",
       "    <tr style=\"text-align: right;\">\n",
       "      <th></th>\n",
       "      <th>title</th>\n",
       "      <th>author</th>\n",
       "      <th>lengths</th>\n",
       "    </tr>\n",
       "  </thead>\n",
       "  <tbody>\n",
       "    <tr>\n",
       "      <th>14</th>\n",
       "      <td>Highlights from the O’Reilly Artificial Intell...</td>\n",
       "      <td>Mac Slocum</td>\n",
       "      <td>80</td>\n",
       "    </tr>\n",
       "    <tr>\n",
       "      <th>6</th>\n",
       "      <td>On gradient-based methods for finding game-the...</td>\n",
       "      <td>Mac Slocum</td>\n",
       "      <td>63</td>\n",
       "    </tr>\n",
       "    <tr>\n",
       "      <th>12</th>\n",
       "      <td>Enabling AI’s potential through wafer-scale in...</td>\n",
       "      <td>Mac Slocum</td>\n",
       "      <td>55</td>\n",
       "    </tr>\n",
       "    <tr>\n",
       "      <th>8</th>\n",
       "      <td>Practical insights into deep reinforcement lea...</td>\n",
       "      <td>Mac Slocum</td>\n",
       "      <td>51</td>\n",
       "    </tr>\n",
       "    <tr>\n",
       "      <th>11</th>\n",
       "      <td>AI for ophthalmology: Doing what doctors can’t</td>\n",
       "      <td>Mac Slocum</td>\n",
       "      <td>46</td>\n",
       "    </tr>\n",
       "    <tr>\n",
       "      <th>9</th>\n",
       "      <td>Open-endedness: A new grand challenge for AI</td>\n",
       "      <td>Mac Slocum</td>\n",
       "      <td>44</td>\n",
       "    </tr>\n",
       "    <tr>\n",
       "      <th>5</th>\n",
       "      <td>Safe and smarter driving, powered by AI</td>\n",
       "      <td>Mac Slocum</td>\n",
       "      <td>39</td>\n",
       "    </tr>\n",
       "    <tr>\n",
       "      <th>15</th>\n",
       "      <td>Going beyond fully supervised learning</td>\n",
       "      <td>Mac Slocum</td>\n",
       "      <td>38</td>\n",
       "    </tr>\n",
       "    <tr>\n",
       "      <th>3</th>\n",
       "      <td>Radar trends to watch: September 2019</td>\n",
       "      <td>Mac Slocum</td>\n",
       "      <td>37</td>\n",
       "    </tr>\n",
       "    <tr>\n",
       "      <th>10</th>\n",
       "      <td>Four short links: 12 September 2019</td>\n",
       "      <td>Mac Slocum</td>\n",
       "      <td>35</td>\n",
       "    </tr>\n",
       "    <tr>\n",
       "      <th>0</th>\n",
       "      <td>Four short links: 18 September 2019</td>\n",
       "      <td>Mac Slocum</td>\n",
       "      <td>35</td>\n",
       "    </tr>\n",
       "    <tr>\n",
       "      <th>1</th>\n",
       "      <td>Four short links: 17 September 2019</td>\n",
       "      <td>Mac Slocum</td>\n",
       "      <td>35</td>\n",
       "    </tr>\n",
       "    <tr>\n",
       "      <th>4</th>\n",
       "      <td>Four short links: 13 September 2019</td>\n",
       "      <td>Mac Slocum</td>\n",
       "      <td>35</td>\n",
       "    </tr>\n",
       "    <tr>\n",
       "      <th>2</th>\n",
       "      <td>Four short links: 16 September 2019</td>\n",
       "      <td>Mac Slocum</td>\n",
       "      <td>35</td>\n",
       "    </tr>\n",
       "    <tr>\n",
       "      <th>17</th>\n",
       "      <td>Unlocking the value of your data</td>\n",
       "      <td>Mac Slocum</td>\n",
       "      <td>32</td>\n",
       "    </tr>\n",
       "    <tr>\n",
       "      <th>16</th>\n",
       "      <td>Developing AI responsibly</td>\n",
       "      <td>Mac Slocum</td>\n",
       "      <td>25</td>\n",
       "    </tr>\n",
       "    <tr>\n",
       "      <th>7</th>\n",
       "      <td>Accelerate with purpose</td>\n",
       "      <td>Mac Slocum</td>\n",
       "      <td>23</td>\n",
       "    </tr>\n",
       "    <tr>\n",
       "      <th>13</th>\n",
       "      <td>Getting from A to AI</td>\n",
       "      <td>Mac Slocum</td>\n",
       "      <td>20</td>\n",
       "    </tr>\n",
       "  </tbody>\n",
       "</table>\n",
       "</div>"
      ],
      "text/plain": [
       "                                                title      author  lengths\n",
       "14  Highlights from the O’Reilly Artificial Intell...  Mac Slocum       80\n",
       "6   On gradient-based methods for finding game-the...  Mac Slocum       63\n",
       "12  Enabling AI’s potential through wafer-scale in...  Mac Slocum       55\n",
       "8   Practical insights into deep reinforcement lea...  Mac Slocum       51\n",
       "11     AI for ophthalmology: Doing what doctors can’t  Mac Slocum       46\n",
       "9        Open-endedness: A new grand challenge for AI  Mac Slocum       44\n",
       "5             Safe and smarter driving, powered by AI  Mac Slocum       39\n",
       "15             Going beyond fully supervised learning  Mac Slocum       38\n",
       "3               Radar trends to watch: September 2019  Mac Slocum       37\n",
       "10                Four short links: 12 September 2019  Mac Slocum       35\n",
       "0                 Four short links: 18 September 2019  Mac Slocum       35\n",
       "1                 Four short links: 17 September 2019  Mac Slocum       35\n",
       "4                 Four short links: 13 September 2019  Mac Slocum       35\n",
       "2                 Four short links: 16 September 2019  Mac Slocum       35\n",
       "17                   Unlocking the value of your data  Mac Slocum       32\n",
       "16                          Developing AI responsibly  Mac Slocum       25\n",
       "7                             Accelerate with purpose  Mac Slocum       23\n",
       "13                               Getting from A to AI  Mac Slocum       20"
      ]
     },
     "execution_count": 14,
     "metadata": {},
     "output_type": "execute_result"
    }
   ],
   "source": [
    "df['lengths']= df['title'].apply(len)\n",
    "\n",
    "df[['title','author','lengths']].sort_values('lengths', ascending=False)"
   ]
  },
  {
   "cell_type": "markdown",
   "metadata": {},
   "source": [
    "### 12. Create a list of entry titles whose summary includes the phrase \"machine learning.\""
   ]
  },
  {
   "cell_type": "code",
   "execution_count": 48,
   "metadata": {},
   "outputs": [
    {
     "data": {
      "text/plain": [
       "['Extracting Insights from the Shape of Complex Data using Topology (Nature) — three properties of topology that make it useful: coordinate-free, so you can work on data with different coordinate systems; &#8220;small&#8221; deformation invariance, so it&#8217;s resistant to some forms of noise; and it works on the compressed representations of shapes so you can use [&#8230;]',\n",
       " 'Mirroring to Build Trust in Digital Assistants — these experiments are designed to measure whether users prefer and trust an assistant whose conversational style matches their own. To this end, we conducted a user study where subjects interacted with a digital assistant that responded in a way that either matched their conversational style, or did [&#8230;]',\n",
       " 'Challenges in the Decentralised Web: The Mastodon Case &#8212; We found that Mastodon’s design decision of giving everyone the ability to establish an independent instance of their own has led to an active ecosystem, with instances covering a wide variety of topics. However, a common theme in our work has been the discovery of apparent [&#8230;]',\n",
       " 'Radar trends began as an internal resource for O’Reilly. It’s a monthly list of things that I find interesting or important—possibly not “trends,” strictly understood, but ideas that might become trends. Most items on the list have links to media sources—some original sources, more frequently other reporting, whichever I think is more informative. Some items [&#8230;]',\n",
       " 'Universal Adversarial Triggers for Attacking and Analyzing NLP &#8212; WARNING: This paper contains model outputs which are offensive in nature. How to make small changes to the input text used to build a model, causing large downstream changes in its accuracy. (via Nasty Language Processing: Textual Triggers Transform Bots Into Bigots) AP Data Kit &#8212; [&#8230;]',\n",
       " 'This is a keynote from the O&#8217;Reilly Artificial Intelligence Conference in San Jose 2019. See other highlights from the event. This keynote was sponsored by Amazon Web Services.',\n",
       " 'This is a keynote highlight from the O&#8217;Reilly Artificial Intelligence Conference in San Jose 2019. Watch the full version of this keynote on the O&#8217;Reilly online learning platform. You can also see other highlights from the event.',\n",
       " 'This is a keynote highlight from the O&#8217;Reilly Artificial Intelligence Conference in San Jose 2019. Watch the full version of this keynote on the O&#8217;Reilly online learning platform. You can also see other highlights from the event.',\n",
       " 'This is a keynote highlight from the O&#8217;Reilly Artificial Intelligence Conference in San Jose 2019. Watch the full version of this keynote on the O&#8217;Reilly online learning platform. You can also see other highlights from the event.',\n",
       " 'This is a keynote highlight from the O&#8217;Reilly Artificial Intelligence Conference in San Jose 2019. Watch the full version of this keynote on the O&#8217;Reilly online learning platform. You can also see other highlights from the event.',\n",
       " 'The Philosophy and Practice of Bayesian Statistics — A substantial school in the philosophy of science identifies Bayesian inference with inductive inference and even rationality as such, and seems to be strengthened by the rise and practical success of Bayesian statistics. We argue that the most successful forms of Bayesian statistics do not actually support [&#8230;]',\n",
       " 'This is a keynote from the O&#8217;Reilly Artificial Intelligence Conference in San Jose 2019. See other highlights from the event. This keynote was sponsored by Dell Technologies.']"
      ]
     },
     "execution_count": 48,
     "metadata": {},
     "output_type": "execute_result"
    }
   ],
   "source": [
    "[atom.entries[i].summary for i in range(len(atom))]\n"
   ]
  },
  {
   "cell_type": "code",
   "execution_count": 50,
   "metadata": {},
   "outputs": [
    {
     "data": {
      "text/plain": [
       "14    Highlights from the O’Reilly Artificial Intell...\n",
       "Name: title, dtype: object"
      ]
     },
     "execution_count": 50,
     "metadata": {},
     "output_type": "execute_result"
    }
   ],
   "source": [
    "df2 = df[df[\"summary\"].astype(str).str.contains(\"AI\")][\"title\"]\n",
    "df2"
   ]
  },
  {
   "cell_type": "code",
   "execution_count": null,
   "metadata": {},
   "outputs": [],
   "source": []
  }
 ],
 "metadata": {
  "kernelspec": {
   "display_name": "Python 3",
   "language": "python",
   "name": "python3"
  },
  "language_info": {
   "codemirror_mode": {
    "name": "ipython",
    "version": 3
   },
   "file_extension": ".py",
   "mimetype": "text/x-python",
   "name": "python",
   "nbconvert_exporter": "python",
   "pygments_lexer": "ipython3",
   "version": "3.7.3"
  }
 },
 "nbformat": 4,
 "nbformat_minor": 2
}
