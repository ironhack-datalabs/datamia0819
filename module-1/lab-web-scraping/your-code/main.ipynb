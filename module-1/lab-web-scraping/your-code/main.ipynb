{
 "cells": [
  {
   "cell_type": "markdown",
   "metadata": {},
   "source": [
    "# Web Scraping Lab\n",
    "\n",
    "You will find in this notebook some scrapy exercises to practise your scraping skills.\n",
    "\n",
    "**Tips:**\n",
    "\n",
    "- Check the response status code for each request to ensure you have obtained the intended contennt.\n",
    "- Print the response text in each request to understand the kind of info you are getting and its format.\n",
    "- Check for patterns in the response text to extract the data/info requested in each question.\n",
    "- Visit each url and take a look at its source through Chrome DevTools. You'll need to identify the html tags, special class names etc. used for the html content you are expected to extract."
   ]
  },
  {
   "cell_type": "markdown",
   "metadata": {},
   "source": [
    "- [Requests library](http://docs.python-requests.org/en/master/#the-user-guide) documentation \n",
    "- [Beautiful Soup Doc](https://www.crummy.com/software/BeautifulSoup/bs4/doc/)\n",
    "- [Urllib](https://docs.python.org/3/library/urllib.html#module-urllib)\n",
    "- [re lib](https://docs.python.org/3/library/re.html)\n",
    "- [lxml lib](https://lxml.de/)\n",
    "- [Scrapy](https://scrapy.org/)\n",
    "- [List of HTTP status codes](https://en.wikipedia.org/wiki/List_of_HTTP_status_codes)\n",
    "- [HTML basics](http://www.simplehtmlguide.com/cheatsheet.php)\n",
    "- [CSS basics](https://www.cssbasics.com/#page_start)"
   ]
  },
  {
   "cell_type": "markdown",
   "metadata": {},
   "source": [
    "#### Below are the libraries and modules you may need. `requests`,  `BeautifulSoup` and `pandas` are imported for you. If you prefer to use additional libraries feel free to uncomment them."
   ]
  },
  {
   "cell_type": "code",
   "execution_count": 1,
   "metadata": {
    "scrolled": false
   },
   "outputs": [],
   "source": [
    "import requests\n",
    "from bs4 import BeautifulSoup as bs\n",
    "import pandas as pd\n",
    "from pprint import pprint\n",
    "from lxml import html\n",
    "from lxml.html import fromstring\n",
    "import urllib.request\n",
    "from urllib.request import urlopen\n",
    "import random\n",
    "import re\n",
    "# import scrapy"
   ]
  },
  {
   "cell_type": "markdown",
   "metadata": {},
   "source": [
    "#### Download, parse (using BeautifulSoup), and print the content from the Trending Developers page from GitHub:"
   ]
  },
  {
   "cell_type": "code",
   "execution_count": 2,
   "metadata": {},
   "outputs": [],
   "source": [
    "# This is the url you will scrape in this exercise\n",
    "url = 'https://github.com/trending/developers'\n",
    "html=requests.get(url).content\n",
    "# html"
   ]
  },
  {
   "cell_type": "code",
   "execution_count": 3,
   "metadata": {},
   "outputs": [],
   "source": [
    "soup= bs(html , 'lxml' )\n",
    "# soup"
   ]
  },
  {
   "cell_type": "code",
   "execution_count": 4,
   "metadata": {},
   "outputs": [],
   "source": [
    "devs=soup.find_all('h1',{'class':'h3 lh-condensed'}) \n",
    "# devs"
   ]
  },
  {
   "cell_type": "code",
   "execution_count": 5,
   "metadata": {},
   "outputs": [],
   "source": [
    "#your code\n",
    "\n",
    "cleanlist=[re.findall('<a href=.{0,50}</a>',str(i)) for i in devs]\n",
    "cleaner_list=[i[0] for i in cleanlist]\n"
   ]
  },
  {
   "cell_type": "code",
   "execution_count": 6,
   "metadata": {},
   "outputs": [],
   "source": [
    "cleaner_list = [i.rstrip('</a>').lstrip('<a href=\"/').split('\">') for i in cleaner_list]\n",
    "# cleaner_list"
   ]
  },
  {
   "cell_type": "markdown",
   "metadata": {},
   "source": [
    "#### Display the names of the trending developers retrieved in the previous step.\n",
    "\n",
    "Your output should be a Python list of developer names. Each name should not contain any html tag.\n",
    "\n",
    "**Instructions:**\n",
    "\n",
    "1. Find out the html tag and class names used for the developer names. You can achieve this using Chrome DevTools.\n",
    "\n",
    "1. Use BeautifulSoup to extract all the html elements that contain the developer names.\n",
    "\n",
    "1. Use string manipulation techniques to replace whitespaces and linebreaks (i.e. `\\n`) in the *text* of each html element. Use a list to store the clean names.\n",
    "\n",
    "1. Print the list of names.\n",
    "\n",
    "Your output should look like below:\n",
    "\n",
    "```\n",
    "['trimstray (@trimstray)',\n",
    " 'joewalnes (JoeWalnes)',\n",
    " 'charlax (Charles-AxelDein)',\n",
    " 'ForrestKnight (ForrestKnight)',\n",
    " 'revery-ui (revery-ui)',\n",
    " 'alibaba (Alibaba)',\n",
    " 'Microsoft (Microsoft)',\n",
    " 'github (GitHub)',\n",
    " 'facebook (Facebook)',\n",
    " 'boazsegev (Bo)',\n",
    " 'google (Google)',\n",
    " 'cloudfetch',\n",
    " 'sindresorhus (SindreSorhus)',\n",
    " 'tensorflow',\n",
    " 'apache (TheApacheSoftwareFoundation)',\n",
    " 'DevonCrawford (DevonCrawford)',\n",
    " 'ARMmbed (ArmMbed)',\n",
    " 'vuejs (vuejs)',\n",
    " 'fastai (fast.ai)',\n",
    " 'QiShaoXuan (Qi)',\n",
    " 'joelparkerhenderson (JoelParkerHenderson)',\n",
    " 'torvalds (LinusTorvalds)',\n",
    " 'CyC2018',\n",
    " 'komeiji-satori (神楽坂覚々)',\n",
    " 'script-8']\n",
    " ```"
   ]
  },
  {
   "cell_type": "code",
   "execution_count": 7,
   "metadata": {},
   "outputs": [],
   "source": [
    "#your code\n",
    "name = [i[1] for i in cleaner_list]\n",
    "username=[i[0] for i in cleaner_list]"
   ]
  },
  {
   "cell_type": "code",
   "execution_count": 8,
   "metadata": {},
   "outputs": [],
   "source": [
    "\n",
    "# alternate\n",
    "pattern='<\\s*a[^>]*>(.*?)<\\s*/\\s*a>'\n",
    "clist=[re.findall(pattern,str(i)) for i in devs]\n",
    "# clist"
   ]
  },
  {
   "cell_type": "markdown",
   "metadata": {},
   "source": [
    "#### Display the trending Python repositories in GitHub\n",
    "\n",
    "The steps to solve this problem is similar to the previous one except that you need to find out the repository names instead of developer names."
   ]
  },
  {
   "cell_type": "code",
   "execution_count": 9,
   "metadata": {},
   "outputs": [],
   "source": [
    "# This is the url you will scrape in this exercise\n",
    "url = 'https://github.com/trending/python?since=daily'\n"
   ]
  },
  {
   "cell_type": "code",
   "execution_count": 10,
   "metadata": {},
   "outputs": [],
   "source": [
    "#your code\n",
    "html=requests.get(url).content"
   ]
  },
  {
   "cell_type": "code",
   "execution_count": 11,
   "metadata": {},
   "outputs": [
    {
     "data": {
      "text/plain": [
       "[<span class=\"Bump-link-symbol float-right text-normal text-gray-light\">→</span>,\n",
       " <span class=\"Bump-link-symbol float-right text-normal text-gray-light\">→</span>,\n",
       " <span class=\"Bump-link-symbol float-right text-normal text-gray-light\">→</span>,\n",
       " <span class=\"Bump-link-symbol float-right text-normal text-gray-light\">→</span>,\n",
       " <span class=\"Bump-link-symbol float-right text-normal text-gray-light\">→</span>,\n",
       " <span class=\"Bump-link-symbol float-right text-normal text-gray-light\">→</span>,\n",
       " <span class=\"Bump-link-symbol float-right text-normal text-gray-light\">→</span>,\n",
       " <span class=\"text-normal\">\n",
       "         d2l-ai /\n",
       " </span>,\n",
       " <span class=\"text-normal\">\n",
       "         huggingface /\n",
       " </span>,\n",
       " <span class=\"text-normal\">\n",
       "         30-seconds /\n",
       " </span>,\n",
       " <span class=\"text-normal\">\n",
       "         donnemartin /\n",
       " </span>,\n",
       " <span class=\"text-normal\">\n",
       "         public-apis /\n",
       " </span>,\n",
       " <span class=\"text-normal\">\n",
       "         minimaxir /\n",
       " </span>,\n",
       " <span class=\"text-normal\">\n",
       "         home-assistant /\n",
       " </span>,\n",
       " <span class=\"text-normal\">\n",
       "         Santosh-Gupta /\n",
       " </span>,\n",
       " <span class=\"text-normal\">\n",
       "         mne-tools /\n",
       " </span>,\n",
       " <span class=\"text-normal\">\n",
       "         p-christ /\n",
       " </span>,\n",
       " <span class=\"text-normal\">\n",
       "         0voice /\n",
       " </span>,\n",
       " <span class=\"text-normal\">\n",
       "         imhuay /\n",
       " </span>,\n",
       " <span class=\"text-normal\">\n",
       "         shadowsocks /\n",
       " </span>,\n",
       " <span class=\"text-normal\">\n",
       "         dmlc /\n",
       " </span>,\n",
       " <span class=\"text-normal\">\n",
       "         NVIDIA /\n",
       " </span>,\n",
       " <span class=\"text-normal\">\n",
       "         apachecn /\n",
       " </span>,\n",
       " <span class=\"text-normal\">\n",
       "         the0demiurge /\n",
       " </span>,\n",
       " <span class=\"text-normal\">\n",
       "         RasaHQ /\n",
       " </span>,\n",
       " <span class=\"text-normal\">\n",
       "         open-mmlab /\n",
       " </span>,\n",
       " <span class=\"text-normal\">\n",
       "         shadowsocksr-backup /\n",
       " </span>,\n",
       " <span class=\"text-normal\">\n",
       "         kennethreitz /\n",
       " </span>,\n",
       " <span class=\"text-normal\">\n",
       "         yunjey /\n",
       " </span>,\n",
       " <span class=\"text-normal\">\n",
       "         keras-team /\n",
       " </span>,\n",
       " <span class=\"text-normal\">\n",
       "         Tencent /\n",
       " </span>,\n",
       " <span class=\"text-normal\">\n",
       "         learnables /\n",
       " </span>]"
      ]
     },
     "execution_count": 11,
     "metadata": {},
     "output_type": "execute_result"
    }
   ],
   "source": [
    "soup= bs(html , 'lxml' )\n",
    "list=soup.find_all('span',{'class':'text-normal'})\n",
    "list"
   ]
  },
  {
   "cell_type": "code",
   "execution_count": 12,
   "metadata": {},
   "outputs": [],
   "source": [
    "# cleanlist=[re.findall('<a href=.{0,50}</a>',str(i)) for i in devs]\n",
    "# cleaner_list=[i[0] for i in cleanlist]\n",
    "repolist = [re.findall('<\\s*span\\s*class=\"text-normal\">\\s*.{0,50}',str(i)) for i in list]\n",
    "\n",
    "repolist = [i for i in repolist if i != []]\n",
    "repolist = [i[0] for i in repolist]\n",
    "repolist = [ i.rstrip(\" /'\").lstrip('<span class=\"text-normal\">').split('\\n') for i in repolist]\n",
    "repolist = [i[1] for i in repolist]\n",
    "repolist = [i.replace(' ','') for i in repolist]"
   ]
  },
  {
   "cell_type": "code",
   "execution_count": 13,
   "metadata": {},
   "outputs": [
    {
     "data": {
      "text/plain": [
       "\"\\nList of repositories\\n\\n['d2l-ai',\\n 'mne-tools',\\n 'home-assistant',\\n '30-seconds',\\n 'hukkelas',\\n 'NVIDIA',\\n 'salesforce',\\n 'explosion',\\n 'Yorko',\\n '0voice',\\n 'aboul3la',\\n 'StevenBlack',\\n 'custom-components',\\n 'lazyprogrammer',\\n 'wangzheng0822',\\n 'sfyc23',\\n '3b1b',\\n 'pi-hole',\\n 'machinelearningmindset',\\n 'apachecn',\\n 'programthink',\\n 'maurosoria',\\n 'ytdl-org',\\n 'learnables',\\n 'keras-team']\\n\""
      ]
     },
     "execution_count": 13,
     "metadata": {},
     "output_type": "execute_result"
    }
   ],
   "source": [
    "'''\n",
    "List of repositories\n",
    "\n",
    "['d2l-ai',\n",
    " 'mne-tools',\n",
    " 'home-assistant',\n",
    " '30-seconds',\n",
    " 'hukkelas',\n",
    " 'NVIDIA',\n",
    " 'salesforce',\n",
    " 'explosion',\n",
    " 'Yorko',\n",
    " '0voice',\n",
    " 'aboul3la',\n",
    " 'StevenBlack',\n",
    " 'custom-components',\n",
    " 'lazyprogrammer',\n",
    " 'wangzheng0822',\n",
    " 'sfyc23',\n",
    " '3b1b',\n",
    " 'pi-hole',\n",
    " 'machinelearningmindset',\n",
    " 'apachecn',\n",
    " 'programthink',\n",
    " 'maurosoria',\n",
    " 'ytdl-org',\n",
    " 'learnables',\n",
    " 'keras-team']\n",
    "'''"
   ]
  },
  {
   "cell_type": "markdown",
   "metadata": {},
   "source": [
    "#### Display all the image links from Walt Disney wikipedia page"
   ]
  },
  {
   "cell_type": "code",
   "execution_count": 14,
   "metadata": {},
   "outputs": [],
   "source": [
    "# This is the url you will scrape in this exercise\n",
    "url = 'https://en.wikipedia.org/wiki/Walt_Disney'"
   ]
  },
  {
   "cell_type": "code",
   "execution_count": 15,
   "metadata": {},
   "outputs": [],
   "source": [
    "#your code\n",
    "\n",
    "html=requests.get(url).content\n",
    "# html"
   ]
  },
  {
   "cell_type": "code",
   "execution_count": 16,
   "metadata": {},
   "outputs": [],
   "source": [
    "soup= bs(html , 'lxml' )\n",
    "# soup"
   ]
  },
  {
   "cell_type": "code",
   "execution_count": 17,
   "metadata": {},
   "outputs": [
    {
     "name": "stdout",
     "output_type": "stream",
     "text": [
      "//upload.wikimedia.org/wikipedia/commons/thumb/c/c4/Walt_Disney_envelope_ca._1921.jpg/220px-Walt_Disney_envelope_ca._1921.jpg\n",
      "\n",
      "//upload.wikimedia.org/wikipedia/commons/thumb/4/4d/Newman_Laugh-O-Gram_%281921%29.webm/220px-seek%3D2-Newman_Laugh-O-Gram_%281921%29.webm.jpg\n",
      "\n",
      "//upload.wikimedia.org/wikipedia/commons/thumb/0/0d/Trolley_Troubles_poster.jpg/170px-Trolley_Troubles_poster.jpg\n",
      "\n",
      "//upload.wikimedia.org/wikipedia/commons/thumb/7/71/Walt_Disney_and_his_cartoon_creation_%22Mickey_Mouse%22_-_National_Board_of_Review_Magazine.jpg/170px-Walt_Disney_and_his_cartoon_creation_%22Mickey_Mouse%22_-_National_Board_of_Review_Magazine.jpg\n",
      "\n",
      "//upload.wikimedia.org/wikipedia/en/thumb/4/4e/Steamboat-willie.jpg/170px-Steamboat-willie.jpg\n",
      "\n",
      "//upload.wikimedia.org/wikipedia/commons/thumb/5/57/Walt_Disney_1935.jpg/170px-Walt_Disney_1935.jpg\n",
      "\n",
      "//upload.wikimedia.org/wikipedia/commons/thumb/c/cd/Walt_Disney_Snow_white_1937_trailer_screenshot_%2813%29.jpg/220px-Walt_Disney_Snow_white_1937_trailer_screenshot_%2813%29.jpg\n",
      "\n",
      "//upload.wikimedia.org/wikipedia/commons/thumb/1/15/Disney_drawing_goofy.jpg/170px-Disney_drawing_goofy.jpg\n",
      "\n",
      "//upload.wikimedia.org/wikipedia/commons/thumb/1/13/DisneySchiphol1951.jpg/220px-DisneySchiphol1951.jpg\n",
      "\n",
      "//upload.wikimedia.org/wikipedia/commons/thumb/8/8c/WaltDisneyplansDisneylandDec1954.jpg/220px-WaltDisneyplansDisneylandDec1954.jpg\n",
      "\n",
      "//upload.wikimedia.org/wikipedia/commons/thumb/f/ff/Walt_disney_portrait_right.jpg/170px-Walt_disney_portrait_right.jpg\n",
      "\n",
      "//upload.wikimedia.org/wikipedia/commons/thumb/2/2d/Roy_O._Disney_with_Company_at_Press_Conference.jpg/170px-Roy_O._Disney_with_Company_at_Press_Conference.jpg\n",
      "\n",
      "//upload.wikimedia.org/wikipedia/commons/thumb/6/6c/Disney1968.jpg/170px-Disney1968.jpg\n",
      "\n",
      "//upload.wikimedia.org/wikipedia/commons/thumb/1/1a/Magic_Kingdom_castle.jpg/24px-Magic_Kingdom_castle.jpg\n",
      "\n"
     ]
    }
   ],
   "source": [
    "images=soup.find_all('img', {'src':re.compile('.jpg')})\n",
    "for image in images: \n",
    "    print(image['src']+'\\n')"
   ]
  },
  {
   "cell_type": "code",
   "execution_count": 18,
   "metadata": {},
   "outputs": [],
   "source": [
    "# ALternate way\n",
    "# from urllib.request import urlopen\n",
    "# # from bs4 import BeautifulSoup\n",
    "# # import re\n",
    "\n",
    "# html = urlopen('https://en.wikipedia.org/wiki/Walt_Disney')\n",
    "# bs = BeautifulSoup(html, 'html.parser')\n",
    "# images = bs.find_all('img', {'src':re.compile('.jpg')})\n",
    "# for image in images: \n",
    "#     print(image['src']+'\\n')"
   ]
  },
  {
   "cell_type": "markdown",
   "metadata": {},
   "source": [
    "#### Retrieve an arbitary Wikipedia page of \"Python\" and create a list of links on that page"
   ]
  },
  {
   "cell_type": "code",
   "execution_count": 19,
   "metadata": {},
   "outputs": [],
   "source": [
    "# This is the url you will scrape in this exercise\n",
    "url ='https://en.wikipedia.org/wiki/Python' "
   ]
  },
  {
   "cell_type": "code",
   "execution_count": 20,
   "metadata": {},
   "outputs": [],
   "source": [
    "#your code\n",
    "html=requests.get(url).content"
   ]
  },
  {
   "cell_type": "code",
   "execution_count": 21,
   "metadata": {},
   "outputs": [],
   "source": [
    "soup= bs(html , 'lxml' )"
   ]
  },
  {
   "cell_type": "code",
   "execution_count": 22,
   "metadata": {},
   "outputs": [
    {
     "data": {
      "text/plain": [
       "[None,\n",
       " '#mw-head',\n",
       " '#p-search',\n",
       " 'https://en.wiktionary.org/wiki/Python',\n",
       " 'https://en.wiktionary.org/wiki/python',\n",
       " '#Snakes',\n",
       " '#Ancient_Greece',\n",
       " '#Media_and_entertainment',\n",
       " '#Computing',\n",
       " '#Engineering',\n",
       " '#Roller_coasters',\n",
       " '#Vehicles',\n",
       " '#Weaponry',\n",
       " '#People',\n",
       " '#Other_uses',\n",
       " '#See_also',\n",
       " '/w/index.php?title=Python&action=edit&section=1',\n",
       " '/wiki/Pythonidae',\n",
       " '/wiki/Python_(genus)',\n",
       " '/w/index.php?title=Python&action=edit&section=2',\n",
       " '/wiki/Python_(mythology)',\n",
       " '/wiki/Python_of_Aenus',\n",
       " '/wiki/Python_(painter)',\n",
       " '/wiki/Python_of_Byzantium',\n",
       " '/wiki/Python_of_Catana',\n",
       " '/w/index.php?title=Python&action=edit&section=3',\n",
       " '/wiki/Python_(film)',\n",
       " '/wiki/Pythons_2',\n",
       " '/wiki/Monty_Python',\n",
       " '/wiki/Python_(Monty)_Pictures',\n",
       " '/w/index.php?title=Python&action=edit&section=4',\n",
       " '/wiki/Python_(programming_language)',\n",
       " '/wiki/CPython',\n",
       " '/wiki/CMU_Common_Lisp',\n",
       " '/wiki/PERQ#PERQ_3',\n",
       " '/w/index.php?title=Python&action=edit&section=5',\n",
       " '/w/index.php?title=Python&action=edit&section=6',\n",
       " '/wiki/Python_(Busch_Gardens_Tampa_Bay)',\n",
       " '/wiki/Python_(Coney_Island,_Cincinnati,_Ohio)',\n",
       " '/wiki/Python_(Efteling)',\n",
       " '/w/index.php?title=Python&action=edit&section=7',\n",
       " '/wiki/Python_(automobile_maker)',\n",
       " '/wiki/Python_(Ford_prototype)',\n",
       " '/w/index.php?title=Python&action=edit&section=8',\n",
       " '/wiki/Colt_Python',\n",
       " '/wiki/Python_(missile)',\n",
       " '/wiki/Python_(nuclear_primary)',\n",
       " '/w/index.php?title=Python&action=edit&section=9',\n",
       " '/wiki/Python_Anghelo',\n",
       " '/w/index.php?title=Python&action=edit&section=10',\n",
       " '/wiki/PYTHON',\n",
       " '/w/index.php?title=Python&action=edit&section=11',\n",
       " '/wiki/Cython',\n",
       " '/wiki/Pyton',\n",
       " '/wiki/File:Disambig_gray.svg',\n",
       " '/wiki/Help:Disambiguation',\n",
       " 'https://en.wikipedia.org/w/index.php?title=Special:WhatLinksHere/Python&namespace=0',\n",
       " 'https://en.wikipedia.org/w/index.php?title=Python&oldid=912426772',\n",
       " '/wiki/Help:Category',\n",
       " '/wiki/Category:Disambiguation_pages',\n",
       " '/wiki/Category:Disambiguation_pages_with_short_description',\n",
       " '/wiki/Category:All_article_disambiguation_pages',\n",
       " '/wiki/Category:All_disambiguation_pages',\n",
       " '/wiki/Category:Animal_common_name_disambiguation_pages',\n",
       " '/wiki/Special:MyTalk',\n",
       " '/wiki/Special:MyContributions',\n",
       " '/w/index.php?title=Special:CreateAccount&returnto=Python',\n",
       " '/w/index.php?title=Special:UserLogin&returnto=Python',\n",
       " '/wiki/Python',\n",
       " '/wiki/Talk:Python',\n",
       " '/wiki/Python',\n",
       " '/w/index.php?title=Python&action=edit',\n",
       " '/w/index.php?title=Python&action=history',\n",
       " '/wiki/Main_Page',\n",
       " '/wiki/Main_Page',\n",
       " '/wiki/Portal:Contents',\n",
       " '/wiki/Portal:Featured_content',\n",
       " '/wiki/Portal:Current_events',\n",
       " '/wiki/Special:Random',\n",
       " 'https://donate.wikimedia.org/wiki/Special:FundraiserRedirector?utm_source=donate&utm_medium=sidebar&utm_campaign=C13_en.wikipedia.org&uselang=en',\n",
       " '//shop.wikimedia.org',\n",
       " '/wiki/Help:Contents',\n",
       " '/wiki/Wikipedia:About',\n",
       " '/wiki/Wikipedia:Community_portal',\n",
       " '/wiki/Special:RecentChanges',\n",
       " '//en.wikipedia.org/wiki/Wikipedia:Contact_us',\n",
       " '/wiki/Special:WhatLinksHere/Python',\n",
       " '/wiki/Special:RecentChangesLinked/Python',\n",
       " '/wiki/Wikipedia:File_Upload_Wizard',\n",
       " '/wiki/Special:SpecialPages',\n",
       " '/w/index.php?title=Python&oldid=912426772',\n",
       " '/w/index.php?title=Python&action=info',\n",
       " 'https://www.wikidata.org/wiki/Special:EntityPage/Q747452',\n",
       " '/w/index.php?title=Special:CiteThisPage&page=Python&id=912426772',\n",
       " 'https://commons.wikimedia.org/wiki/Category:Python',\n",
       " '/w/index.php?title=Special:Book&bookcmd=book_creator&referer=Python',\n",
       " '/w/index.php?title=Special:ElectronPdf&page=Python&action=show-download-screen',\n",
       " '/w/index.php?title=Python&printable=yes',\n",
       " 'https://af.wikipedia.org/wiki/Python',\n",
       " 'https://als.wikipedia.org/wiki/Python',\n",
       " 'https://az.wikipedia.org/wiki/Python',\n",
       " 'https://bn.wikipedia.org/wiki/%E0%A6%AA%E0%A6%BE%E0%A6%87%E0%A6%A5%E0%A6%A8_(%E0%A6%A6%E0%A7%8D%E0%A6%AC%E0%A7%8D%E0%A6%AF%E0%A6%B0%E0%A7%8D%E0%A6%A5%E0%A6%A4%E0%A6%BE_%E0%A6%A8%E0%A6%BF%E0%A6%B0%E0%A6%B8%E0%A6%A8)',\n",
       " 'https://be.wikipedia.org/wiki/Python',\n",
       " 'https://bg.wikipedia.org/wiki/%D0%9F%D0%B8%D1%82%D0%BE%D0%BD_(%D0%BF%D0%BE%D1%8F%D1%81%D0%BD%D0%B5%D0%BD%D0%B8%D0%B5)',\n",
       " 'https://cs.wikipedia.org/wiki/Python_(rozcestn%C3%ADk)',\n",
       " 'https://da.wikipedia.org/wiki/Python',\n",
       " 'https://de.wikipedia.org/wiki/Python',\n",
       " 'https://eo.wikipedia.org/wiki/Pitono_(apartigilo)',\n",
       " 'https://eu.wikipedia.org/wiki/Python_(argipena)',\n",
       " 'https://fa.wikipedia.org/wiki/%D9%BE%D8%A7%DB%8C%D8%AA%D9%88%D9%86',\n",
       " 'https://fr.wikipedia.org/wiki/Python',\n",
       " 'https://ko.wikipedia.org/wiki/%ED%8C%8C%EC%9D%B4%EC%84%A0',\n",
       " 'https://hr.wikipedia.org/wiki/Python_(razdvojba)',\n",
       " 'https://io.wikipedia.org/wiki/Pitono',\n",
       " 'https://id.wikipedia.org/wiki/Python',\n",
       " 'https://ia.wikipedia.org/wiki/Python_(disambiguation)',\n",
       " 'https://is.wikipedia.org/wiki/Python_(a%C3%B0greining)',\n",
       " 'https://it.wikipedia.org/wiki/Python_(disambigua)',\n",
       " 'https://he.wikipedia.org/wiki/%D7%A4%D7%99%D7%AA%D7%95%D7%9F',\n",
       " 'https://ka.wikipedia.org/wiki/%E1%83%9E%E1%83%98%E1%83%97%E1%83%9D%E1%83%9C%E1%83%98_(%E1%83%9B%E1%83%A0%E1%83%90%E1%83%95%E1%83%90%E1%83%9A%E1%83%9B%E1%83%9C%E1%83%98%E1%83%A8%E1%83%95%E1%83%9C%E1%83%94%E1%83%9A%E1%83%9D%E1%83%95%E1%83%90%E1%83%9C%E1%83%98)',\n",
       " 'https://kg.wikipedia.org/wiki/Mboma_(nyoka)',\n",
       " 'https://la.wikipedia.org/wiki/Python_(discretiva)',\n",
       " 'https://lb.wikipedia.org/wiki/Python',\n",
       " 'https://hu.wikipedia.org/wiki/Python_(egy%C3%A9rtelm%C5%B1s%C3%ADt%C5%91_lap)',\n",
       " 'https://mr.wikipedia.org/wiki/%E0%A4%AA%E0%A4%BE%E0%A4%AF%E0%A4%A5%E0%A5%89%E0%A4%A8_(%E0%A4%86%E0%A4%9C%E0%A5%8D%E0%A4%9E%E0%A4%BE%E0%A4%B5%E0%A4%B2%E0%A5%80_%E0%A4%AD%E0%A4%BE%E0%A4%B7%E0%A4%BE)',\n",
       " 'https://nl.wikipedia.org/wiki/Python',\n",
       " 'https://ja.wikipedia.org/wiki/%E3%83%91%E3%82%A4%E3%82%BD%E3%83%B3',\n",
       " 'https://no.wikipedia.org/wiki/Pyton',\n",
       " 'https://pl.wikipedia.org/wiki/Pyton',\n",
       " 'https://pt.wikipedia.org/wiki/Python_(desambigua%C3%A7%C3%A3o)',\n",
       " 'https://ru.wikipedia.org/wiki/Python_(%D0%B7%D0%BD%D0%B0%D1%87%D0%B5%D0%BD%D0%B8%D1%8F)',\n",
       " 'https://sd.wikipedia.org/wiki/%D8%A7%D8%B1%DA%99',\n",
       " 'https://sk.wikipedia.org/wiki/Python',\n",
       " 'https://sh.wikipedia.org/wiki/Python',\n",
       " 'https://fi.wikipedia.org/wiki/Python',\n",
       " 'https://sv.wikipedia.org/wiki/Pyton',\n",
       " 'https://th.wikipedia.org/wiki/%E0%B9%84%E0%B8%9E%E0%B8%97%E0%B8%AD%E0%B8%99',\n",
       " 'https://tr.wikipedia.org/wiki/Python',\n",
       " 'https://uk.wikipedia.org/wiki/%D0%9F%D1%96%D1%84%D0%BE%D0%BD',\n",
       " 'https://ur.wikipedia.org/wiki/%D9%BE%D8%A7%D8%A6%DB%8C%D8%AA%DA%BE%D9%88%D9%86',\n",
       " 'https://vi.wikipedia.org/wiki/Python',\n",
       " 'https://zh.wikipedia.org/wiki/Python_(%E6%B6%88%E6%AD%A7%E4%B9%89)',\n",
       " 'https://www.wikidata.org/wiki/Special:EntityPage/Q747452#sitelinks-wikipedia',\n",
       " '//en.wikipedia.org/wiki/Wikipedia:Text_of_Creative_Commons_Attribution-ShareAlike_3.0_Unported_License',\n",
       " '//creativecommons.org/licenses/by-sa/3.0/',\n",
       " '//foundation.wikimedia.org/wiki/Terms_of_Use',\n",
       " '//foundation.wikimedia.org/wiki/Privacy_policy',\n",
       " '//www.wikimediafoundation.org/',\n",
       " 'https://foundation.wikimedia.org/wiki/Privacy_policy',\n",
       " '/wiki/Wikipedia:About',\n",
       " '/wiki/Wikipedia:General_disclaimer',\n",
       " '//en.wikipedia.org/wiki/Wikipedia:Contact_us',\n",
       " 'https://www.mediawiki.org/wiki/Special:MyLanguage/How_to_contribute',\n",
       " 'https://foundation.wikimedia.org/wiki/Cookie_statement',\n",
       " '//en.m.wikipedia.org/w/index.php?title=Python&mobileaction=toggle_view_mobile',\n",
       " 'https://wikimediafoundation.org/',\n",
       " 'https://www.mediawiki.org/']"
      ]
     },
     "execution_count": 22,
     "metadata": {},
     "output_type": "execute_result"
    }
   ],
   "source": [
    "# links=soup.find_all('a',attrs={'href': re.compile(\"^http\")})\n",
    "# links\n",
    "links=[]\n",
    "for link in soup.find_all('a'):\n",
    "    links.append(link.get('href'))\n",
    "[re.findall('https://',str(i)) for i in links]\n",
    "links\n",
    "# cleanlist=[re.findall('<a href=.{0,50}</a>',str(i)) for i in devs]\n",
    "# cleaner_list=[i[0] for i in cleanlist]\n"
   ]
  },
  {
   "cell_type": "markdown",
   "metadata": {},
   "source": [
    "#### Number of Titles that have changed in the United States Code since its last release point "
   ]
  },
  {
   "cell_type": "code",
   "execution_count": 23,
   "metadata": {},
   "outputs": [],
   "source": [
    "# This is the url you will scrape in this exercise\n",
    "url = 'http://uscode.house.gov/download/download.shtml'"
   ]
  },
  {
   "cell_type": "code",
   "execution_count": 24,
   "metadata": {},
   "outputs": [],
   "source": [
    "#your code\n",
    "html=requests.get(url).content\n",
    "# html\n",
    "\n",
    "soup= bs(html , 'lxml' )\n",
    "# soup"
   ]
  },
  {
   "cell_type": "code",
   "execution_count": 57,
   "metadata": {},
   "outputs": [],
   "source": [
    "devs=soup.find_all('div',{'class':\"usctitlechanged\"})\n"
   ]
  },
  {
   "cell_type": "code",
   "execution_count": 61,
   "metadata": {},
   "outputs": [
    {
     "data": {
      "text/plain": [
       "['Title 5 - Government Organization and Employees <',\n",
       " 'Title 11 - Bankruptcy <span class=\"footnote\"><',\n",
       " 'Title 13 - Census <span class=\"footnote\"><',\n",
       " 'Title 15 - Commerce and Trade\\\\\\\\n\\\\\\\\n        <',\n",
       " 'Title 20 - Education\\\\\\\\n\\\\\\\\n        <',\n",
       " 'Title 28 - Judiciary and Judicial Procedure <',\n",
       " 'Title 38 - Veterans\\\\\\\\\\\\\\' Benefits <span class=\"footnote\"><',\n",
       " 'Title 42 - The Public Health and Welfare\\\\\\\\n\\\\\\\\n        <']"
      ]
     },
     "execution_count": 61,
     "metadata": {},
     "output_type": "execute_result"
    }
   ],
   "source": [
    "devs = [re.findall('Title\\s*\\d*\\s*-\\s*.{0,50}\\s*<',str(i)) for i in devs]\n",
    "devs = [dev[0] for dev in devs]\n",
    "devs"
   ]
  },
  {
   "cell_type": "code",
   "execution_count": 65,
   "metadata": {},
   "outputs": [
    {
     "data": {
      "text/plain": [
       "['Title 5 - Government Organization and Employees ',\n",
       " 'Title 11 - Bankruptcy <span class=\"footnote\">',\n",
       " 'Title 13 - Census <span class=\"footnote\">',\n",
       " 'Title 15 - Commerce and Trade\\\\\\\\n\\\\\\\\n        ',\n",
       " 'Title 20 - Education\\\\\\\\n\\\\\\\\n        ',\n",
       " 'Title 28 - Judiciary and Judicial Procedure ',\n",
       " 'Title 38 - Veterans\\\\\\\\\\\\\\' Benefits <span class=\"footnote\">',\n",
       " 'Title 42 - The Public Health and Welfare\\\\\\\\n\\\\\\\\n        ']"
      ]
     },
     "execution_count": 65,
     "metadata": {},
     "output_type": "execute_result"
    }
   ],
   "source": [
    "# cleaner_list = [i.rstrip('</a>').lstrip('<a href=\"/').split('\">') for i in cleaner_list]\n",
    "# cleaner_list\n",
    "clean_list = [i.rstrip('<') for i in devs]\n"
   ]
  },
  {
   "cell_type": "markdown",
   "metadata": {},
   "source": [
    "#### A Python list with the top ten FBI's Most Wanted names "
   ]
  },
  {
   "cell_type": "code",
   "execution_count": 66,
   "metadata": {},
   "outputs": [],
   "source": [
    "# This is the url you will scrape in this exercise\n",
    "url = 'https://www.fbi.gov/wanted/topten'"
   ]
  },
  {
   "cell_type": "code",
   "execution_count": 69,
   "metadata": {},
   "outputs": [],
   "source": [
    "#your code \n",
    "#your code\n",
    "html=requests.get(url).content\n",
    "# html\n",
    "\n",
    "soup= bs(html , 'lxml' )\n",
    "# soup"
   ]
  },
  {
   "cell_type": "code",
   "execution_count": 86,
   "metadata": {},
   "outputs": [
    {
     "data": {
      "text/plain": [
       "bs4.element.Tag"
      ]
     },
     "execution_count": 86,
     "metadata": {},
     "output_type": "execute_result"
    }
   ],
   "source": [
    "list=soup.find_all('h3',{'class':\"title\"})\n",
    "type(list[0])"
   ]
  },
  {
   "cell_type": "code",
   "execution_count": 95,
   "metadata": {},
   "outputs": [],
   "source": [
    "# devs = [re.findall('Title\\s*\\d*\\s*-\\s*.{0,50}\\s*<',str(i)) for i in devs]\n",
    "# cleaner_list = [i.rstrip('</a>').lstrip('<a href=\"/').split('\">') for i in cleaner_list]\n",
    "name = [re.findall('>.{0,80}<',str(i)) for i in list]\n",
    "name = [i[0] for i in name]\n",
    "name =[i.rstrip('<').lstrip('>') for i in name]\n"
   ]
  },
  {
   "cell_type": "code",
   "execution_count": null,
   "metadata": {},
   "outputs": [],
   "source": [
    "'''\n",
    "['ALEJANDRO ROSALES CASTILLO',\n",
    " 'YASER ABDEL SAID',\n",
    " 'JASON DEREK BROWN',\n",
    " 'ALEXIS FLORES',\n",
    " 'EUGENE PALMER',\n",
    " 'SANTIAGO VILLALBA MEDEROS',\n",
    " 'RAFAEL CARO-QUINTERO',\n",
    " 'ROBERT WILLIAM FISHER',\n",
    " 'BHADRESHKUMAR CHETANBHAI PATEL',\n",
    " 'ARNOLDO JIMENEZ']\n",
    " '''"
   ]
  },
  {
   "cell_type": "markdown",
   "metadata": {},
   "source": [
    "####  20 latest earthquakes info (date, time, latitude, longitude and region name) by the EMSC as a pandas dataframe"
   ]
  },
  {
   "cell_type": "code",
   "execution_count": 96,
   "metadata": {},
   "outputs": [],
   "source": [
    "# This is the url you will scrape in this exercise\n",
    "url = 'https://www.emsc-csem.org/Earthquake/'"
   ]
  },
  {
   "cell_type": "code",
   "execution_count": 98,
   "metadata": {},
   "outputs": [
    {
     "data": {
      "text/plain": [
       "<!DOCTYPE html PUBLIC \"-//W3C//DTD XHTML 1.0 Strict//EN\" \"http://www.w3.org/TR/xhtml1/DTD/xhtml1-strict.dtd\">\n",
       "<html lang=\"en\" xml:lang=\"en\" xmlns=\"http://www.w3.org/1999/xhtml\" xmlns:og=\"http://opengraphprotocol.org/schema/\">\n",
       "<head><meta content=\"srFzNKBTd0FbRhtnzP--Tjxl01NfbscjYwkp4yOWuQY\" name=\"google-site-verification\"/><meta content=\"BCAA3C04C41AE6E6AFAF117B9469C66F\" name=\"msvalidate.01\"/><meta content=\"43b36314ccb77957\" name=\"y_key\"/><!-- 5-Clk8f50tFFdPTU97Bw7ygWE1A -->\n",
       "<meta content=\"en\" http-equiv=\"Content-Language\"/><meta content=\"text/html; charset=utf-8\" http-equiv=\"Content-Type\"/>\n",
       "<meta content=\"all\" name=\"robots\"/>\n",
       "<meta content=\"earthquake,earthquakes,last earthquake,earthquake today,earthquakes today,earth quake,earth quakes,real time seismicity,seismic,seismicity,seismicity map,seismology,sismologie,EMSC,CSEM,seismicity on google earth,sumatra,tsunami,tsunamis,map,maps,richter,mercalli,moment tensors,epicenter,magnitude,seismology,foreshock,aftershock,tremor\" name=\"keywords\"/>\n",
       "<meta content=\"Latest Earthquakes in the world. World earthquake list. Earthquake information. earthquakes today - recent and latest earthquakes, earthquake map and earthquake information. Earthquake information for europe. EMSC (European Mediterranean Seismological Centre) provides real time earthquake information for seismic events with magnitude larger than 5 in the European Mediterranean area and larger than 7 in the rest of the world.\" lang=\"en\" name=\"description\"/>\n",
       "<meta content=\"EMSC - European-Mediterranean Seismological Centre\" name=\"publisher\"/>\n",
       "<link href=\"https://www.emsc-csem.org/favicon.ico\" rel=\"shortcut icon\" type=\"image/x-icon\"/>\n",
       "<link href=\"https://www.emsc-csem.org/favicon.png\" rel=\"icon\" type=\"image/png\"/>\n",
       "<link href=\"https://www.emsc-csem.org/service/rss/rss.php?typ=emsc\" rel=\"alternate\" title=\"EMSC:  RSS Feed\" type=\"application/rss+xml\"/>\n",
       "<link href=\"https://www.emsc-csem.org/service/rss/rss.php?typ=emsc&amp;magmin=4\" rel=\"alternate\" title=\"EMSC:  MAG&gt;=4\" type=\"application/rss+xml\"/>\n",
       "<link href=\"https://www.emsc-csem.org/service/rss/rss.php?typ=emsc&amp;magmin=5\" rel=\"alternate\" title=\"EMSC:  MAG&gt;=5\" type=\"application/rss+xml\"/>\n",
       "<link href=\"https://www.emsc-csem.org/service/rss/rss.php?typ=emsc&amp;magmin=6\" rel=\"alternate\" title=\"EMSC:  MAG&gt;=6\" type=\"application/rss+xml\"/>\n",
       "<title>Earthquakes today | Earthquake today | earthquake | earthquakes</title>\n",
       "<!--[if !(IE)|(gt IE 7)]><!--><link href=\"https://static3.emsc.eu/Css/m_csem.css\" rel=\"stylesheet\" type=\"text/css\"/><link href=\"https://static1.emsc.eu/Css/m_csem_ie.css\" rel=\"stylesheet\" type=\"text/css\"/><link href=\"https://static2.emsc.eu/Css/menu.css\" rel=\"stylesheet\" type=\"text/css\"/><link href=\"https://static3.emsc.eu/Css/menu_ie.css\" rel=\"stylesheet\" type=\"text/css\"/>\n",
       "<style type=\"text/css\">#contenu,  #footer, #nav {\n",
       "\twidth: 950px;\n",
       "}</style><script src=\"https://static2.emsc.eu/javascript/widget.js\" type=\"text/javascript\"></script>\n",
       "<script type=\"text/javascript\">\n",
       "\t\t\tvar basehref=window.location.protocol+\"//\"+window.location.hostname; \n",
       "\t\t\t</script>\n",
       "<!--[if lte IE 6]> <script type=\"text/javascript\" src=\"https://static1.emsc.eu/Css/javascript_v3.js\"></script> <![endif]--><script src=\"https://static2.emsc.eu/javascript/jquery_corner.js\" type=\"text/javascript\"></script>\n",
       "<script src=\"https://static3.emsc.eu/javascript/fonc_utils.js\" type=\"text/javascript\"></script>\n",
       "<script src=\"https://static1.emsc.eu/javascript/dyndate.js\" type=\"text/javascript\"></script>\n",
       "<script>addjs_after(\"https://static2.emsc.eu/javascript/alert_bandeau_v2.js\");</script><script type=\"text/javascript\">addcss_after(\"https://static3.emsc.eu/Css/print.css\",\"print\"); </script>\n",
       "</head><body>\n",
       "<div id=\"contenu\"><!-- Start container -->\n",
       "<div id=\"bandeau\"><style> .ban022{background:url('https://static1.emsc.eu/Css/img/spriteBannApp.jpg') no-repeat;} .ban0{background:#B40015;/*#000;*/width:100%;height:100%;border:0;} .ban1{vertical-align:top;text-align:center;padding-top:4px;width:150px;} \n",
       "\t\t\t.ban2{position:relative; vertical-align:middle;text-align:center; color:#fff; background-position:0px -41px;/*10px -41px;*/} \n",
       "\t\t\t.ban3{width:140px;padding-left:5px;text-align:center;background-position:-640px -41px;}\n",
       "\t\t\t#ejs_server_heure {position:absolute; bottom:0; width:100%;}\n",
       "\t\t\t#bandeau{background:#B40015;}</style><table cellpadding=\"0\" cellspacing=\"0\" class=\"ban0\"><tr><td class=\"ban1\" onclick=\"window.location.href='https://www.emsc-csem.org';\" onmouseover=\"this.style.cursor='pointer';\">\n",
       "<img alt=\"logo - home\" src=\"https://static2.emsc.eu/Css/img/logo.png\" style=\"width:150px;height:81px;\"/></td>\n",
       "<td class=\"ban2 ban022\" onclick=\"window.location.href='https://www.emsc-csem.org';\" onmouseover=\"this.style.cursor='pointer';\">\n",
       "<div style=\"border:0; position:relative; float:right; width:110px; height:80px; margin-top:-5px; margin-right:25px; \">\n",
       "<div id=\"androidstore\" style=\"border:0; position:relative; float:left; width:110px; height:35px;\"></div>\n",
       "<div id=\"iosstore\" style=\"border:0; position:relative; float:left; width:110px; height:35px; margin-top:8px;\"></div>\n",
       "</div>\n",
       "<script type=\"text/javascript\">set_server_date(2019,9,18,18,42,53)</script>\n",
       "<div id=\"ejs_server_heure\">Current time: 2019-09-18 18:42:53 UTC</div>\n",
       "</td>\n",
       "<td align=\"right\" class=\"ban3 ban022\"><div class=\"login_box\" id=\"login_box\"><form action=\"https://www.emsc-csem.org/Member/\" enctype=\"multipart/form-data\" method=\"post\">\n",
       "<table cellpadding=\"0\" cellspacing=\"0\" style=\"width:100%;height:100%;border:0;\"><tr><td colspan=\"2\" style=\"text-align: center; font-size: 11px; font-weight: bold; color: #fff;\">\n",
       "<span class=\"spriteorig sp_lock vbottom\"></span> Member access</td></tr><tr><td colspan=\"2\" style=\"height: 2px;text-align:center;\">\n",
       "<img alt=\"\" src=\"data:image/png;base64,iVBORw0KGgoAAAANSUhEUgAAAAEAAAABCAQAAAC1HAwCAAAABGdBTUEAALGPC/xhBQAAAAtJREFUCNdjYGAAAAADAAEg1ZTHAAAAAElFTkSuQmCC\" style=\"display: block;width:1px;border:0;height:2px;\"/></td></tr>\n",
       "<tr><td style=\"font-size: 11px; font-weight: bold; text-align: left; color: #000;\">Name </td>\n",
       "<td style=\"text-align:left;\"><input maxlength=\"10\" name=\"login\" size=\"8\" style=\"height: 11px; width: 80px; font-size: 11px;\" type=\"text\"/></td></tr>\n",
       "<tr><td colspan=\"2\" style=\"height: 2px;text-align:center;\"><img alt=\"\" src=\"data:image/png;base64,iVBORw0KGgoAAAANSUhEUgAAAAEAAAABCAQAAAC1HAwCAAAABGdBTUEAALGPC/xhBQAAAAtJREFUCNdjYGAAAAADAAEg1ZTHAAAAAElFTkSuQmCC\" style=\"display: block;width:1px; border:0;height:2px;\"/></td></tr>\n",
       "<tr><td style=\"font-size: 11px; font-weight: bold; text-align: left; color: #000;\">Pwd</td>\n",
       "<td style=\"text-align:left;\"><input maxlength=\"32\" name=\"pwd\" size=\"8\" style=\"height: 11px; width: 80px; font-size: 11px;\" type=\"password\"/></td></tr>\n",
       "<tr><td colspan=\"2\" style=\"height: 2px;text-align:center;\"><img alt=\"\" src=\"data:image/png;base64,iVBORw0KGgoAAAANSUhEUgAAAAEAAAABCAQAAAC1HAwCAAAABGdBTUEAALGPC/xhBQAAAAtJREFUCNdjYGAAAAADAAEg1ZTHAAAAAElFTkSuQmCC\" style=\"display: block;width:1px;border:0;height:2px;\"/></td>\n",
       "</tr><tr><td> </td><td style=\"text-align:left;\"><input style=\"height: 20px; font-size: 11px;\" type=\"submit\" value=\"Sign in\"/></td></tr></table></form></div></td></tr></table><script>\n",
       "\t\t\t$jq(function(){\n",
       "\t\t\t\t$jq(\"#androidstore\").bind(\"click\", function(e) { e.preventDefault(); e.stopPropagation(); $jq.post(\"/indexAjaxApp.php\", { linkto:\"android\",from:\"site\"}, function () {});  window.open(\"https://play.google.com/store/apps/details?id=org.emsc_csem.lastquake\",\"_blank\"); });\n",
       "\t\t\t\t$jq(\"#iosstore\").bind(\"click\", function(e) { e.preventDefault(); e.stopPropagation(); $jq.post(\"/indexAjaxApp.php\", { linkto:\"ios\",from:\"site\" }, function () {});  window.open(\"https://itunes.apple.com/us/app/lastquake/id890799748\",\"_blank\"); });\n",
       "\t\t\t\t\n",
       "\t\t\t});\n",
       "\t\t\t</script>\n",
       "</div>\n",
       "<ul id=\"nav\">\n",
       "<!-- earthquake level 0 -->\n",
       "<li><a href=\"https://www.emsc-csem.org/Earthquake/info.php\">Earthquake information</a>\n",
       "<ul>\n",
       "<li><a href=\"https://www.emsc-csem.org/Earthquake/\">List of latest earthquakes</a></li>\n",
       "<li><a href=\"https://www.emsc-csem.org/Earthquake/significant_earthquakes.php\">Significant earthquakes</a></li>\n",
       "<li><a href=\"https://www.emsc-csem.org/Earthquake/?filter=yes\">Search earthquakes</a></li>\n",
       "<li><a href=\"https://www.emsc-csem.org/Earthquake/Map/gmap.php\">Earthquakes interactive map</a></li>\n",
       "<li><a href=\"https://www.emsc-csem.org/Earthquake/near_you.php\">Earthquakes near you</a></li>\n",
       "<li><a href=\"https://www.emsc-csem.org/Earthquake/felt.php\">Felt earthquakes</a></li>\n",
       "<li><a href=\"https://www.emsc-csem.org/Earthquake/News/\">Special reports</a></li>\n",
       "<li><a href=\"https://www.emsc-csem.org/Earthquake/seismicity/real_time.php\">How it works</a></li>\n",
       "</ul></li>\n",
       "<!-- search level 0 -->\n",
       "<li><a href=\"https://www.emsc-csem.org/Earthquake/Contribute/\" onmouseout=\"info_b('notshow','','');\" onmouseover=\"info_b('show','The flag is the visible language that seems to be the most appropriate to respond to our questionnaire.','Language');\"><img id=\"flag\" src=\"/Images/flag/flag_en.png\" style=\"vertical-align:bottom;height:12px;width:18px;margin-bottom:-2px;\"/>  Testimonies, photos</a>\n",
       "<ul>\n",
       "<li><a href=\"https://www.emsc-csem.org/Earthquake/Gallery/\">Photos</a></li>\n",
       "<li><a href=\"https://www.emsc-csem.org/Earthquake/Testimonies/\">Testimonies</a></li>\n",
       "</ul></li>\n",
       "<!-- data level 0 -->\n",
       "<li><a href=\"https://www.emsc-csem.org/service/\">Information services</a>\n",
       "<ul>\n",
       "<li><a href=\"https://www.emsc-csem.org/service/real_time/\"><span class=\"spriteorig sp_phone\" style=\"vertical-align:middle;\"></span> For smartphones</a></li>\n",
       "<li><a href=\"https://www.emsc-csem.org/service/application/\"><span class=\"spriteorig sp_phone\" style=\"vertical-align:middle;\"></span> Android &amp; iOS App</a></li>\n",
       "<li><a href=\"https://www.emsc-csem.org/service/Browser-extension/\"><span style=\"display:inline-block;background:url(/Css/img/extension-icon.png) no-repeat;width:16px;height:16px;vertical-align:middle;\"></span> Browser extensions</a></li>\n",
       "<li><a href=\"https://www.seismicportal.eu/webservices.html\"><span class=\"spriteorig sp_feed-icon14\" style=\"vertical-align:middle;\"></span> Webservices</a></li>\n",
       "<li><a href=\"https://www.emsc-csem.org/service/rss/\"><span class=\"spriteorig sp_feed-icon14\" style=\"vertical-align:middle;\"></span> RSS feeds</a></li>\n",
       "<li><a href=\"https://www.emsc-csem.org/Earthquake/Map/earth/\"><span class=\"spriteorig sp_ge2\" style=\"vertical-align:middle;\"></span> Seismicity on Google Earth</a></li>\n",
       "<li><a href=\"https://www.emsc-csem.org/service/register.php\"><span class=\"spriteorig sp_alert1\" style=\"vertical-align:middle;\"></span> Email notification service</a></li>\n",
       "</ul></li>\n",
       "<!-- seismicity level 0 -->\n",
       "<li><a href=\"https://www.emsc-csem.org/Earthquake/for_seismologist.php\">For seismologists</a>\n",
       "<ul>\n",
       "<li><a href=\"https://www.emsc-csem.org/Earthquake/seismologist.php\">Latest data contributions</a></li>\n",
       "<li><a href=\"https://www.emsc-csem.org/Earthquake/index_tensors.php\">Moment tensors</a></li>\n",
       "<li><a href=\"https://www.emsc-csem.org/Bulletin/\">Euro-Med bulletin</a></li>\n",
       "<li><a href=\"https://www.seismicportal.eu/\" target=\"_blank\">Seismic Portal</a></li>\n",
       "<li><a href=\"https://www.emsc-csem.org/News/\">News</a></li>\n",
       "<li><a href=\"https://www.emsc-csem.org/job/\">Jobs</a></li>\n",
       "</ul></li>\n",
       "<!-- project level 0 -->\n",
       "<li><a href=\"https://www.emsc-csem.org/Project/\">Projects</a>\n",
       "<ul>\n",
       "<li><a href=\"https://www.emsc-csem.org/Project/#aristotle\">ARISTOTLE</a></li>\n",
       "<li><a href=\"https://www.emsc-csem.org/Project/#carismand\">CARISMAND</a></li>\n",
       "<li><a href=\"https://www.emsc-csem.org/Project/#improver\">IMPROVER</a></li>\n",
       "<li><a href=\"https://www.emsc-csem.org/Project/#seismic\">Seismic portal</a></li>\n",
       "<li><a href=\"https://www.emsc-csem.org/Project/#citizen\">Citizen seismology</a></li>\n",
       "<li><a href=\"https://www.emsc-csem.org/Project/#qcn\">Quake Catcher Network</a></li>\n",
       "<li><a href=\"https://www.emsc-csem.org/Project/#sigma\">Sigma</a></li>\n",
       "<li><a href=\"https://www.emsc-csem.org/Project/#verce\">Verce</a></li>\n",
       "<li><a href=\"https://www.emsc-csem.org/Project/#marsite\">MARsite</a></li>\n",
       "<li><a href=\"https://www.emsc-csem.org/Project/#nera\">NERA</a></li>\n",
       "<li><a href=\"https://www.emsc-csem.org/Project/#EPOS\">EPOS</a></li>\n",
       "<li><a href=\"https://www.emsc-csem.org/Project/#REAKT\">REAKT</a></li>\n",
       "</ul></li>\n",
       "<!-- publi level 0 -->\n",
       "<li><a href=\"https://www.emsc-csem.org/Documents/\">Publications &amp; docs</a></li>\n",
       "</ul><div class=\"clearer\"></div><div class=\"clearer\"></div>\n",
       "<div id=\"sitemap\"><i>You are here : </i>\n",
       "<a href=\"https://www.emsc-csem.org\">EMSC</a> &gt; Earthquake &gt; Real Time Seismicity\n",
       "\t\t<div>Our sponsors: \n",
       "\t\t<span id=\"sponsor\"><a href=\"http://www.digitalelement.com/\" target=\"_blank\">digitalelement<div id=\"sponimg\"><img src=\"https://static3.emsc.eu/Images/sites/p_netacuity_01.gif\"/></div></a></span>\n",
       "<a href=\"/Donate/\"><span class=\"spriteorig sp_btn_donate_SM\" style=\"vertical-align:middle;margin-top:-2px;\"></span></a>    <a href=\"/about/\">About EMSC</a></div>\n",
       "</div><style type=\"text/css\"> \n",
       "\t\t#sitemap div, x:-moz-any-link {margin-top:-13px;} /* Firefox 2*/\n",
       "\t\t#sitemap div, x:-moz-any-link, x:default {margin-top:0;} /* Firefox >=3*/\n",
       "\t\t#sponsor{margin-right:15px;}\n",
       "\t\tdiv#sponimg{position:absolute; display:none; padding:20px; background:rgba(0,0,0,.8);vertical-align:middle;} #sponsor a:hover>div { display: block; }\n",
       "\t\tdiv#sponimg img{vertical-align:middle;}\n",
       "\t</style>\n",
       "<!--[if lte IE 7]><style type=\"text/css\">#sitemap div{ margin-top:-13px;} </style><![endif]-->\n",
       "<script> var sponsor = {\n",
       "\t\t_sp:{\"netacuity\":{\"logo\":\"https:\\/\\/static3.emsc.eu\\/Images\\/sites\\/p_netacuity_01.gif\",\"link\":\"http:\\/\\/www.digitalelement.com\\/\",\"name\":\"digitalelement\"},\"geosig\":{\"logo\":\"https:\\/\\/static1.emsc.eu\\/Images\\/sites\\/geosig_logo.jpg\",\"text\":\"Strong motion instrumentation with a focus on Earthquake Early Warning<br>\",\"link\":\"http:\\/\\/www.geosig.com\\/\",\"name\":\"GeoSIG\"}}, _i:0, _keys:null,\n",
       "\t\t_start:function() {\n",
       "\t\t\tthis._keys = Object.keys(this._sp);\t\n",
       "\t\t},\t\n",
       "\t\t_next: function() {\n",
       "\t\t\tthis._i++;\n",
       "\t\t\tif(this._i >= this._keys.length) this._i=0;\n",
       "\t\t\tvar k=this._keys[this._i]; //console.log(this._keys.length, k, this._i);\n",
       "\t\t\t//console.log( $jq(\"#sponsor a\").contents());\n",
       "\t\t\t$jq(\"#sponsor a\").attr(\"href\",this._sp[k][\"link\"]);\n",
       "\t\t\t$jq(\"#sponsor a\").contents()[0].textContent=this._sp[k][\"name\"]; $jq(\"#sponimg img\").attr(\"src\",this._sp[k][\"logo\"]);\n",
       "\t\t\tvar self=this;\n",
       "\t\t\tsetTimeout(function() {self._next();},1000*40);\n",
       "\t\t}\t\n",
       "\t}\n",
       "\t$jq(function() {\n",
       "\t\t//console.log( \"ready!\" );\n",
       "\t\tsponsor._start();\n",
       "\t\tsponsor._next();\n",
       "\t});\n",
       "\t</script>\n",
       "<div id=\"info_bulle\"><div class=\"inf_t\" id=\"inf_t\"></div><div class=\"inf_te\" id=\"inf_te\"></div></div>\n",
       "<div id=\"info_bulle2\"><div class=\"inf_seul\" id=\"inf_seul\"></div></div>\n",
       "<div id=\"content\"><!-- Start content --><div id=\"bann_defile\"><span class=\"markee\" id=\"markee_bann_defile\" name=\"markee_bann_defile\">temp</span><span id=\"bann_disclam\" style=\"display:none;\"><a href=\"/disclaimer.php\">Disclaimer</a></span></div>\n",
       "<h1><span>Real Time Seismicity</span></h1><!-- ============ TITRE ===================== --><div id=\"quick_access\" style=\"font-size:11px;text-align:center; margin-bottom:5px;\">\n",
       "<a href=\"/Earthquake/?filter=yes\"><span class=\"spriteorig sp_Icon_tools_th\" style=\"margin-right:3px;\"></span>Define your criteria</a> to find specific events  -  Quick search: \n",
       "\t<a href=\"/Earthquake/world/M3/\"> mag≥3 </a> | <a href=\"/Earthquake/world/M4/\"> mag≥4 </a> | <a href=\"/Earthquake/world/M5/\"> mag≥5 </a>\n",
       "</div><style type=\"text/css\"> .npages { height:30px; text-align:center; font-weight:bold; } .npages td { border-bottom: 2px solid #EDF3FE;} a.sublink { /*height:18px;*/ padding:5px 10px; border:1px solid #ccc; margin:0 4px; text-decoration:underline; background-color:#fff;} \n",
       "\t\t\ta.sublinka { color:#000; text-decoration:none; font-weight:normal; background-color:#FFFFCC; /*rgb(255,255,0);*/ background-color:rgba(255,255,0,0.3); } \n",
       "\t\t\t</style>\n",
       "<!--[if IE]>  \n",
       "\t\t\t<style type=\"text/css\">\n",
       "\t\t\t.sublinka { background:transparent; filter:progid:DXImageTransform.Microsoft.gradient(startColorstr=#FFFFFFCC,endColorstr=#FFFFFFCC); zoom:1; opacity:0.9; } .sublink {zoom:1;}\n",
       "\t\t\t</style> \n",
       "\t\t\t<![endif]--> <link href=\"https://static2.emsc.eu/Css/tableau_event.css\" rel=\"stylesheet\" type=\"text/css\"/>\n",
       "<style type=\"text/css\">\n",
       "\t\t\t@media print {\n",
       "\t\t\t\ttbody td {font-size:10px; } .comment { font-size:7px; width:78px;} .tabev3 { padding-right:15px; } .tabev2 { padding-right:2px; } .tabev5 { padding-right:0; padding-left:2px; } .tabev6 { width:140px; }\n",
       "\t\t\t\t.pagelist,.autour,.tb_infos,.npages {display:none;}\t.black td{border-top:1px solid black;} #quick_access{display:none;}\n",
       "\t\t\t}\n",
       "\t\t\t</style><script> addjs_after(\"https://static3.emsc.eu/javascript/tri_tableau.js\"); \n",
       "\t\t\t\t\t\t\taddjs_after(\"https://static1.emsc.eu/javascript/tableau_tri_event.js\"); \n",
       "\t\t\t\t</script><table style=\"width:99%;\"><tr class=\"tb_infos\"><td><span class=\"spriteorig sp_info\"></span> - Sorting by column is performed on the data of the current page.</td><td style=\"text-align:right;\"><a href=\"/glossary.php\">Glossary</a></td></tr></table><script> var scrollable=false; </script><table border=\"0\" cellpadding=\"0\" cellspacing=\"0\" width=\"100%\"><thead>\n",
       "<tr>\n",
       "<td colspan=\"13\" style=\"background: white;height: 1px\"></td>\n",
       "</tr>\n",
       "<tr id=\"haut_tableau\"><th class=\"th2 th3\" colspan=\"3\" style=\"width:90px;display:table-csell;\"><div onmouseout=\"info_b('notshow','','');\" onmouseover=\"info_b('show','Represents the results of information provided by users (Felt earthquake, pictures, testimonies ,...)&lt;br&gt;See an intensity map for more details on the macroseismic intensity scale.','Citizen response');\">Citizen<br/>Response</div><br/><table cellpadding=\"0\" cellspacing=\"0\" style=\"width:100%;margin:0;text-align:center;\"><tr><td><div onclick=\"change_tri('im_report');\" onmouseout=\"change_image(this,'out','im_report');\" onmouseover=\"change_image(this,'over','im_report');\"><span class=\"spriteorig sp_ico_list\" onmouseout=\"info_b2('notshow','');\" onmouseover=\"info_b2('show','Sorted by number of &lt;b&gt;Comments&lt;/b&gt;');\"></span><span class=\"spriteorig sp_s_asc\" id=\"im_report\" style=\"display:none;\"></span></div></td><td><div onclick=\"change_tri('im_pics');\" onmouseout=\"change_image(this,'out','im_pics');\" onmouseover=\"change_image(this,'over','im_pics');\"><span class=\"spriteorig sp_digikam\" onmouseout=\"info_b2('notshow','');\" onmouseover=\"info_b2('show','Sorted by number of &lt;b&gt;Pictures&lt;/b&gt;');\"></span><span class=\"spriteorig sp_s_asc\" id=\"im_pics\" style=\"display:none;\"></span></div></td><td><div onclick=\"change_tri('im_intens');\" onmouseout=\"change_image(this,'out','im_intens');\" onmouseover=\"change_image(this,'over','im_intens');\"><span class=\"spriteorig sp_IntensityMap\" onmouseout=\"info_b2('notshow','');\" onmouseover=\"info_b2('show','Sorted by &lt;b&gt;Macroseismic Intensity&lt;/b&gt;');\"></span><span class=\"spriteorig sp_s_asc\" id=\"im_intens\" style=\"display:none;\"></span></div></td></tr></table></th><th class=\"th2\" onclick=\"change_tri('im_time');\" onmouseout=\"change_image(this,'out','im_time');\" onmouseover=\"change_image(this,'over','im_time');\">Date &amp; Time <span class=\"spriteorig sp_s_desc\" id=\"im_select\"></span><div style=\"font-weight:normal;\">UTC</div></th><th class=\"th2\" colspan=\"2\" onclick=\"change_tri('im_lat');\" onmouseout=\"change_image(this,'out','im_lat');\" onmouseover=\"change_image(this,'over','im_lat');\">Latitude <span class=\"spriteorig sp_s_asc\" id=\"im_lat\" style=\"display:none;\"></span><div style=\"font-weight:normal;\">degrees</div></th><th class=\"th2\" colspan=\"2\" onclick=\"change_tri('im_lon');\" onmouseout=\"change_image(this,'out','im_lon');\" onmouseover=\"change_image(this,'over','im_lon');\">Longitude <span class=\"spriteorig sp_s_asc\" id=\"im_lon\" style=\"display:none;\"></span><div style=\"font-weight:normal;\">degrees</div></th><th class=\"th2\" onclick=\"change_tri('im_depth');\" onmouseout=\"change_image(this,'out','im_depth');\" onmouseover=\"change_image(this,'over','im_depth');\">Depth <span class=\"spriteorig sp_s_asc\" id=\"im_depth\" style=\"display:none;\"></span><div style=\"font-weight: normal\">km</div></th><th class=\"th2\" colspan=\"1\" id=\"thmag\"><div onclick=\"change_tri('im_mag');\" onmouseout=\"change_image(this,'out','im_mag');\" onmouseover=\"change_image(this,'over','im_mag');\" style=\"float:left;\">Mag <span class=\"spriteorig sp_s_asc\" id=\"im_mag\" style=\"display:none;\"></span></div><div id=\"magplus2\" style=\"float:left;\"> <a href=\"javascript:hide_magni();\" id=\"magplus\" style=\"color:white;\">[+]</a></div></th><th class=\"th2\" id=\"ex_th2\"><div onclick=\"change_tri('im_reg');\" onmouseout=\"change_image(this,'out','im_reg');\" onmouseover=\"change_image(this,'over','im_reg');\" style=\"float:left;\">Region name <span class=\"spriteorig sp_s_asc\" id=\"im_reg\" style=\"display:none;\"></span></div><div id=\"upda\" onmouseout=\"info_b2('notshow','');\" onmouseover=\"info_b2('show','Show last update');\"> <a href=\"javascript:hide_upd();\" style=\"color:white;\">[+]</a></div></th><th class=\"th2 updatetimeno\" id=\"upd\"><div id=\"labupd\" onclick=\"change_tri('im_upd');\" onmouseout=\"change_image(this,'out','im_upd');\" onmouseover=\"change_image(this,'over','im_upd');\" style=\"float:left;text-align:right;\">Last update <span class=\"spriteorig sp_s_asc\" id=\"im_upd\" style=\"display:none;\"></span></div><div id=\"hideupda\" onmouseout=\"info_b2('notshow','');\" onmouseover=\"info_b2('show','Hide last update');\" style=\"float:left;\"><a href=\"javascript:hide_upd();\" style=\"color:white;\">[-]</a></div></th></tr>\n",
       "<tr><td colspan=\"13\" style=\"background: white;height: 1px\"></td></tr>\n",
       "<tr class=\"npages\" id=\"my_pagelist_0\"><td colspan=\"13\"><a class=\"sublink sublinka\" href=\"javascript:void()\" rel=\"nofollow\">1</a><a class=\"sublink\" href=\"/Earthquake/?view=2\">2</a><a class=\"sublink\" href=\"/Earthquake/?view=3\">3</a><a class=\"sublink\" href=\"/Earthquake/?view=4\">4</a><a class=\"sublink\" href=\"/Earthquake/?view=5\">5</a><a class=\"sublink\" href=\"/Earthquake/?view=6\">6</a><a class=\"sublink\" href=\"/Earthquake/?view=7\">7</a><a class=\"sublink\" href=\"/Earthquake/?view=8\">8</a><a class=\"sublink\" href=\"/Earthquake/?view=9\">9</a><a class=\"sublink\" href=\"/Earthquake/?view=10\">10</a><a alt=\"Next page\" class=\"sublink\" href=\"/Earthquake/?view=2\"></a><a alt=\"Next 10 pages\" class=\"sublink\" href=\"/Earthquake/?view=11\">»</a></td></tr></thead><tbody id=\"tbody\"><tr class=\"ligne1 normal\" id=\"793051\" onclick=\"go_details(event,793051);\"><td class=\"tabev0\"></td><td class=\"tabev0\"></td><td class=\"tabev0\"></td><td class=\"tabev6\"><b><i style=\"display:none;\">earthquake</i><a href=\"/Earthquake/earthquake.php?id=793051\">2019-09-18   18:09:46.0</a></b><i class=\"ago\" id=\"ago0\">33min ago</i></td><td class=\"tabev1\">51.61 </td><td class=\"tabev2\">N  </td><td class=\"tabev1\">16.12 </td><td class=\"tabev2\">E  </td><td class=\"tabev3\">1</td><td class=\"tabev5\" id=\"magtyp0\">ML</td><td class=\"tabev2\">2.8</td><td class=\"tb_region\" id=\"reg0\"> POLAND</td><td class=\"comment updatetimeno\" id=\"upd0\" style=\"text-align:right;\">2019-09-18 18:16</td></tr>\n",
       "<tr class=\"ligne2 normal\" id=\"793052\" onclick=\"go_details(event,793052);\"><td class=\"tabev0\"></td><td class=\"tabev0\"></td><td class=\"tabev0\"></td><td class=\"tabev6\"><b><i style=\"display:none;\">earthquake</i><a href=\"/Earthquake/earthquake.php?id=793052\">2019-09-18   18:04:03.6</a></b><i class=\"ago\" id=\"ago1\">38min ago</i></td><td class=\"tabev1\">42.80 </td><td class=\"tabev2\">N  </td><td class=\"tabev1\">13.13 </td><td class=\"tabev2\">E  </td><td class=\"tabev3\">11</td><td class=\"tabev5\" id=\"magtyp1\">ML</td><td class=\"tabev2\">2.7</td><td class=\"tb_region\" id=\"reg1\"> CENTRAL ITALY</td><td class=\"comment updatetimeno\" id=\"upd1\" style=\"text-align:right;\">2019-09-18 18:18</td></tr>\n",
       "<tr class=\"ligne1 normal\" id=\"793049\" onclick=\"go_details(event,793049);\"><td class=\"tabev0\"></td><td class=\"tabev0\"></td><td class=\"tabev0\"></td><td class=\"tabev6\"><b><i style=\"display:none;\">earthquake</i><a href=\"/Earthquake/earthquake.php?id=793049\">2019-09-18   17:23:56.2</a></b><i class=\"ago\" id=\"ago2\">1hr 18min ago</i></td><td class=\"tabev1\">40.36 </td><td class=\"tabev2\">N  </td><td class=\"tabev1\">124.04 </td><td class=\"tabev2\">W  </td><td class=\"tabev3\">24</td><td class=\"tabev5\" id=\"magtyp2\">Ml</td><td class=\"tabev2\">3.4</td><td class=\"tb_region\" id=\"reg2\"> NORTHERN CALIFORNIA</td><td class=\"comment updatetimeno\" id=\"upd2\" style=\"text-align:right;\">2019-09-18 17:26</td></tr>\n",
       "<tr class=\"ligne2 normal\" id=\"793048\" onclick=\"go_details(event,793048);\"><td class=\"tabev0\"></td><td class=\"tabev0\"></td><td class=\"tabev0\"></td><td class=\"tabev6\"><b><i style=\"display:none;\">earthquake</i><a href=\"/Earthquake/earthquake.php?id=793048\">2019-09-18   16:57:30.2</a></b><i class=\"ago\" id=\"ago3\">1hr 45min ago</i></td><td class=\"tabev1\">37.87 </td><td class=\"tabev2\">N  </td><td class=\"tabev1\">112.49 </td><td class=\"tabev2\">W  </td><td class=\"tabev3\">6</td><td class=\"tabev5\" id=\"magtyp3\">Ml</td><td class=\"tabev2\">2.6</td><td class=\"tb_region\" id=\"reg3\"> UTAH</td><td class=\"comment updatetimeno\" id=\"upd3\" style=\"text-align:right;\">2019-09-18 17:16</td></tr>\n",
       "<tr class=\"ligne1 normal\" id=\"793047\" onclick=\"go_details(event,793047);\"><td class=\"tabev0\"></td><td class=\"tabev0\"></td><td class=\"tabev0\"></td><td class=\"tabev6\"><b><i style=\"display:none;\">earthquake</i><a href=\"/Earthquake/earthquake.php?id=793047\">2019-09-18   16:43:59.4</a></b><i class=\"ago\" id=\"ago4\">1hr 58min ago</i></td><td class=\"tabev1\">38.81 </td><td class=\"tabev2\">N  </td><td class=\"tabev1\">122.79 </td><td class=\"tabev2\">W  </td><td class=\"tabev3\">3</td><td class=\"tabev5\" id=\"magtyp4\">Md</td><td class=\"tabev2\">2.5</td><td class=\"tb_region\" id=\"reg4\"> NORTHERN CALIFORNIA</td><td class=\"comment updatetimeno\" id=\"upd4\" style=\"text-align:right;\">2019-09-18 16:45</td></tr>\n",
       "<tr class=\"ligne2 normal\" id=\"793042\" onclick=\"go_details(event,793042);\"><td class=\"tabev0\"></td><td class=\"tabev0\"></td><td class=\"tabev0\"></td><td class=\"tabev6\"><b><i style=\"display:none;\">earthquake</i><a href=\"/Earthquake/earthquake.php?id=793042\">2019-09-18   15:44:42.0</a></b><i class=\"ago\" id=\"ago5\">2hr 58min ago</i></td><td class=\"tabev1\">30.18 </td><td class=\"tabev2\">S  </td><td class=\"tabev1\">71.61 </td><td class=\"tabev2\">W  </td><td class=\"tabev3\">39</td><td class=\"tabev5\" id=\"magtyp5\">ML</td><td class=\"tabev2\">3.0</td><td class=\"tb_region\" id=\"reg5\"> OFFSHORE COQUIMBO, CHILE</td><td class=\"comment updatetimeno\" id=\"upd5\" style=\"text-align:right;\">2019-09-18 15:58</td></tr>\n",
       "<tr class=\"ligne1 normal\" id=\"793043\" onclick=\"go_details(event,793043);\"><td class=\"tabev0\"></td><td class=\"tabev0\"></td><td class=\"tabev0\"></td><td class=\"tabev6\"><b><i style=\"display:none;\">earthquake</i><a href=\"/Earthquake/earthquake.php?id=793043\">2019-09-18   15:22:33.0</a></b><i class=\"ago\" id=\"ago6\">3hr 20min ago</i></td><td class=\"tabev1\">44.47 </td><td class=\"tabev2\">N  </td><td class=\"tabev1\">146.98 </td><td class=\"tabev2\">E  </td><td class=\"tabev3\">100</td><td class=\"tabev5\" id=\"magtyp6\">mb</td><td class=\"tabev2\">4.8</td><td class=\"tb_region\" id=\"reg6\"> KURIL ISLANDS</td><td class=\"comment updatetimeno\" id=\"upd6\" style=\"text-align:right;\">2019-09-18 17:30</td></tr>\n",
       "<tr class=\"ligne2 normal\" id=\"793038\" onclick=\"go_details(event,793038);\"><td class=\"tabev0\"></td><td class=\"tabev0\"></td><td class=\"tabev0\"></td><td class=\"tabev6\"><b><i style=\"display:none;\">earthquake</i><a href=\"/Earthquake/earthquake.php?id=793038\">2019-09-18   14:59:30.0</a></b><i class=\"ago\" id=\"ago7\">3hr 43min ago</i></td><td class=\"tabev1\">7.48 </td><td class=\"tabev2\">S  </td><td class=\"tabev1\">119.51 </td><td class=\"tabev2\">E  </td><td class=\"tabev3\">27</td><td class=\"tabev5\" id=\"magtyp7\"> M</td><td class=\"tabev2\">3.7</td><td class=\"tb_region\" id=\"reg7\"> FLORES SEA</td><td class=\"comment updatetimeno\" id=\"upd7\" style=\"text-align:right;\">2019-09-18 15:15</td></tr>\n",
       "<tr class=\"ligne1 normal\" id=\"793037\" onclick=\"go_details(event,793037);\"><td class=\"tabev0\"></td><td class=\"tabev0\"></td><td class=\"tabev0\"></td><td class=\"tabev6\"><b><i style=\"display:none;\">earthquake</i><a href=\"/Earthquake/earthquake.php?id=793037\">2019-09-18   14:53:34.0</a></b><i class=\"ago\" id=\"ago8\">3hr 49min ago</i></td><td class=\"tabev1\">18.62 </td><td class=\"tabev2\">S  </td><td class=\"tabev1\">71.22 </td><td class=\"tabev2\">W  </td><td class=\"tabev3\">48</td><td class=\"tabev5\" id=\"magtyp8\">ML</td><td class=\"tabev2\">3.1</td><td class=\"tb_region\" id=\"reg8\"> OFF COAST OF TARAPACA, CHILE</td><td class=\"comment updatetimeno\" id=\"upd8\" style=\"text-align:right;\">2019-09-18 15:09</td></tr>\n",
       "<tr class=\"ligne2 normal\" id=\"793035\" onclick=\"go_details(event,793035);\"><td class=\"tabev0\"></td><td class=\"tabev0\"></td><td class=\"tabev0\"></td><td class=\"tabev6\"><b><i style=\"display:none;\">earthquake</i><a href=\"/Earthquake/earthquake.php?id=793035\">2019-09-18   14:46:24.7</a></b><i class=\"ago\" id=\"ago9\">3hr 56min ago</i></td><td class=\"tabev1\">10.59 </td><td class=\"tabev2\">S  </td><td class=\"tabev1\">152.42 </td><td class=\"tabev2\">E  </td><td class=\"tabev3\">40</td><td class=\"tabev5\" id=\"magtyp9\">mb</td><td class=\"tabev2\">5.3</td><td class=\"tb_region\" id=\"reg9\"> D'ENTRECASTEAUX ISLANDS REGION</td><td class=\"comment updatetimeno\" id=\"upd9\" style=\"text-align:right;\">2019-09-18 16:59</td></tr>\n",
       "<tr class=\"ligne1 normal\" id=\"793036\" onclick=\"go_details(event,793036);\"><td class=\"tabev0\"></td><td class=\"tabev0\"></td><td class=\"tabev0\"></td><td class=\"tabev6\"><b><i style=\"display:none;\">earthquake</i><a href=\"/Earthquake/earthquake.php?id=793036\">2019-09-18   14:39:38.0</a></b><i class=\"ago\" id=\"ago10\">4hr 03min ago</i></td><td class=\"tabev1\">8.42 </td><td class=\"tabev2\">S  </td><td class=\"tabev1\">121.15 </td><td class=\"tabev2\">E  </td><td class=\"tabev3\">172</td><td class=\"tabev5\" id=\"magtyp10\"> M</td><td class=\"tabev2\">4.1</td><td class=\"tb_region\" id=\"reg10\"> FLORES REGION, INDONESIA</td><td class=\"comment updatetimeno\" id=\"upd10\" style=\"text-align:right;\">2019-09-18 15:00</td></tr>\n",
       "<tr class=\"ligne2 normal\" id=\"793034\" onclick=\"go_details(event,793034);\"><td class=\"tabev0\"></td><td class=\"tabev0\"></td><td class=\"tabev0\"></td><td class=\"tabev6\"><b><i style=\"display:none;\">earthquake</i><a href=\"/Earthquake/earthquake.php?id=793034\">2019-09-18   14:28:00.9</a></b><i class=\"ago\" id=\"ago11\">4hr 14min ago</i></td><td class=\"tabev1\">51.57 </td><td class=\"tabev2\">N  </td><td class=\"tabev1\">175.28 </td><td class=\"tabev2\">W  </td><td class=\"tabev3\">21</td><td class=\"tabev5\" id=\"magtyp11\">ml</td><td class=\"tabev2\">3.5</td><td class=\"tb_region\" id=\"reg11\"> ANDREANOF ISLANDS, ALEUTIAN IS.</td><td class=\"comment updatetimeno\" id=\"upd11\" style=\"text-align:right;\">2019-09-18 14:48</td></tr>\n",
       "<tr class=\"ligne1 normal\" id=\"793032\" onclick=\"go_details(event,793032);\"><td class=\"tabev0\"></td><td class=\"tabev0\"></td><td class=\"tabev0\"></td><td class=\"tabev6\"><b><i style=\"display:none;\">earthquake</i><a href=\"/Earthquake/earthquake.php?id=793032\">2019-09-18   14:15:08.0</a></b><i class=\"ago\" id=\"ago12\">4hr 27min ago</i></td><td class=\"tabev1\">35.78 </td><td class=\"tabev2\">N  </td><td class=\"tabev1\">10.00 </td><td class=\"tabev2\">W  </td><td class=\"tabev3\">31</td><td class=\"tabev5\" id=\"magtyp12\">ML</td><td class=\"tabev2\">2.0</td><td class=\"tb_region\" id=\"reg12\"> AZORES-CAPE ST. VINCENT RIDGE</td><td class=\"comment updatetimeno\" id=\"upd12\" style=\"text-align:right;\">2019-09-18 14:19</td></tr>\n",
       "<tr class=\"ligne2 normal\" id=\"793046\" onclick=\"go_details(event,793046);\"><td class=\"tabev0\"></td><td class=\"tabev0\"></td><td class=\"tabev0\"></td><td class=\"tabev6\"><b><i style=\"display:none;\">earthquake</i><a href=\"/Earthquake/earthquake.php?id=793046\">2019-09-18   13:56:49.8</a></b><i class=\"ago\" id=\"ago13\">4hr 46min ago</i></td><td class=\"tabev1\">37.88 </td><td class=\"tabev2\">N  </td><td class=\"tabev1\">112.48 </td><td class=\"tabev2\">W  </td><td class=\"tabev3\">8</td><td class=\"tabev5\" id=\"magtyp13\">Ml</td><td class=\"tabev2\">2.1</td><td class=\"tb_region\" id=\"reg13\"> UTAH</td><td class=\"comment updatetimeno\" id=\"upd13\" style=\"text-align:right;\">2019-09-18 16:39</td></tr>\n",
       "<tr class=\"ligne1 normal\" id=\"793044\" onclick=\"go_details(event,793044);\"><td class=\"tabev0\"></td><td class=\"tabev0\"></td><td class=\"tabev0\"></td><td class=\"tabev6\"><b><i style=\"display:none;\">earthquake</i><a href=\"/Earthquake/earthquake.php?id=793044\">2019-09-18   13:47:28.9</a></b><i class=\"ago\" id=\"ago14\">4hr 55min ago</i></td><td class=\"tabev1\">37.88 </td><td class=\"tabev2\">N  </td><td class=\"tabev1\">112.48 </td><td class=\"tabev2\">W  </td><td class=\"tabev3\">10</td><td class=\"tabev5\" id=\"magtyp14\">Ml</td><td class=\"tabev2\">2.1</td><td class=\"tb_region\" id=\"reg14\"> UTAH</td><td class=\"comment updatetimeno\" id=\"upd14\" style=\"text-align:right;\">2019-09-18 16:05</td></tr>\n",
       "<tr class=\"ligne2 normal\" id=\"793030\" onclick=\"go_details(event,793030);\"><td class=\"tabev0\"></td><td class=\"tabev0\"></td><td class=\"tabev0\"></td><td class=\"tabev6\"><b><i style=\"display:none;\">earthquake</i><a href=\"/Earthquake/earthquake.php?id=793030\">2019-09-18   13:45:18.0</a></b><i class=\"ago\" id=\"ago15\">4hr 57min ago</i></td><td class=\"tabev1\">37.02 </td><td class=\"tabev2\">N  </td><td class=\"tabev1\">5.23 </td><td class=\"tabev2\">W  </td><td class=\"tabev3\">1</td><td class=\"tabev5\" id=\"magtyp15\">ML</td><td class=\"tabev2\">2.1</td><td class=\"tb_region\" id=\"reg15\"> SPAIN</td><td class=\"comment updatetimeno\" id=\"upd15\" style=\"text-align:right;\">2019-09-18 13:50</td></tr>\n",
       "<tr class=\"ligne1 normal\" id=\"793029\" onclick=\"go_details(event,793029);\"><td class=\"tabev0\"></td><td class=\"tabev0\"></td><td class=\"tabev0\"><span class=\"intensity\" onclick=\"go_details(event,null,'https://www.emsc-csem.org/Earthquake/popup_intensmap.php?id=793029&amp;f=/INTENSITY_MAPS/79/793029/AUTOMATIC/AreaThreshold_5/EMS_98__RMW_Musson/LocMethod_PerClusterCity/DynamicClusters_MaxSize50/IntensityMapThumbnails.png');\" onmouseout=\"info_b2('notshow','');\" onmouseover=\"info_b2('show','See the &lt;b&gt; Intensity map&lt;/b&gt;');\" style=\"background-color:#FFFFFF;\">F</span></td><td class=\"tabev6\"><b><i style=\"display:none;\">earthquake</i><a href=\"/Earthquake/earthquake.php?id=793029\">2019-09-18   13:38:52.5</a></b><i class=\"ago\" id=\"ago16\">5hr 04min ago</i></td><td class=\"tabev1\">37.07 </td><td class=\"tabev2\">N  </td><td class=\"tabev1\">5.28 </td><td class=\"tabev2\">W  </td><td class=\"tabev3\">10</td><td class=\"tabev5\" id=\"magtyp16\">ML</td><td class=\"tabev2\">3.5</td><td class=\"tb_region\" id=\"reg16\"> SPAIN</td><td class=\"comment updatetimeno\" id=\"upd16\" style=\"text-align:right;\">2019-09-18 14:00</td></tr>\n",
       "<tr class=\"ligne2 normal\" id=\"793028\" onclick=\"go_details(event,793028);\"><td class=\"tabev0\"></td><td class=\"tabev0\"></td><td class=\"tabev0\"></td><td class=\"tabev6\"><b><i style=\"display:none;\">earthquake</i><a href=\"/Earthquake/earthquake.php?id=793028\">2019-09-18   13:27:53.0</a></b><i class=\"ago\" id=\"ago17\">5hr 15min ago</i></td><td class=\"tabev1\">37.10 </td><td class=\"tabev2\">N  </td><td class=\"tabev1\">5.18 </td><td class=\"tabev2\">W  </td><td class=\"tabev3\">24</td><td class=\"tabev5\" id=\"magtyp17\">ML</td><td class=\"tabev2\">2.6</td><td class=\"tb_region\" id=\"reg17\"> SPAIN</td><td class=\"comment updatetimeno\" id=\"upd17\" style=\"text-align:right;\">2019-09-18 13:33</td></tr>\n",
       "<tr class=\"ligne1 normal\" id=\"793026\" onclick=\"go_details(event,793026);\"><td class=\"tabev0\"></td><td class=\"tabev0\"></td><td class=\"tabev0\"></td><td class=\"tabev6\"><b><i style=\"display:none;\">earthquake</i><a href=\"/Earthquake/earthquake.php?id=793026\">2019-09-18   13:16:40.5</a></b><i class=\"ago\" id=\"ago18\">5hr 26min ago</i></td><td class=\"tabev1\">37.08 </td><td class=\"tabev2\">N  </td><td class=\"tabev1\">5.25 </td><td class=\"tabev2\">W  </td><td class=\"tabev3\">10</td><td class=\"tabev5\" id=\"magtyp18\">ML</td><td class=\"tabev2\">3.1</td><td class=\"tb_region\" id=\"reg18\"> SPAIN</td><td class=\"comment updatetimeno\" id=\"upd18\" style=\"text-align:right;\">2019-09-18 14:00</td></tr>\n",
       "<tr class=\"ligne2 normal\" id=\"793027\" onclick=\"go_details(event,793027);\"><td class=\"tabev0\"></td><td class=\"tabev0\"></td><td class=\"tabev0\"></td><td class=\"tabev6\"><b><i style=\"display:none;\">earthquake</i><a href=\"/Earthquake/earthquake.php?id=793027\">2019-09-18   13:13:54.4</a></b><i class=\"ago\" id=\"ago19\">5hr 28min ago</i></td><td class=\"tabev1\">15.79 </td><td class=\"tabev2\">S  </td><td class=\"tabev1\">74.27 </td><td class=\"tabev2\">W  </td><td class=\"tabev3\">96</td><td class=\"tabev5\" id=\"magtyp19\">mb</td><td class=\"tabev2\">4.8</td><td class=\"tb_region\" id=\"reg19\"> NEAR COAST OF SOUTHERN PERU</td><td class=\"comment updatetimeno\" id=\"upd19\" style=\"text-align:right;\">2019-09-18 18:09</td></tr>\n",
       "<tr class=\"ligne1 normal\" id=\"793010\" onclick=\"go_details(event,793010);\"><td class=\"tabev0\"></td><td class=\"tabev0\"></td><td class=\"tabev0\"></td><td class=\"tabev6\"><b><i style=\"display:none;\">earthquake</i><a href=\"/Earthquake/earthquake.php?id=793010\">2019-09-18   12:38:15.0</a></b><i class=\"ago\" id=\"ago20\">6hr 04min ago</i></td><td class=\"tabev1\">37.07 </td><td class=\"tabev2\">N  </td><td class=\"tabev1\">5.20 </td><td class=\"tabev2\">W  </td><td class=\"tabev3\">11</td><td class=\"tabev5\" id=\"magtyp20\">ML</td><td class=\"tabev2\">2.2</td><td class=\"tb_region\" id=\"reg20\"> SPAIN</td><td class=\"comment updatetimeno\" id=\"upd20\" style=\"text-align:right;\">2019-09-18 12:44</td></tr>\n",
       "<tr class=\"ligne2 normal\" id=\"793004\" onclick=\"go_details(event,793004);\"><td class=\"tabev0\"></td><td class=\"tabev0\"></td><td class=\"tabev0\"></td><td class=\"tabev6\"><b><i style=\"display:none;\">earthquake</i><a href=\"/Earthquake/earthquake.php?id=793004\">2019-09-18   12:05:10.1</a></b><i class=\"ago\" id=\"ago21\">6hr 37min ago</i></td><td class=\"tabev1\">37.14 </td><td class=\"tabev2\">N  </td><td class=\"tabev1\">20.67 </td><td class=\"tabev2\">E  </td><td class=\"tabev3\">6</td><td class=\"tabev5\" id=\"magtyp21\">ML</td><td class=\"tabev2\">2.6</td><td class=\"tb_region\" id=\"reg21\"> IONIAN SEA</td><td class=\"comment updatetimeno\" id=\"upd21\" style=\"text-align:right;\">2019-09-18 14:40</td></tr>\n",
       "<tr class=\"ligne1 normal\" id=\"793006\" onclick=\"go_details(event,793006);\"><td class=\"tabev0\"></td><td class=\"tabev0\"></td><td class=\"tabev0\"></td><td class=\"tabev6\"><b><i style=\"display:none;\">earthquake</i><a href=\"/Earthquake/earthquake.php?id=793006\">2019-09-18   12:04:03.2</a></b><i class=\"ago\" id=\"ago22\">6hr 38min ago</i></td><td class=\"tabev1\">5.40 </td><td class=\"tabev2\">N  </td><td class=\"tabev1\">126.28 </td><td class=\"tabev2\">E  </td><td class=\"tabev3\">70</td><td class=\"tabev5\" id=\"magtyp22\">mb</td><td class=\"tabev2\">4.7</td><td class=\"tb_region\" id=\"reg22\"> MINDANAO, PHILIPPINES</td><td class=\"comment updatetimeno\" id=\"upd22\" style=\"text-align:right;\">2019-09-18 13:59</td></tr>\n",
       "<tr class=\"ligne2 normal\" id=\"793003\" onclick=\"go_details(event,793003);\"><td class=\"tabev0\"></td><td class=\"tabev0\"></td><td class=\"tabev0\"></td><td class=\"tabev6\"><b><i style=\"display:none;\">earthquake</i><a href=\"/Earthquake/earthquake.php?id=793003\">2019-09-18   11:54:58.6</a></b><i class=\"ago\" id=\"ago23\">6hr 47min ago</i></td><td class=\"tabev1\">54.25 </td><td class=\"tabev2\">S  </td><td class=\"tabev1\">7.93 </td><td class=\"tabev2\">E  </td><td class=\"tabev3\">10</td><td class=\"tabev5\" id=\"magtyp23\">mb</td><td class=\"tabev2\">5.4</td><td class=\"tb_region\" id=\"reg23\"> BOUVET ISLAND REGION</td><td class=\"comment updatetimeno\" id=\"upd23\" style=\"text-align:right;\">2019-09-18 13:59</td></tr>\n",
       "<tr class=\"ligne1 normal\" id=\"793001\" onclick=\"go_details(event,793001);\"><td class=\"tabev0\"></td><td class=\"tabev0\"></td><td class=\"tabev0\"></td><td class=\"tabev6\"><b><i style=\"display:none;\">earthquake</i><a href=\"/Earthquake/earthquake.php?id=793001\">2019-09-18   11:45:15.0</a></b><i class=\"ago\" id=\"ago24\">6hr 57min ago</i></td><td class=\"tabev1\">2.28 </td><td class=\"tabev2\">N  </td><td class=\"tabev1\">124.60 </td><td class=\"tabev2\">E  </td><td class=\"tabev3\">246</td><td class=\"tabev5\" id=\"magtyp24\"> M</td><td class=\"tabev2\">3.8</td><td class=\"tb_region\" id=\"reg24\"> CELEBES SEA</td><td class=\"comment updatetimeno\" id=\"upd24\" style=\"text-align:right;\">2019-09-18 12:05</td></tr>\n",
       "<tr class=\"ligne2 normal\" id=\"792999\" onclick=\"go_details(event,792999);\"><td class=\"tabev0\" style=\"text-align:center;\"><a href=\"https://www.emsc-csem.org/Earthquake/Testimonies/comments.php?id=792999\" onmouseout=\"info_b2('notshow','');\" onmouseover=\"info_b2('show','See the &lt;b&gt;6 testimonies&lt;/b&gt; for this earthquake');\"><span class=\"\" style=\"vertical-align:middle;\">6</span></a></td><td class=\"tabev0\"></td><td class=\"tabev0\"><span class=\"intensity\" onclick=\"go_details(event,null,'https://www.emsc-csem.org/Earthquake/popup_intensmap.php?id=792999&amp;f=/INTENSITY_MAPS/79/792999/AUTOMATIC/AreaThreshold_5/EMS_98__RMW_Musson/LocMethod_PerClusterCity/DynamicClusters_MaxSize50/IntensityMapThumbnails.png');\" onmouseout=\"info_b2('notshow','');\" onmouseover=\"info_b2('show','See the &lt;b&gt; Intensity map&lt;/b&gt;');\" style=\"background-color:#00FFFF;\">IV</span></td><td class=\"tabev6\"><b><i style=\"display:none;\">earthquake</i><a href=\"/Earthquake/earthquake.php?id=792999\">2019-09-18   11:23:28.4</a></b><i class=\"ago\" id=\"ago25\">7hr 19min ago</i></td><td class=\"tabev1\">9.44 </td><td class=\"tabev2\">N  </td><td class=\"tabev1\">84.00 </td><td class=\"tabev2\">W  </td><td class=\"tabev3\">48</td><td class=\"tabev5\" id=\"magtyp25\">mb</td><td class=\"tabev2\">4.7</td><td class=\"tb_region\" id=\"reg25\"> COSTA RICA</td><td class=\"comment updatetimeno\" id=\"upd25\" style=\"text-align:right;\">2019-09-18 14:49</td></tr>\n",
       "<tr class=\"ligne1 normal\" id=\"792997\" onclick=\"go_details(event,792997);\"><td class=\"tabev0\"></td><td class=\"tabev0\"></td><td class=\"tabev0\"></td><td class=\"tabev6\"><b><i style=\"display:none;\">earthquake</i><a href=\"/Earthquake/earthquake.php?id=792997\">2019-09-18   11:14:07.4</a></b><i class=\"ago\" id=\"ago26\">7hr 28min ago</i></td><td class=\"tabev1\">37.12 </td><td class=\"tabev2\">N  </td><td class=\"tabev1\">5.25 </td><td class=\"tabev2\">W  </td><td class=\"tabev3\">10</td><td class=\"tabev5\" id=\"magtyp26\">ML</td><td class=\"tabev2\">3.1</td><td class=\"tb_region\" id=\"reg26\"> SPAIN</td><td class=\"comment updatetimeno\" id=\"upd26\" style=\"text-align:right;\">2019-09-18 11:34</td></tr>\n",
       "<tr class=\"ligne2 normal\" id=\"792991\" onclick=\"go_details(event,792991);\"><td class=\"tabev0\"></td><td class=\"tabev0\"></td><td class=\"tabev0\"></td><td class=\"tabev6\"><b><i style=\"display:none;\">earthquake</i><a href=\"/Earthquake/earthquake.php?id=792991\">2019-09-18   10:49:46.5</a></b><i class=\"ago\" id=\"ago27\">7hr 53min ago</i></td><td class=\"tabev1\">35.90 </td><td class=\"tabev2\">N  </td><td class=\"tabev1\">118.32 </td><td class=\"tabev2\">W  </td><td class=\"tabev3\">4</td><td class=\"tabev5\" id=\"magtyp27\">Ml</td><td class=\"tabev2\">2.1</td><td class=\"tb_region\" id=\"reg27\"> CENTRAL CALIFORNIA</td><td class=\"comment updatetimeno\" id=\"upd27\" style=\"text-align:right;\">2019-09-18 14:20</td></tr>\n",
       "<tr class=\"ligne1 normal\" id=\"792993\" onclick=\"go_details(event,792993);\"><td class=\"tabev0\"></td><td class=\"tabev0\"></td><td class=\"tabev0\"></td><td class=\"tabev6\"><b><i style=\"display:none;\">earthquake</i><a href=\"/Earthquake/earthquake.php?id=792993\">2019-09-18   10:45:20.0</a></b><i class=\"ago\" id=\"ago28\">7hr 57min ago</i></td><td class=\"tabev1\">19.95 </td><td class=\"tabev2\">S  </td><td class=\"tabev1\">69.19 </td><td class=\"tabev2\">W  </td><td class=\"tabev3\">101</td><td class=\"tabev5\" id=\"magtyp28\">ML</td><td class=\"tabev2\">3.5</td><td class=\"tb_region\" id=\"reg28\"> TARAPACA, CHILE</td><td class=\"comment updatetimeno\" id=\"upd28\" style=\"text-align:right;\">2019-09-18 11:01</td></tr>\n",
       "<tr class=\"ligne2 normal\" id=\"792994\" onclick=\"go_details(event,792994);\"><td class=\"tabev0\"></td><td class=\"tabev0\"></td><td class=\"tabev0\"></td><td class=\"tabev6\"><b><i style=\"display:none;\">earthquake</i><a href=\"/Earthquake/earthquake.php?id=792994\">2019-09-18   10:42:02.0</a></b><i class=\"ago\" id=\"ago29\">8hr 00min ago</i></td><td class=\"tabev1\">5.35 </td><td class=\"tabev2\">N  </td><td class=\"tabev1\">126.37 </td><td class=\"tabev2\">E  </td><td class=\"tabev3\">10</td><td class=\"tabev5\" id=\"magtyp29\"> M</td><td class=\"tabev2\">4.3</td><td class=\"tb_region\" id=\"reg29\"> MINDANAO, PHILIPPINES</td><td class=\"comment updatetimeno\" id=\"upd29\" style=\"text-align:right;\">2019-09-18 11:05</td></tr>\n",
       "<tr class=\"ligne1 normal\" id=\"792989\" onclick=\"go_details(event,792989);\"><td class=\"tabev0\"></td><td class=\"tabev0\"></td><td class=\"tabev0\"></td><td class=\"tabev6\"><b><i style=\"display:none;\">earthquake</i><a href=\"/Earthquake/earthquake.php?id=792989\">2019-09-18   10:00:01.9</a></b><i class=\"ago\" id=\"ago30\">8hr 42min ago</i></td><td class=\"tabev1\">36.06 </td><td class=\"tabev2\">N  </td><td class=\"tabev1\">117.85 </td><td class=\"tabev2\">W  </td><td class=\"tabev3\">2</td><td class=\"tabev5\" id=\"magtyp30\">Ml</td><td class=\"tabev2\">2.2</td><td class=\"tb_region\" id=\"reg30\"> CENTRAL CALIFORNIA</td><td class=\"comment updatetimeno\" id=\"upd30\" style=\"text-align:right;\">2019-09-18 10:03</td></tr>\n",
       "<tr class=\"ligne2 normal\" id=\"793000\" onclick=\"go_details(event,793000);\"><td class=\"tabev0\"></td><td class=\"tabev0\"></td><td class=\"tabev0\"></td><td class=\"tabev6\"><b><i style=\"display:none;\">earthquake</i><a href=\"/Earthquake/earthquake.php?id=793000\">2019-09-18   09:53:07.4</a></b><i class=\"ago\" id=\"ago31\">8hr 49min ago</i></td><td class=\"tabev1\">51.29 </td><td class=\"tabev2\">N  </td><td class=\"tabev1\">11.59 </td><td class=\"tabev2\">E  </td><td class=\"tabev3\">2</td><td class=\"tabev5\" id=\"magtyp31\">ML</td><td class=\"tabev2\">2.3</td><td class=\"tb_region\" id=\"reg31\"> GERMANY</td><td class=\"comment updatetimeno\" id=\"upd31\" style=\"text-align:right;\">2019-09-18 11:41</td></tr>\n",
       "<tr class=\"ligne1 normal\" id=\"793012\" onclick=\"go_details(event,793012);\"><td class=\"tabev0\"></td><td class=\"tabev0\"></td><td class=\"tabev0\"></td><td class=\"tabev6\"><b><i style=\"display:none;\">earthquake</i><a href=\"/Earthquake/earthquake.php?id=793012\">2019-09-18   09:06:07.0</a></b><i class=\"ago\" id=\"ago32\">9hr 36min ago</i></td><td class=\"tabev1\">15.61 </td><td class=\"tabev2\">N  </td><td class=\"tabev1\">96.50 </td><td class=\"tabev2\">W  </td><td class=\"tabev3\">23</td><td class=\"tabev5\" id=\"magtyp32\"> M</td><td class=\"tabev2\">3.7</td><td class=\"tb_region\" id=\"reg32\"> OFFSHORE OAXACA, MEXICO</td><td class=\"comment updatetimeno\" id=\"upd32\" style=\"text-align:right;\">2019-09-18 13:00</td></tr>\n",
       "<tr class=\"ligne2 normal\" id=\"793019\" onclick=\"go_details(event,793019);\"><td class=\"tabev0\"></td><td class=\"tabev0\"></td><td class=\"tabev0\"></td><td class=\"tabev6\"><b><i style=\"display:none;\">earthquake</i><a href=\"/Earthquake/earthquake.php?id=793019\">2019-09-18   08:55:06.0</a></b><i class=\"ago\" id=\"ago33\">9hr 47min ago</i></td><td class=\"tabev1\">14.73 </td><td class=\"tabev2\">N  </td><td class=\"tabev1\">93.86 </td><td class=\"tabev2\">W  </td><td class=\"tabev3\">14</td><td class=\"tabev5\" id=\"magtyp33\"> M</td><td class=\"tabev2\">3.8</td><td class=\"tb_region\" id=\"reg33\"> OFF COAST OF CHIAPAS, MEXICO</td><td class=\"comment updatetimeno\" id=\"upd33\" style=\"text-align:right;\">2019-09-18 13:01</td></tr>\n",
       "<tr class=\"ligne1 normal\" id=\"792988\" onclick=\"go_details(event,792988);\"><td class=\"tabev0\"></td><td class=\"tabev0\"></td><td class=\"tabev0\"></td><td class=\"tabev6\"><b><i style=\"display:none;\">earthquake</i><a href=\"/Earthquake/earthquake.php?id=792988\">2019-09-18   08:48:17.1</a></b><i class=\"ago\" id=\"ago34\">9hr 54min ago</i></td><td class=\"tabev1\">17.62 </td><td class=\"tabev2\">S  </td><td class=\"tabev1\">178.65 </td><td class=\"tabev2\">W  </td><td class=\"tabev3\">537</td><td class=\"tabev5\" id=\"magtyp34\">mb</td><td class=\"tabev2\">4.6</td><td class=\"tb_region\" id=\"reg34\"> FIJI REGION</td><td class=\"comment updatetimeno\" id=\"upd34\" style=\"text-align:right;\">2019-09-18 09:26</td></tr>\n",
       "<tr class=\"ligne2 normal\" id=\"792992\" onclick=\"go_details(event,792992);\"><td class=\"tabev0\"></td><td class=\"tabev0\"></td><td class=\"tabev0\"></td><td class=\"tabev6\"><b><i style=\"display:none;\">earthquake</i><a href=\"/Earthquake/earthquake.php?id=792992\">2019-09-18   08:12:09.0</a></b><i class=\"ago\" id=\"ago35\">10hr 30min ago</i></td><td class=\"tabev1\">19.83 </td><td class=\"tabev2\">N  </td><td class=\"tabev1\">73.05 </td><td class=\"tabev2\">W  </td><td class=\"tabev3\">23</td><td class=\"tabev5\" id=\"magtyp35\"> M</td><td class=\"tabev2\">3.2</td><td class=\"tb_region\" id=\"reg35\"> HAITI REGION</td><td class=\"comment updatetimeno\" id=\"upd35\" style=\"text-align:right;\">2019-09-18 11:00</td></tr>\n",
       "<tr class=\"ligne1 normal\" id=\"793018\" onclick=\"go_details(event,793018);\"><td class=\"tabev0\"></td><td class=\"tabev0\"></td><td class=\"tabev0\"></td><td class=\"tabev6\"><b><i style=\"display:none;\">earthquake</i><a href=\"/Earthquake/earthquake.php?id=793018\">2019-09-18   07:45:29.0</a></b><i class=\"ago\" id=\"ago36\">10hr 57min ago</i></td><td class=\"tabev1\">15.80 </td><td class=\"tabev2\">N  </td><td class=\"tabev1\">96.89 </td><td class=\"tabev2\">W  </td><td class=\"tabev3\">17</td><td class=\"tabev5\" id=\"magtyp36\"> M</td><td class=\"tabev2\">3.5</td><td class=\"tb_region\" id=\"reg36\"> OAXACA, MEXICO</td><td class=\"comment updatetimeno\" id=\"upd36\" style=\"text-align:right;\">2019-09-18 13:01</td></tr>\n",
       "<tr class=\"ligne2 normal\" id=\"793020\" onclick=\"go_details(event,793020);\"><td class=\"tabev0\"></td><td class=\"tabev0\"></td><td class=\"tabev0\"></td><td class=\"tabev6\"><b><i style=\"display:none;\">earthquake</i><a href=\"/Earthquake/earthquake.php?id=793020\">2019-09-18   07:38:43.0</a></b><i class=\"ago\" id=\"ago37\">11hr 04min ago</i></td><td class=\"tabev1\">19.53 </td><td class=\"tabev2\">N  </td><td class=\"tabev1\">108.04 </td><td class=\"tabev2\">W  </td><td class=\"tabev3\">12</td><td class=\"tabev5\" id=\"magtyp37\"> M</td><td class=\"tabev2\">4.1</td><td class=\"tb_region\" id=\"reg37\"> REVILLA GIGEDO ISLANDS REGION</td><td class=\"comment updatetimeno\" id=\"upd37\" style=\"text-align:right;\">2019-09-18 13:01</td></tr>\n",
       "<tr class=\"ligne1 normal\" id=\"793021\" onclick=\"go_details(event,793021);\"><td class=\"tabev0\"></td><td class=\"tabev0\"></td><td class=\"tabev0\"></td><td class=\"tabev6\"><b><i style=\"display:none;\">earthquake</i><a href=\"/Earthquake/earthquake.php?id=793021\">2019-09-18   07:35:55.0</a></b><i class=\"ago\" id=\"ago38\">11hr 06min ago</i></td><td class=\"tabev1\">16.34 </td><td class=\"tabev2\">N  </td><td class=\"tabev1\">95.26 </td><td class=\"tabev2\">W  </td><td class=\"tabev3\">21</td><td class=\"tabev5\" id=\"magtyp38\"> M</td><td class=\"tabev2\">3.7</td><td class=\"tb_region\" id=\"reg38\"> OAXACA, MEXICO</td><td class=\"comment updatetimeno\" id=\"upd38\" style=\"text-align:right;\">2019-09-18 13:01</td></tr>\n",
       "<tr class=\"ligne2 normal\" id=\"792983\" onclick=\"go_details(event,792983);\"><td class=\"tabev0\"></td><td class=\"tabev0\"></td><td class=\"tabev0\"></td><td class=\"tabev6\"><b><i style=\"display:none;\">earthquake</i><a href=\"/Earthquake/earthquake.php?id=792983\">2019-09-18   07:22:07.0</a></b><i class=\"ago\" id=\"ago39\">11hr 20min ago</i></td><td class=\"tabev1\">37.03 </td><td class=\"tabev2\">N  </td><td class=\"tabev1\">5.23 </td><td class=\"tabev2\">W  </td><td class=\"tabev3\">15</td><td class=\"tabev5\" id=\"magtyp39\">ML</td><td class=\"tabev2\">2.6</td><td class=\"tb_region\" id=\"reg39\"> SPAIN</td><td class=\"comment updatetimeno\" id=\"upd39\" style=\"text-align:right;\">2019-09-18 07:27</td></tr>\n",
       "<tr class=\"ligne1 normal\" id=\"792984\" onclick=\"go_details(event,792984);\"><td class=\"tabev0\"></td><td class=\"tabev0\"></td><td class=\"tabev0\"></td><td class=\"tabev6\"><b><i style=\"display:none;\">earthquake</i><a href=\"/Earthquake/earthquake.php?id=792984\">2019-09-18   07:20:59.0</a></b><i class=\"ago\" id=\"ago40\">11hr 21min ago</i></td><td class=\"tabev1\">2.01 </td><td class=\"tabev2\">S  </td><td class=\"tabev1\">122.55 </td><td class=\"tabev2\">E  </td><td class=\"tabev3\">10</td><td class=\"tabev5\" id=\"magtyp40\"> M</td><td class=\"tabev2\">4.2</td><td class=\"tb_region\" id=\"reg40\"> SULAWESI, INDONESIA</td><td class=\"comment updatetimeno\" id=\"upd40\" style=\"text-align:right;\">2019-09-18 07:30</td></tr>\n",
       "<tr class=\"ligne2 normal\" id=\"793022\" onclick=\"go_details(event,793022);\"><td class=\"tabev0\"></td><td class=\"tabev0\"></td><td class=\"tabev0\"></td><td class=\"tabev6\"><b><i style=\"display:none;\">earthquake</i><a href=\"/Earthquake/earthquake.php?id=793022\">2019-09-18   07:19:02.0</a></b><i class=\"ago\" id=\"ago41\">11hr 23min ago</i></td><td class=\"tabev1\">17.50 </td><td class=\"tabev2\">N  </td><td class=\"tabev1\">94.43 </td><td class=\"tabev2\">W  </td><td class=\"tabev3\">126</td><td class=\"tabev5\" id=\"magtyp41\"> M</td><td class=\"tabev2\">3.7</td><td class=\"tb_region\" id=\"reg41\"> VERACRUZ, MEXICO</td><td class=\"comment updatetimeno\" id=\"upd41\" style=\"text-align:right;\">2019-09-18 13:01</td></tr>\n",
       "<tr class=\"ligne1 normal\" id=\"793023\" onclick=\"go_details(event,793023);\"><td class=\"tabev0\"></td><td class=\"tabev0\"></td><td class=\"tabev0\"></td><td class=\"tabev6\"><b><i style=\"display:none;\">earthquake</i><a href=\"/Earthquake/earthquake.php?id=793023\">2019-09-18   07:13:39.0</a></b><i class=\"ago\" id=\"ago42\">11hr 29min ago</i></td><td class=\"tabev1\">16.45 </td><td class=\"tabev2\">N  </td><td class=\"tabev1\">99.06 </td><td class=\"tabev2\">W  </td><td class=\"tabev3\">11</td><td class=\"tabev5\" id=\"magtyp42\"> M</td><td class=\"tabev2\">3.6</td><td class=\"tb_region\" id=\"reg42\"> OFFSHORE GUERRERO, MEXICO</td><td class=\"comment updatetimeno\" id=\"upd42\" style=\"text-align:right;\">2019-09-18 13:01</td></tr>\n",
       "<tr class=\"ligne2 bold\" id=\"792981\" onclick=\"go_details(event,792981);\"><td class=\"tabev0\"></td><td class=\"tabev0\"></td><td class=\"tabev0\"></td><td class=\"tabev6\"><b><i style=\"display:none;\">earthquake</i><a href=\"/Earthquake/earthquake.php?id=792981\">2019-09-18   07:00:58.3</a></b><i class=\"ago\" id=\"ago43\">11hr 41min ago</i></td><td class=\"tabev1\">5.52 </td><td class=\"tabev2\">N  </td><td class=\"tabev1\">126.59 </td><td class=\"tabev2\">E  </td><td class=\"tabev3\">10</td><td class=\"tabev5\" id=\"magtyp43\">Mw</td><td class=\"tabev2\">5.5</td><td class=\"tb_region\" id=\"reg43\"> MINDANAO, PHILIPPINES</td><td class=\"comment updatetimeno\" id=\"upd43\" style=\"text-align:right;\">2019-09-18 11:34</td></tr>\n",
       "<tr class=\"ligne1 normal\" id=\"792982\" onclick=\"go_details(event,792982);\"><td class=\"tabev0\"></td><td class=\"tabev0\"></td><td class=\"tabev0\"></td><td class=\"tabev6\"><b><i style=\"display:none;\">earthquake</i><a href=\"/Earthquake/earthquake.php?id=792982\">2019-09-18   06:55:06.0</a></b><i class=\"ago\" id=\"ago44\">11hr 47min ago</i></td><td class=\"tabev1\">17.21 </td><td class=\"tabev2\">N  </td><td class=\"tabev1\">100.54 </td><td class=\"tabev2\">W  </td><td class=\"tabev3\">44</td><td class=\"tabev5\" id=\"magtyp44\"> M</td><td class=\"tabev2\">4.2</td><td class=\"tb_region\" id=\"reg44\"> GUERRERO, MEXICO</td><td class=\"comment updatetimeno\" id=\"upd44\" style=\"text-align:right;\">2019-09-18 07:10</td></tr>\n",
       "<tr class=\"ligne2 normal\" id=\"793013\" onclick=\"go_details(event,793013);\"><td class=\"tabev0\"></td><td class=\"tabev0\"></td><td class=\"tabev0\"></td><td class=\"tabev6\"><b><i style=\"display:none;\">earthquake</i><a href=\"/Earthquake/earthquake.php?id=793013\">2019-09-18   06:38:26.0</a></b></td><td class=\"tabev1\">16.29 </td><td class=\"tabev2\">N  </td><td class=\"tabev1\">98.23 </td><td class=\"tabev2\">W  </td><td class=\"tabev3\">11</td><td class=\"tabev5\" id=\"magtyp45\"> M</td><td class=\"tabev2\">3.7</td><td class=\"tb_region\" id=\"reg45\"> OAXACA, MEXICO</td><td class=\"comment updatetimeno\" id=\"upd45\" style=\"text-align:right;\">2019-09-18 13:00</td></tr>\n",
       "<tr class=\"ligne1 normal\" id=\"792980\" onclick=\"go_details(event,792980);\"><td class=\"tabev0\"></td><td class=\"tabev0\"></td><td class=\"tabev0\"></td><td class=\"tabev6\"><b><i style=\"display:none;\">earthquake</i><a href=\"/Earthquake/earthquake.php?id=792980\">2019-09-18   06:26:30.2</a></b></td><td class=\"tabev1\">38.74 </td><td class=\"tabev2\">N  </td><td class=\"tabev1\">38.16 </td><td class=\"tabev2\">E  </td><td class=\"tabev3\">7</td><td class=\"tabev5\" id=\"magtyp46\">ML</td><td class=\"tabev2\">2.2</td><td class=\"tb_region\" id=\"reg46\"> EASTERN TURKEY</td><td class=\"comment updatetimeno\" id=\"upd46\" style=\"text-align:right;\">2019-09-18 06:50</td></tr>\n",
       "<tr class=\"ligne2 normal\" id=\"792979\" onclick=\"go_details(event,792979);\"><td class=\"tabev0\"></td><td class=\"tabev0\"></td><td class=\"tabev0\"></td><td class=\"tabev6\"><b><i style=\"display:none;\">earthquake</i><a href=\"/Earthquake/earthquake.php?id=792979\">2019-09-18   06:26:03.4</a></b></td><td class=\"tabev1\">6.73 </td><td class=\"tabev2\">S  </td><td class=\"tabev1\">154.33 </td><td class=\"tabev2\">E  </td><td class=\"tabev3\">46</td><td class=\"tabev5\" id=\"magtyp47\">mb</td><td class=\"tabev2\">5.1</td><td class=\"tb_region\" id=\"reg47\"> BOUGAINVILLE REGION, P.N.G.</td><td class=\"comment updatetimeno\" id=\"upd47\" style=\"text-align:right;\">2019-09-18 11:33</td></tr>\n",
       "<tr class=\"ligne1 normal\" id=\"792978\" onclick=\"go_details(event,792978);\"><td class=\"tabev0\"></td><td class=\"tabev0\"></td><td class=\"tabev0\"></td><td class=\"tabev6\"><b><i style=\"display:none;\">earthquake</i><a href=\"/Earthquake/earthquake.php?id=792978\">2019-09-18   06:22:48.4</a></b></td><td class=\"tabev1\">3.87 </td><td class=\"tabev2\">S  </td><td class=\"tabev1\">151.43 </td><td class=\"tabev2\">E  </td><td class=\"tabev3\">10</td><td class=\"tabev5\" id=\"magtyp48\">mb</td><td class=\"tabev2\">5.1</td><td class=\"tb_region\" id=\"reg48\"> NEW IRELAND REGION, P.N.G.</td><td class=\"comment updatetimeno\" id=\"upd48\" style=\"text-align:right;\">2019-09-18 11:32</td></tr>\n",
       "<tr class=\"ligne2 normal\" id=\"792977\" onclick=\"go_details(event,792977);\"><td class=\"tabev0\" style=\"text-align:center;\"><a href=\"https://www.emsc-csem.org/Earthquake/Testimonies/comments.php?id=792977\" onmouseout=\"info_b2('notshow','');\" onmouseover=\"info_b2('show','See the &lt;b&gt;testimony&lt;/b&gt; for this earthquake');\"><span class=\"\" style=\"vertical-align:middle;\">1</span></a></td><td class=\"tabev0\"></td><td class=\"tabev0\"><span class=\"intensity\" onclick=\"go_details(event,null,'https://www.emsc-csem.org/Earthquake/popup_intensmap.php?id=792977&amp;f=/INTENSITY_MAPS/79/792977/AUTOMATIC/AreaThreshold_5/EMS_98__RMW_Musson/LocMethod_PerClusterCity/DynamicClusters_MaxSize50/IntensityMapThumbnails.png');\" onmouseout=\"info_b2('notshow','');\" onmouseover=\"info_b2('show','See the &lt;b&gt; Intensity map&lt;/b&gt;');\" style=\"background-color:#FFFFFF;\">F</span></td><td class=\"tabev6\"><b><i style=\"display:none;\">earthquake</i><a href=\"/Earthquake/earthquake.php?id=792977\">2019-09-18   05:58:51.1</a></b></td><td class=\"tabev1\">43.08 </td><td class=\"tabev2\">N  </td><td class=\"tabev1\">13.04 </td><td class=\"tabev2\">E  </td><td class=\"tabev3\">10</td><td class=\"tabev5\" id=\"magtyp49\">ML</td><td class=\"tabev2\">2.2</td><td class=\"tb_region\" id=\"reg49\"> CENTRAL ITALY</td><td class=\"comment updatetimeno\" id=\"upd49\" style=\"text-align:right;\">2019-09-18 06:08</td></tr>\n",
       "</tbody><tfoot><tr><td colspan=\"13\" style=\"height:3px\"></td></tr> <tr class=\"npages\" id=\"my_pagelist_1\"><td colspan=\"13\"><a class=\"sublink sublinka\" href=\"javascript:void()\" rel=\"nofollow\">1</a><a class=\"sublink\" href=\"/Earthquake/?view=2\">2</a><a class=\"sublink\" href=\"/Earthquake/?view=3\">3</a><a class=\"sublink\" href=\"/Earthquake/?view=4\">4</a><a class=\"sublink\" href=\"/Earthquake/?view=5\">5</a><a class=\"sublink\" href=\"/Earthquake/?view=6\">6</a><a class=\"sublink\" href=\"/Earthquake/?view=7\">7</a><a class=\"sublink\" href=\"/Earthquake/?view=8\">8</a><a class=\"sublink\" href=\"/Earthquake/?view=9\">9</a><a class=\"sublink\" href=\"/Earthquake/?view=10\">10</a><a alt=\"Next page\" class=\"sublink\" href=\"/Earthquake/?view=2\"></a><a alt=\"Next 10 pages\" class=\"sublink\" href=\"/Earthquake/?view=11\">»</a></td></tr><tr><td colspan=\"13\" style=\"border-bottom:1px solid #000;\"></td></tr></tfoot></table><b>Bold : Earthquakes with a magnitude ≥ 4.5 in Euro-med, or ≥ 5.5 in the world </b><br/><b style=\"color:red;\">Red : Earthquakes with a magnitude ≥ 5 in Euro-med, or ≥ 6 in the world </b><br/><script>\n",
       "\t\t\t\tvar nb_event_on_page=50;\n",
       "\t\t\t\n",
       "\t\t\t\tfunction cancel_evt(e) {\n",
       "\t\t\t\t\tif(e.bubbles===undefined) e.cancelBubble = true;\n",
       "\t\t\t\t\telse e.stopPropagation();\n",
       "\t\t\t\t}\t\n",
       "\t\t\t\tfunction go_details(e,id,page) {\n",
       "\t\t\t\t\tif((!id) || (id==null)) {\n",
       "\t\t\t\t\t\tcancel_evt(e);\n",
       "\t\t\t\t\t\twindow.open(page,\"Intensity_Map\",\"menubar=no, status=no, scrollbars=no, menubar=no, width=900, height=1000\");\n",
       "\t\t\t\t\t}\t\n",
       "\t\t\t\t\telse document.location.href=\"/Earthquake/earthquake.php?id=\"+id;\n",
       "\t\t\t\t}\n",
       "\t\t\t\t\n",
       "\t\t\t\tvar is_hide_magni=true;\n",
       "\t\t\t\tfunction hide_magni() {\n",
       "\t\t\t\t\tif(!is_hide_magni) {\n",
       "\t\t\t\t\t\tis_hide_magni=true;\n",
       "\t\t\t\t\t\tif(document.getElementById(\"thmag\")) document.getElementById(\"thmag\").colSpan=\"1\";\n",
       "\t\t\t\t\t\tif(document.getElementById(\"magplus\")) document.getElementById(\"magplus\").innerHTML=\"[+]\";\n",
       "\t\t\t\t\t\tfor (i=0;i<= nb_event_on_page;i++) {\n",
       "\t\t\t\t\t\t\tif(document.getElementById(\"magtyp\"+i)) { document.getElementById(\"magtyp\"+i).className=\"tabev5\"; } \n",
       "\t\t\t\t\t\t}\n",
       "\t\t\t\t\t}\n",
       "\t\t\t\t\telse {\n",
       "\t\t\t\t\t\tis_hide_magni=false;\n",
       "\t\t\t\t\t\tif(document.getElementById(\"thmag\")) document.getElementById(\"thmag\").colSpan=\"2\";\n",
       "\t\t\t\t\t\tif(document.getElementById(\"magplus\")) document.getElementById(\"magplus\").innerHTML=\"[-]\";\n",
       "\t\t\t\t\t\tfor (i=0;i<= nb_event_on_page;i++) {\n",
       "\t\t\t\t\t\t\tif(document.getElementById(\"magtyp\"+i)) {document.getElementById(\"magtyp\"+i).className=\"tabev52\"; } \n",
       "\t\t\t\t\t\t}\n",
       "\t\t\t\t\t}\t\n",
       "\t\t\t\t}\t\n",
       "\t\t\t\t\n",
       "\t\t\t\tvar ishide=true;\n",
       "\t\t\t\tfunction hide_upd() {\n",
       "\t\t\t\t\tvar i=0;\n",
       "\t\t\t\t\tif(!ishide) {\n",
       "\t\t\t\t\t\tishide=true;\n",
       "\t\t\t\t\t\tdocument.getElementById(\"upd\").className=\"th2 updatetimeno\";\n",
       "\t\t\t\t\t\tdocument.getElementById(\"upda\").style.display=\"block\";\n",
       "\t\t\t\t\t\t\n",
       "\t\t\t\t\t\tfor (i=0;i<= nb_event_on_page;i++) {\n",
       "\t\t\t\t\t\t\tif(document.getElementById(\"upd\"+i)) document.getElementById(\"upd\"+i).className=\"comment updatetimeno\";\n",
       "\t\t\t\t\t\t\tif(document.getElementById(\"reg\"+i)) document.getElementById(\"reg\"+i).style.paddingLeft=\"20px\";\n",
       "\t\t\t\t\t\t}\t\n",
       "\t\t\t\t\t}\n",
       "\t\t\t\t\telse {\n",
       "\t\t\t\t\t\t\tishide=false;\n",
       "\t\t\t\t\t\tdocument.getElementById(\"upda\").style.display=\"none\";\t\n",
       "\t\t\t\t\t\tdocument.getElementById(\"upd\").className=\"th2\";\n",
       "\t\t\t\t\t\t\n",
       "\t\t\t\t\t\tfor (i=0;i<= nb_event_on_page;i++) {\n",
       "\t\t\t\t\t\t\tif(document.getElementById(\"reg\"+i)) document.getElementById(\"reg\"+i).style.paddingLeft=\"4px\";\n",
       "\t\t\t\t\t\t\tif(document.getElementById(\"upd\"+i)) document.getElementById(\"upd\"+i).className=\"comment\";\n",
       "\t\t\t\t\t\t}\t\n",
       "\t\t\t\t\t\t\n",
       "\t\t\t\t\t}\t\n",
       "\t\t\t\t}\n",
       "\t\t\t\t\tfunction update_ago() {\n",
       "\t\t\t\t\t\tvar i=0;\n",
       "\t\t\t\t\t\tvar def=new Array(\"min ago\",\"hr \");\n",
       "\t\t\t\t\t\twhile( document.getElementById(\"ago\"+i)) { \n",
       "\t\t\t\t\t\t\tvar tb=new Array();\n",
       "\t\t\t\t\t\t\tvar elem=document.getElementById(\"ago\"+i);\n",
       "\t\t\t\t\t\t\tvar str=elem.innerHTML.replace(/min ago/i,\"\").replace(/hr/i,\"\");\n",
       "\t\t\t\t\t\t\ttb=str.split(\" \").reverse();\n",
       "\t\t\t\t\t\t\t//if(i==0) alert(\"**\"+str+\"**\"+tb[0]+\" | \"+tb[1]);\n",
       "\t\t\t\t\t\t\tvar str2=\"\";\n",
       "\t\t\t\t\t\t\tvar ln=tb.length;\n",
       "\t\t\t\t\t\t\tvar j=0;\n",
       "\t\t\t\t\t\t\n",
       "\t\t\t\t\t\t\ttb[j]=parseFloat(tb[j])+1;\n",
       "\t\t\t\t\t\t\tif(tb[j]==60) {\n",
       "\t\t\t\t\t\t\t\ttb[j]=0;\n",
       "\t\t\t\t\t\t\t\tif(ln<=1) tb[j+1]=0;\n",
       "\t\t\t\t\t\t\t\ttb[j+1]=parseFloat(tb[j+1])+1;\n",
       "\t\t\t\t\t\t\t\tif(tb[j+1]>=12) elem.parentNode.removeChild(elem);\n",
       "\t\t\t\t\t\t\t}\t\n",
       "\t\t\t\t\t\t\tif(tb[j]<10) { tb[j]=\"0\"+tb[j]; }\n",
       "\t\t\t\t\t\t\t\t\n",
       "\t\t\t\t\t\t\tdo {\n",
       "\t\t\t\t\t\t\t\ttb[j]+=def[j];\n",
       "\t\t\t\t\t\t\t\tj++;\n",
       "\t\t\t\t\t\t\t} while(tb.length>=(j+1));\t\n",
       "\t\t\t\t\t\t\t\n",
       "\t\t\t\t\t\t\ttb.reverse();\n",
       "\t\t\t\t\t\t\tfor(var z=0; z<tb.length;z++) {\n",
       "\t\t\t\t\t\t\t\tstr2+=tb[z];\n",
       "\t\t\t\t\t\t\t}\t\n",
       "\t\t\t\t\n",
       "\t\t\t\t\t\t\telem.innerHTML=str2;\n",
       "\t\t\t\t\t\t\t//alert(str2);\n",
       "\t\t\t\t\t\t\ti++;\n",
       "\t\t\t\t\t\t} \n",
       "\t\t\t\t\t\tsetTimeout(\"update_ago()\",60000); //1min \n",
       "\t\t\t\t\t}\n",
       "\t\t\t\t\tsetTimeout(\"update_ago()\",60000);\n",
       "\t\t\t\t\t //update_ago();\n",
       "\t\t\t\tvar tab_time=new Array( {evid:793051, time:\"2019-09-18&#160;&#160;&#160;18:09:46.0\", times:\"1568830186\"},{evid:793052, time:\"2019-09-18&#160;&#160;&#160;18:04:03.6\", times:\"1568829843.6\"},{evid:793049, time:\"2019-09-18&#160;&#160;&#160;17:23:56.2\", times:\"1568827436.2\"},{evid:793048, time:\"2019-09-18&#160;&#160;&#160;16:57:30.2\", times:\"1568825850.2\"},{evid:793047, time:\"2019-09-18&#160;&#160;&#160;16:43:59.4\", times:\"1568825039.4\"},{evid:793042, time:\"2019-09-18&#160;&#160;&#160;15:44:42.0\", times:\"1568821482\"},{evid:793043, time:\"2019-09-18&#160;&#160;&#160;15:22:33.0\", times:\"1568820153\"},{evid:793038, time:\"2019-09-18&#160;&#160;&#160;14:59:30.0\", times:\"1568818770\"},{evid:793037, time:\"2019-09-18&#160;&#160;&#160;14:53:34.0\", times:\"1568818414\"},{evid:793035, time:\"2019-09-18&#160;&#160;&#160;14:46:24.7\", times:\"1568817984.7\"},{evid:793036, time:\"2019-09-18&#160;&#160;&#160;14:39:38.0\", times:\"1568817578\"},{evid:793034, time:\"2019-09-18&#160;&#160;&#160;14:28:00.9\", times:\"1568816880.9\"},{evid:793032, time:\"2019-09-18&#160;&#160;&#160;14:15:08.0\", times:\"1568816108\"},{evid:793046, time:\"2019-09-18&#160;&#160;&#160;13:56:49.8\", times:\"1568815009.8\"},{evid:793044, time:\"2019-09-18&#160;&#160;&#160;13:47:28.9\", times:\"1568814448.9\"},{evid:793030, time:\"2019-09-18&#160;&#160;&#160;13:45:18.0\", times:\"1568814318\"},{evid:793029, time:\"2019-09-18&#160;&#160;&#160;13:38:52.5\", times:\"1568813932.5\"},{evid:793028, time:\"2019-09-18&#160;&#160;&#160;13:27:53.0\", times:\"1568813273\"},{evid:793026, time:\"2019-09-18&#160;&#160;&#160;13:16:40.5\", times:\"1568812600.5\"},{evid:793027, time:\"2019-09-18&#160;&#160;&#160;13:13:54.4\", times:\"1568812434.4\"},{evid:793010, time:\"2019-09-18&#160;&#160;&#160;12:38:15.0\", times:\"1568810295\"},{evid:793004, time:\"2019-09-18&#160;&#160;&#160;12:05:10.1\", times:\"1568808310.1\"},{evid:793006, time:\"2019-09-18&#160;&#160;&#160;12:04:03.2\", times:\"1568808243.2\"},{evid:793003, time:\"2019-09-18&#160;&#160;&#160;11:54:58.6\", times:\"1568807698.6\"},{evid:793001, time:\"2019-09-18&#160;&#160;&#160;11:45:15.0\", times:\"1568807115\"},{evid:792999, time:\"2019-09-18&#160;&#160;&#160;11:23:28.4\", times:\"1568805808.4\"},{evid:792997, time:\"2019-09-18&#160;&#160;&#160;11:14:07.4\", times:\"1568805247.4\"},{evid:792991, time:\"2019-09-18&#160;&#160;&#160;10:49:46.5\", times:\"1568803786.5\"},{evid:792993, time:\"2019-09-18&#160;&#160;&#160;10:45:20.0\", times:\"1568803520\"},{evid:792994, time:\"2019-09-18&#160;&#160;&#160;10:42:02.0\", times:\"1568803322\"},{evid:792989, time:\"2019-09-18&#160;&#160;&#160;10:00:01.9\", times:\"1568800801.9\"},{evid:793000, time:\"2019-09-18&#160;&#160;&#160;09:53:07.4\", times:\"1568800387.4\"},{evid:793012, time:\"2019-09-18&#160;&#160;&#160;09:06:07.0\", times:\"1568797567\"},{evid:793019, time:\"2019-09-18&#160;&#160;&#160;08:55:06.0\", times:\"1568796906\"},{evid:792988, time:\"2019-09-18&#160;&#160;&#160;08:48:17.1\", times:\"1568796497.1\"},{evid:792992, time:\"2019-09-18&#160;&#160;&#160;08:12:09.0\", times:\"1568794329\"},{evid:793018, time:\"2019-09-18&#160;&#160;&#160;07:45:29.0\", times:\"1568792729\"},{evid:793020, time:\"2019-09-18&#160;&#160;&#160;07:38:43.0\", times:\"1568792323\"},{evid:793021, time:\"2019-09-18&#160;&#160;&#160;07:35:55.0\", times:\"1568792155\"},{evid:792983, time:\"2019-09-18&#160;&#160;&#160;07:22:07.0\", times:\"1568791327\"},{evid:792984, time:\"2019-09-18&#160;&#160;&#160;07:20:59.0\", times:\"1568791259\"},{evid:793022, time:\"2019-09-18&#160;&#160;&#160;07:19:02.0\", times:\"1568791142\"},{evid:793023, time:\"2019-09-18&#160;&#160;&#160;07:13:39.0\", times:\"1568790819\"},{evid:792981, time:\"2019-09-18&#160;&#160;&#160;07:00:58.3\", times:\"1568790058.3\"},{evid:792982, time:\"2019-09-18&#160;&#160;&#160;06:55:06.0\", times:\"1568789706\"},{evid:793013, time:\"2019-09-18&#160;&#160;&#160;06:38:26.0\", times:\"1568788706\"},{evid:792980, time:\"2019-09-18&#160;&#160;&#160;06:26:30.2\", times:\"1568787990.2\"},{evid:792979, time:\"2019-09-18&#160;&#160;&#160;06:26:03.4\", times:\"1568787963.4\"},{evid:792978, time:\"2019-09-18&#160;&#160;&#160;06:22:48.4\", times:\"1568787768.4\"},{evid:792977, time:\"2019-09-18&#160;&#160;&#160;05:58:51.1\", times:\"1568786331.1\"});\n",
       "var tab_tab=new Array( {evid:793051, ago:\"33min ago\", comm: \"0\", pics: \"0\", intens: \"-1\", lat:\"51.61\", lon:\"16.12\", depth:\"1\", mag:\"2.8\", reg:\"POLAND\",upd:\"1568830560\"},{evid:793052, ago:\"38min ago\", comm: \"0\", pics: \"0\", intens: \"-1\", lat:\"42.80\", lon:\"13.13\", depth:\"11\", mag:\"2.7\", reg:\"CENTRAL ITALY\",upd:\"1568830680\"},{evid:793049, ago:\"1hr 18min ago\", comm: \"0\", pics: \"0\", intens: \"-1\", lat:\"40.36\", lon:\"-124.04\", depth:\"24\", mag:\"3.4\", reg:\"NORTHERN CALIFORNIA\",upd:\"1568827560\"},{evid:793048, ago:\"1hr 45min ago\", comm: \"0\", pics: \"0\", intens: \"-1\", lat:\"37.87\", lon:\"-112.49\", depth:\"6\", mag:\"2.6\", reg:\"UTAH\",upd:\"1568826960\"},{evid:793047, ago:\"1hr 58min ago\", comm: \"0\", pics: \"0\", intens: \"-1\", lat:\"38.81\", lon:\"-122.79\", depth:\"3\", mag:\"2.5\", reg:\"NORTHERN CALIFORNIA\",upd:\"1568825100\"},{evid:793042, ago:\"2hr 58min ago\", comm: \"0\", pics: \"0\", intens: \"-1\", lat:\"-30.18\", lon:\"-71.61\", depth:\"39\", mag:\"3.0\", reg:\"OFFSHORE COQUIMBO, CHILE\",upd:\"1568822280\"},{evid:793043, ago:\"3hr 20min ago\", comm: \"0\", pics: \"0\", intens: \"-1\", lat:\"44.47\", lon:\"146.98\", depth:\"100\", mag:\"4.8\", reg:\"KURIL ISLANDS\",upd:\"1568827800\"},{evid:793038, ago:\"3hr 43min ago\", comm: \"0\", pics: \"0\", intens: \"-1\", lat:\"-7.48\", lon:\"119.51\", depth:\"27\", mag:\"3.7\", reg:\"FLORES SEA\",upd:\"1568819700\"},{evid:793037, ago:\"3hr 49min ago\", comm: \"0\", pics: \"0\", intens: \"-1\", lat:\"-18.62\", lon:\"-71.22\", depth:\"48\", mag:\"3.1\", reg:\"OFF COAST OF TARAPACA, CHILE\",upd:\"1568819340\"},{evid:793035, ago:\"3hr 56min ago\", comm: \"0\", pics: \"0\", intens: \"-1\", lat:\"-10.59\", lon:\"152.42\", depth:\"40\", mag:\"5.3\", reg:\"D'ENTRECASTEAUX ISLANDS REGION\",upd:\"1568825940\"},{evid:793036, ago:\"4hr 03min ago\", comm: \"0\", pics: \"0\", intens: \"-1\", lat:\"-8.42\", lon:\"121.15\", depth:\"172\", mag:\"4.1\", reg:\"FLORES REGION, INDONESIA\",upd:\"1568818800\"},{evid:793034, ago:\"4hr 14min ago\", comm: \"0\", pics: \"0\", intens: \"-1\", lat:\"51.57\", lon:\"-175.28\", depth:\"21\", mag:\"3.5\", reg:\"ANDREANOF ISLANDS, ALEUTIAN IS.\",upd:\"1568818080\"},{evid:793032, ago:\"4hr 27min ago\", comm: \"0\", pics: \"0\", intens: \"-1\", lat:\"35.78\", lon:\"-10.00\", depth:\"31\", mag:\"2.0\", reg:\"AZORES-CAPE ST. VINCENT RIDGE\",upd:\"1568816340\"},{evid:793046, ago:\"4hr 46min ago\", comm: \"0\", pics: \"0\", intens: \"-1\", lat:\"37.88\", lon:\"-112.48\", depth:\"8\", mag:\"2.1\", reg:\"UTAH\",upd:\"1568824740\"},{evid:793044, ago:\"4hr 55min ago\", comm: \"0\", pics: \"0\", intens: \"-1\", lat:\"37.88\", lon:\"-112.48\", depth:\"10\", mag:\"2.1\", reg:\"UTAH\",upd:\"1568822700\"},{evid:793030, ago:\"4hr 57min ago\", comm: \"0\", pics: \"0\", intens: \"-1\", lat:\"37.02\", lon:\"-5.23\", depth:\"1\", mag:\"2.1\", reg:\"SPAIN\",upd:\"1568814600\"},{evid:793029, ago:\"5hr 04min ago\", comm: \"0\", pics: \"0\", intens: \"0\", lat:\"37.07\", lon:\"-5.28\", depth:\"10\", mag:\"3.5\", reg:\"SPAIN\",upd:\"1568815200\"},{evid:793028, ago:\"5hr 15min ago\", comm: \"0\", pics: \"0\", intens: \"-1\", lat:\"37.10\", lon:\"-5.18\", depth:\"24\", mag:\"2.6\", reg:\"SPAIN\",upd:\"1568813580\"},{evid:793026, ago:\"5hr 26min ago\", comm: \"0\", pics: \"0\", intens: \"-1\", lat:\"37.08\", lon:\"-5.25\", depth:\"10\", mag:\"3.1\", reg:\"SPAIN\",upd:\"1568815200\"},{evid:793027, ago:\"5hr 28min ago\", comm: \"0\", pics: \"0\", intens: \"-1\", lat:\"-15.79\", lon:\"-74.27\", depth:\"96\", mag:\"4.8\", reg:\"NEAR COAST OF SOUTHERN PERU\",upd:\"1568830140\"},{evid:793010, ago:\"6hr 04min ago\", comm: \"0\", pics: \"0\", intens: \"-1\", lat:\"37.07\", lon:\"-5.20\", depth:\"11\", mag:\"2.2\", reg:\"SPAIN\",upd:\"1568810640\"},{evid:793004, ago:\"6hr 37min ago\", comm: \"0\", pics: \"0\", intens: \"-1\", lat:\"37.14\", lon:\"20.67\", depth:\"6\", mag:\"2.6\", reg:\"IONIAN SEA\",upd:\"1568817600\"},{evid:793006, ago:\"6hr 38min ago\", comm: \"0\", pics: \"0\", intens: \"-1\", lat:\"5.40\", lon:\"126.28\", depth:\"70\", mag:\"4.7\", reg:\"MINDANAO, PHILIPPINES\",upd:\"1568815140\"},{evid:793003, ago:\"6hr 47min ago\", comm: \"0\", pics: \"0\", intens: \"-1\", lat:\"-54.25\", lon:\"7.93\", depth:\"10\", mag:\"5.4\", reg:\"BOUVET ISLAND REGION\",upd:\"1568815140\"},{evid:793001, ago:\"6hr 57min ago\", comm: \"0\", pics: \"0\", intens: \"-1\", lat:\"2.28\", lon:\"124.60\", depth:\"246\", mag:\"3.8\", reg:\"CELEBES SEA\",upd:\"1568808300\"},{evid:792999, ago:\"7hr 19min ago\", comm: \"6\", pics: \"0\", intens: \"4\", lat:\"9.44\", lon:\"-84.00\", depth:\"48\", mag:\"4.7\", reg:\"COSTA RICA\",upd:\"1568818140\"},{evid:792997, ago:\"7hr 28min ago\", comm: \"0\", pics: \"0\", intens: \"-1\", lat:\"37.12\", lon:\"-5.25\", depth:\"10\", mag:\"3.1\", reg:\"SPAIN\",upd:\"1568806440\"},{evid:792991, ago:\"7hr 53min ago\", comm: \"0\", pics: \"0\", intens: \"-1\", lat:\"35.90\", lon:\"-118.32\", depth:\"4\", mag:\"2.1\", reg:\"CENTRAL CALIFORNIA\",upd:\"1568816400\"},{evid:792993, ago:\"7hr 57min ago\", comm: \"0\", pics: \"0\", intens: \"-1\", lat:\"-19.95\", lon:\"-69.19\", depth:\"101\", mag:\"3.5\", reg:\"TARAPACA, CHILE\",upd:\"1568804460\"},{evid:792994, ago:\"8hr 00min ago\", comm: \"0\", pics: \"0\", intens: \"-1\", lat:\"5.35\", lon:\"126.37\", depth:\"10\", mag:\"4.3\", reg:\"MINDANAO, PHILIPPINES\",upd:\"1568804700\"},{evid:792989, ago:\"8hr 42min ago\", comm: \"0\", pics: \"0\", intens: \"-1\", lat:\"36.06\", lon:\"-117.85\", depth:\"2\", mag:\"2.2\", reg:\"CENTRAL CALIFORNIA\",upd:\"1568800980\"},{evid:793000, ago:\"8hr 49min ago\", comm: \"0\", pics: \"0\", intens: \"-1\", lat:\"51.29\", lon:\"11.59\", depth:\"2\", mag:\"2.3\", reg:\"GERMANY\",upd:\"1568806860\"},{evid:793012, ago:\"9hr 36min ago\", comm: \"0\", pics: \"0\", intens: \"-1\", lat:\"15.61\", lon:\"-96.50\", depth:\"23\", mag:\"3.7\", reg:\"OFFSHORE OAXACA, MEXICO\",upd:\"1568811600\"},{evid:793019, ago:\"9hr 47min ago\", comm: \"0\", pics: \"0\", intens: \"-1\", lat:\"14.73\", lon:\"-93.86\", depth:\"14\", mag:\"3.8\", reg:\"OFF COAST OF CHIAPAS, MEXICO\",upd:\"1568811660\"},{evid:792988, ago:\"9hr 54min ago\", comm: \"0\", pics: \"0\", intens: \"-1\", lat:\"-17.62\", lon:\"-178.65\", depth:\"537\", mag:\"4.6\", reg:\"FIJI REGION\",upd:\"1568798760\"},{evid:792992, ago:\"10hr 30min ago\", comm: \"0\", pics: \"0\", intens: \"-1\", lat:\"19.83\", lon:\"-73.05\", depth:\"23\", mag:\"3.2\", reg:\"HAITI REGION\",upd:\"1568804400\"},{evid:793018, ago:\"10hr 57min ago\", comm: \"0\", pics: \"0\", intens: \"-1\", lat:\"15.80\", lon:\"-96.89\", depth:\"17\", mag:\"3.5\", reg:\"OAXACA, MEXICO\",upd:\"1568811660\"},{evid:793020, ago:\"11hr 04min ago\", comm: \"0\", pics: \"0\", intens: \"-1\", lat:\"19.53\", lon:\"-108.04\", depth:\"12\", mag:\"4.1\", reg:\"REVILLA GIGEDO ISLANDS REGION\",upd:\"1568811660\"},{evid:793021, ago:\"11hr 06min ago\", comm: \"0\", pics: \"0\", intens: \"-1\", lat:\"16.34\", lon:\"-95.26\", depth:\"21\", mag:\"3.7\", reg:\"OAXACA, MEXICO\",upd:\"1568811660\"},{evid:792983, ago:\"11hr 20min ago\", comm: \"0\", pics: \"0\", intens: \"-1\", lat:\"37.03\", lon:\"-5.23\", depth:\"15\", mag:\"2.6\", reg:\"SPAIN\",upd:\"1568791620\"},{evid:792984, ago:\"11hr 21min ago\", comm: \"0\", pics: \"0\", intens: \"-1\", lat:\"-2.01\", lon:\"122.55\", depth:\"10\", mag:\"4.2\", reg:\"SULAWESI, INDONESIA\",upd:\"1568791800\"},{evid:793022, ago:\"11hr 23min ago\", comm: \"0\", pics: \"0\", intens: \"-1\", lat:\"17.50\", lon:\"-94.43\", depth:\"126\", mag:\"3.7\", reg:\"VERACRUZ, MEXICO\",upd:\"1568811660\"},{evid:793023, ago:\"11hr 29min ago\", comm: \"0\", pics: \"0\", intens: \"-1\", lat:\"16.45\", lon:\"-99.06\", depth:\"11\", mag:\"3.6\", reg:\"OFFSHORE GUERRERO, MEXICO\",upd:\"1568811660\"},{evid:792981, ago:\"11hr 41min ago\", comm: \"0\", pics: \"0\", intens: \"-1\", lat:\"5.52\", lon:\"126.59\", depth:\"10\", mag:\"5.5\", reg:\"MINDANAO, PHILIPPINES\",upd:\"1568806440\"},{evid:792982, ago:\"11hr 47min ago\", comm: \"0\", pics: \"0\", intens: \"-1\", lat:\"17.21\", lon:\"-100.54\", depth:\"44\", mag:\"4.2\", reg:\"GUERRERO, MEXICO\",upd:\"1568790600\"},{evid:793013, ago:\"\", comm: \"0\", pics: \"0\", intens: \"-1\", lat:\"16.29\", lon:\"-98.23\", depth:\"11\", mag:\"3.7\", reg:\"OAXACA, MEXICO\",upd:\"1568811600\"},{evid:792980, ago:\"\", comm: \"0\", pics: \"0\", intens: \"-1\", lat:\"38.74\", lon:\"38.16\", depth:\"7\", mag:\"2.2\", reg:\"EASTERN TURKEY\",upd:\"1568789400\"},{evid:792979, ago:\"\", comm: \"0\", pics: \"0\", intens: \"-1\", lat:\"-6.73\", lon:\"154.33\", depth:\"46\", mag:\"5.1\", reg:\"BOUGAINVILLE REGION, P.N.G.\",upd:\"1568806380\"},{evid:792978, ago:\"\", comm: \"0\", pics: \"0\", intens: \"-1\", lat:\"-3.87\", lon:\"151.43\", depth:\"10\", mag:\"5.1\", reg:\"NEW IRELAND REGION, P.N.G.\",upd:\"1568806320\"},{evid:792977, ago:\"\", comm: \"1\", pics: \"0\", intens: \"0\", lat:\"43.08\", lon:\"13.04\", depth:\"10\", mag:\"2.2\", reg:\"CENTRAL ITALY\",upd:\"1568786880\"});\n",
       "\n",
       "\t\t\t\tvar tab_num_alpha=new Array({reg:false,lat:true,lon:true,mag:true,depth:true,upd:true,intens:true,comm:true,pics:true}); \n",
       "\t\t\t\t//addonload(hide_upd);\n",
       "\t\t\t</script><span onmouseout=\"info_b('notshow','','');\" onmouseover=\"info_b('show','This list of events should not be considered as complete. &lt;br /&gt;\t\t\t\tEarthquakes with smaller magnitudes are reported for the Euro-Mediterranenan region.&lt;br /&gt;\t\t\t\tThe reported locations have not been computed by the EMSC and the automatic location can be inaccurate.&lt;br /&gt;\t\t\t\tThis list is fully dynamic and the information is updated as often as necessary.&lt;br /&gt;\t\t\t\tThis is particulary the case in the very first hours following an earthquake occurence','Disclaimer');\"><a href=\"/Earthquake/?disclam=yes\">Disclaimer</a></span><script> function changeLocation(adress) { window.location.href = adress; }\n",
       "\t\t\t\tfunction refreshcsem(adress,timeout) { setTimeout('changeLocation(\"'+adress+'\")',timeout*60000); }\n",
       "\t\t\t\tif(/www/i.test(window.location.href)) refreshcsem(\"/Earthquake/?csemrefresh=true\",5);\n",
       "\t\t</script><script>\n",
       "var objbeta=new createEMSCWidget(\"beta1\",65,\"left\",\"POPULARITY MAP\",new Array(0,0,255),new Array(255,0,0),false); \n",
       "objbeta.W_init(\"iframe\",\"/Tools/realtimefeltmap.php?xminbefore=5&width=740&height=350\",700,420);\n",
       "</script><p> </p>\n",
       "</div><!-- End content -->\n",
       "<div class=\"clearer\"></div>\n",
       "</div><!-- End container --><div id=\"footer\"><!-- ======== PIED DE PAGE ====== -->\n",
       "<div id=\"footer2\">\n",
       "<a href=\"https://www.emsc-csem.org/faq.php\"><b>FAQ</b></a>   <a href=\"https://www.emsc-csem.org/about/\"><b>About EMSC</b></a>\n",
       "            <span id=\"mast\"></span><script type=\"text/javascript\">at(\"webmaster_0_emsc-csem_8_org\",true,\"\",\"mast\",\"If you have any comments, please contact us\");</script>            \n",
       "<a href=\"https://www.emsc-csem.org/sitemap.php\"><b>Site Map</b></a>   <a href=\"https://www.emsc-csem.org/Search/\"><b>Search</b></a><br/><br/>\n",
       "<span id=\"media\" style=\"float:left;width:50%;\">Media : <a href=\"http://twitter.com/lastquake\" target=\"_blank\"><span class=\"spriteorig sp_twitter\" title=\"twitter: @lastquake\"></span></a>  <a href=\"http://twitter.com/EMSC\" target=\"_blank\"><span class=\"spriteorig sp_twitter\" title=\"twitter: @EMSC\"></span></a>  <a href=\"http://www.facebook.com/pages/EMSC-CSEM/207151812690551?sk=wall\" target=\"_blank\"><span class=\"spriteorig sp_facebook\" title=\"facebook: EMSC-CSEM\"></span></a>  <a href=\"https://t.me/LastQuake2\" target=\"_blank\"><span style=\"display:inline-block;background:url(/Css/img/telegram-24.png) no-repeat;width:24px;height:24px;\" title=\"Telegram: LastQuake2\"></span></a>  <a href=\"https://t.me/AllQuakes2\" target=\"_blank\"><span style=\"display:inline-block;background:url(/Css/img/telegram-24.png) no-repeat;width:24px;height:24px;\" title=\"Telegram: AllQuakes2\"></span></a>  <a href=\"https://plus.google.com/110355370165808827925/posts\" target=\"_blank\"><span class=\"spriteorig sp_googleplus\" title=\"google: emsc csem\"></span></a>  <a href=\"http://www.pinterest.com/EMSCCSEM/\" target=\"_blank\"><span class=\"spriteorig sp_pinterest\" title=\"pinterest: EMSCCSEM\"></span></a>  <a href=\"http://www.youtube.com/user/EuroMSC\" target=\"_blank\"><span class=\"spriteorig sp_youtube\" title=\"youtube: EuroMSC\"></span></a>\n",
       "</span>Compatibility : <span class=\"browser spriteorig sp_chrome\" title=\"chrome\"></span><span class=\"browser spriteorig sp_firefox\" title=\"firefox\"></span><span class=\"browser spriteorig sp_ie\" title=\"internet explorer\"></span><span class=\"browser spriteorig sp_opera\" title=\"opera\"></span><span class=\"browser spriteorig sp_safari\" title=\"safari\"></span><br/><br/>\n",
       "<center>© 2010 - <b><a href=\"/policy.php\">Privacy</a></b></center>\n",
       "</div></div>\n",
       "<!-- Google analytics Code -->\n",
       "<script type=\"text/javascript\">\n",
       "\tvar gaJsHost = ((\"https:\" == document.location.protocol) ? \"https://ssl.\" : \"http://www.\");\n",
       "\tdocument.write(unescape(\"%3Cscript async='true' src='\" + gaJsHost + \"google-analytics.com/ga.js' type='text/javascript'%3E%3C/script%3E\"));\n",
       "\t</script>\n",
       "<script type=\"text/javascript\">\n",
       "    try {\n",
       "\tvar pageTracker = _gat._getTracker(\"UA-810235-1\");\n",
       "\tpageTracker._trackPageview();\n",
       "\t} catch(err) {} </script>\n",
       "<!-- End of Google analytics Code -->\n",
       "<!-- Start of StatCounter Code -->\n",
       "<script type=\"text/javascript\">\n",
       "\tvar sc_project=217829; \n",
       "\tvar sc_invisible=1; \n",
       "\tvar sc_security=\"\"; \n",
       "\t</script>\n",
       "<script async=\"true\" src=\"https://www.statcounter.com/counter/counter.js\" type=\"text/javascript\"></script>\n",
       "<noscript><div class=\"statcounter\" style=\"display:none;\"><a href=\"http://www.statcounter.com/\" target=\"_blank\" title=\"hit counter\"><img alt=\"hit counter\" class=\"statcounter\" src=\"https://c.statcounter.com/217829/0//1/\" style=\"width:1px;height:1px;\"/></a></div></noscript>\n",
       "<!-- End of StatCounter Code -->\n",
       "<span id=\"mesure\" style=\"visibility:hidden; white-space:nowrap;\"></span> <script> \n",
       "\t\t\n",
       "\t\tvar socketE,intervalID ;\n",
       "\t\t\n",
       "\t\tfunction conn_io() {\n",
       "\t\t\tif (typeof io == \"undefined\") \tsetTimeout(\"conn_io()\",200);\n",
       "\t\t\telse { \n",
       "\t\t\t\tvar isMobile= (/android|mobile|webos|iphone|ipad|ipod|blackberry|iemobile|opera mini/i.test(navigator.userAgent.toLowerCase()));\n",
       "\t\t\t\tvar opts={transports:[\"polling\"]};\n",
       "\t\t\t\tif(/*!isMobile &&*/ window.WebSocket) opts.transports.unshift(\"websocket\"); //opts.transports.push(\"websocket\");  //\n",
       "\t\t\t\t\t//console.log(opts.transports);  console.log(navigator.userAgent.toLowerCase());\n",
       "\t\t\t\tsocketE=io.connect(\"https://zebu-neries.emsc-csem.org/Traffic?REF=\"+escape(document.referrer),opts); \n",
       "\t\t\t\tsocketE.on(\"connect\", function () { \n",
       "\t\t\t\t\tsocketE.on(\"cookie\", function (msg) { \n",
       "\t\t\t\t\t\tconsole.log(msg); \n",
       "\t\t\t\t\t\tvar xjs=document.createElement(\"script\"); xjs.src=\"https://zebu-neries.emsc-csem.org/?addSockId=\"+msg.name+\"&value=\"+msg.value+\"&expires=\"+msg.expires; xjs.type=\"text/javascript\"; document.getElementsByTagName(\"head\")[0].appendChild(xjs);\n",
       "\t\t\t\t\t});\n",
       "\t\t\t\t});\n",
       "\t\t\t\tsocketE.on(\"banner\", function (msg) { /*console.log(msg);*/ /*if(typeof treat_quick_traffic_peak !=\"undefined\") { treat_quick_traffic_peak(JSON.parse(msg)); }*/ });\n",
       "\t\t\t\tsocketE.on(\"message\",function(mes) { console.log(mes); });\n",
       "\t\t\t}\t\n",
       "\t\t}\t\n",
       "\t//\taddonload(conn_io);\n",
       "\t\tif(typeof JSON == \"undefined\") { var xjs2=document.createElement(\"script\"); xjs2.src=\"https://www.emsc-csem.org/javascript/json2.min.js\"; xjs2.type=\"text/javascript\"; document.getElementsByTagName(\"head\")[0].appendChild(xjs2); }\n",
       "\t\t\n",
       "\t\t\n",
       "\tfunction loadWs() {\n",
       "\t\tvar d=Date.now();\n",
       "\t\t\n",
       "\t\tvar ws= new WebSocket(\"wss://www.emsc-csem.org/traffic?REF=\"+escape(document.referrer)); \n",
       "\t\tws.id=d; //console.log(\"try ws \"+ws.id);\n",
       "\n",
       "\t\tws.onopen = function() { /*setInterval(function () { ws.send(\"Test\"); console.log(\"sendTest\"); }, 12 * 60 * 1000); */   };\n",
       "\t\tws[\"banner\"]=function (msg) { \n",
       "\t\t\tif(typeof treat_quick_traffic_peak !=\"undefined\") { treat_quick_traffic_peak(msg); } \n",
       "\t\t\telse setTimeout(function() { ws.banner(msg);} , 300 );\n",
       "\t\t};\t\n",
       "\t\tws.onmessage = function (evt) { \n",
       "\t\t\tvar m=JSON.parse(evt.data); //console.log(m);\t\n",
       "\t\t\tif(m.label && m.data && ws[m.label]) ws[m.label](m.data);\n",
       "\t\t};\n",
       "\t\t\n",
       "\t\tws.onclose = function() {\n",
       "\t\t\t//console.log(\"Connection is closed...\",ws.id); console.log(arguments);\n",
       "\t\t\tsetTimeout(function() { loadWs(); }, 1000);\n",
       "\t\t};\n",
       "\t\tws.onerror = function(err) { };\n",
       "\t}\n",
       "\t(function() { loadWs(); })();\n",
       "\t\t\n",
       "\t\t\n",
       "\t\t</script>\n",
       "</body>\n",
       "</html>"
      ]
     },
     "execution_count": 98,
     "metadata": {},
     "output_type": "execute_result"
    }
   ],
   "source": [
    "#your code\n",
    "#your code\n",
    "html=requests.get(url).content\n",
    "# html\n",
    "\n",
    "soup= bs(html , 'lxml' )\n",
    "soup"
   ]
  },
  {
   "cell_type": "markdown",
   "metadata": {},
   "source": [
    "#### Display the date, days, title, city, country of next 25 hackathon events as a Pandas dataframe table"
   ]
  },
  {
   "cell_type": "code",
   "execution_count": null,
   "metadata": {},
   "outputs": [],
   "source": []
  },
  {
   "cell_type": "code",
   "execution_count": null,
   "metadata": {},
   "outputs": [],
   "source": [
    "# This is the url you will scrape in this exercise\n",
    "url ='https://hackevents.co/hackathons'"
   ]
  },
  {
   "cell_type": "code",
   "execution_count": null,
   "metadata": {},
   "outputs": [],
   "source": [
    "#your code\n",
    "#your code\n",
    "html=requests.get(url).content\n",
    "# html\n",
    "\n",
    "soup= bs(html , 'lxml' )\n",
    "# soup"
   ]
  },
  {
   "cell_type": "markdown",
   "metadata": {},
   "source": [
    "#### Count number of tweets by a given Twitter account."
   ]
  },
  {
   "cell_type": "markdown",
   "metadata": {},
   "source": [
    "You will need to include a ***try/except block*** for account names not found. \n",
    "<br>***Hint:*** the program should count the number of tweets for any provided account"
   ]
  },
  {
   "cell_type": "code",
   "execution_count": null,
   "metadata": {},
   "outputs": [],
   "source": [
    "# This is the url you will scrape in this exercise \n",
    "# You will need to add the account credentials to this url\n",
    "url = 'https://twitter.com/'"
   ]
  },
  {
   "cell_type": "code",
   "execution_count": null,
   "metadata": {},
   "outputs": [],
   "source": [
    "#your code\n",
    "#your code\n",
    "html=requests.get(url).content\n",
    "# html\n",
    "\n",
    "soup= bs(html , 'lxml' )\n",
    "# soup"
   ]
  },
  {
   "cell_type": "markdown",
   "metadata": {},
   "source": [
    "#### Number of followers of a given twitter account"
   ]
  },
  {
   "cell_type": "markdown",
   "metadata": {},
   "source": [
    "You will need to include a ***try/except block*** in case account/s name not found. \n",
    "<br>***Hint:*** the program should count the followers for any provided account"
   ]
  },
  {
   "cell_type": "code",
   "execution_count": null,
   "metadata": {},
   "outputs": [],
   "source": [
    "# This is the url you will scrape in this exercise \n",
    "# You will need to add the account credentials to this url\n",
    "url = 'https://twitter.com/'"
   ]
  },
  {
   "cell_type": "code",
   "execution_count": null,
   "metadata": {},
   "outputs": [],
   "source": [
    "#your code"
   ]
  },
  {
   "cell_type": "markdown",
   "metadata": {},
   "source": [
    "#### List all language names and number of related articles in the order they appear in wikipedia.org"
   ]
  },
  {
   "cell_type": "code",
   "execution_count": null,
   "metadata": {},
   "outputs": [],
   "source": [
    "# This is the url you will scrape in this exercise\n",
    "url = 'https://www.wikipedia.org/'"
   ]
  },
  {
   "cell_type": "code",
   "execution_count": null,
   "metadata": {},
   "outputs": [],
   "source": [
    "#your code"
   ]
  },
  {
   "cell_type": "markdown",
   "metadata": {},
   "source": [
    "#### A list with the different kind of datasets available in data.gov.uk "
   ]
  },
  {
   "cell_type": "code",
   "execution_count": null,
   "metadata": {},
   "outputs": [],
   "source": [
    "# This is the url you will scrape in this exercise\n",
    "url = 'https://data.gov.uk/'"
   ]
  },
  {
   "cell_type": "code",
   "execution_count": null,
   "metadata": {},
   "outputs": [],
   "source": [
    "#your code "
   ]
  },
  {
   "cell_type": "markdown",
   "metadata": {},
   "source": [
    "#### Top 10 languages by number of native speakers stored in a Pandas Dataframe"
   ]
  },
  {
   "cell_type": "code",
   "execution_count": null,
   "metadata": {},
   "outputs": [],
   "source": [
    "# This is the url you will scrape in this exercise\n",
    "url = 'https://en.wikipedia.org/wiki/List_of_languages_by_number_of_native_speakers'"
   ]
  },
  {
   "cell_type": "code",
   "execution_count": null,
   "metadata": {},
   "outputs": [],
   "source": [
    "#your code"
   ]
  },
  {
   "cell_type": "markdown",
   "metadata": {},
   "source": [
    "### BONUS QUESTIONS"
   ]
  },
  {
   "cell_type": "markdown",
   "metadata": {},
   "source": [
    "#### Scrape a certain number of tweets of a given Twitter account."
   ]
  },
  {
   "cell_type": "code",
   "execution_count": null,
   "metadata": {},
   "outputs": [],
   "source": [
    "# This is the url you will scrape in this exercise \n",
    "# You will need to add the account credentials to this url\n",
    "url = 'https://twitter.com/'"
   ]
  },
  {
   "cell_type": "code",
   "execution_count": null,
   "metadata": {},
   "outputs": [],
   "source": [
    "# your code"
   ]
  },
  {
   "cell_type": "markdown",
   "metadata": {},
   "source": [
    "#### IMDB's Top 250 data (movie name, Initial release, director name and stars) as a pandas dataframe"
   ]
  },
  {
   "cell_type": "code",
   "execution_count": null,
   "metadata": {},
   "outputs": [],
   "source": [
    "# This is the url you will scrape in this exercise \n",
    "url = 'https://www.imdb.com/chart/top'"
   ]
  },
  {
   "cell_type": "code",
   "execution_count": null,
   "metadata": {},
   "outputs": [],
   "source": [
    "# your code"
   ]
  },
  {
   "cell_type": "markdown",
   "metadata": {},
   "source": [
    "#### Movie name, year and a brief summary of the top 10 random movies (IMDB) as a pandas dataframe."
   ]
  },
  {
   "cell_type": "code",
   "execution_count": null,
   "metadata": {},
   "outputs": [],
   "source": [
    "#This is the url you will scrape in this exercise\n",
    "url = 'http://www.imdb.com/chart/top'"
   ]
  },
  {
   "cell_type": "code",
   "execution_count": null,
   "metadata": {},
   "outputs": [],
   "source": [
    "#your code"
   ]
  },
  {
   "cell_type": "markdown",
   "metadata": {},
   "source": [
    "#### Find the live weather report (temperature, wind speed, description and weather) of a given city."
   ]
  },
  {
   "cell_type": "code",
   "execution_count": 99,
   "metadata": {},
   "outputs": [
    {
     "name": "stdout",
     "output_type": "stream",
     "text": [
      "Enter the city:miami\n"
     ]
    }
   ],
   "source": [
    "#https://openweathermap.org/current\n",
    "city = city=input('Enter the city:')\n",
    "url = 'http://api.openweathermap.org/data/2.5/weather?'+'q='+city+'&APPID=b35975e18dc93725acb092f7272cc6b8&units=metric'"
   ]
  },
  {
   "cell_type": "code",
   "execution_count": 102,
   "metadata": {},
   "outputs": [
    {
     "data": {
      "text/plain": [
       "<html><body><p>{\"coord\":{\"lon\":-80.19,\"lat\":25.77},\"weather\":[{\"id\":802,\"main\":\"Clouds\",\"description\":\"scattered clouds\",\"icon\":\"03d\"}],\"base\":\"stations\",\"main\":{\"temp\":31.73,\"pressure\":1013,\"humidity\":49,\"temp_min\":30.56,\"temp_max\":33},\"visibility\":16093,\"wind\":{\"speed\":6.7,\"deg\":40,\"gust\":9.3},\"clouds\":{\"all\":40},\"dt\":1568835224,\"sys\":{\"type\":1,\"id\":4896,\"message\":0.0108,\"country\":\"US\",\"sunrise\":1568804862,\"sunset\":1568848945},\"timezone\":-14400,\"id\":4164138,\"name\":\"Miami\",\"cod\":200}</p></body></html>"
      ]
     },
     "execution_count": 102,
     "metadata": {},
     "output_type": "execute_result"
    }
   ],
   "source": [
    "# your code\n",
    "html=requests.get(url).content\n",
    "# html\n",
    "\n",
    "soup= bs(html , 'lxml' )\n",
    "soup\n",
    "list= ['temperature', 'wind speed', description and weather]"
   ]
  },
  {
   "cell_type": "markdown",
   "metadata": {},
   "source": [
    "#### Book name,price and stock availability as a pandas dataframe."
   ]
  },
  {
   "cell_type": "code",
   "execution_count": null,
   "metadata": {},
   "outputs": [],
   "source": [
    "# This is the url you will scrape in this exercise. \n",
    "# It is a fictional bookstore created to be scraped. \n",
    "url = 'http://books.toscrape.com/'"
   ]
  },
  {
   "cell_type": "code",
   "execution_count": null,
   "metadata": {},
   "outputs": [],
   "source": [
    "#your code\n",
    "from PIL import Image\n",
    "import requests\n",
    "from io import BytesIO\n",
    "url = \"https://avatars0.githubusercontent.com/u/13400803?v=4&s=400\"\n",
    "response = requests.get(url)\n",
    "img = Image.open(BytesIO(response.content))\n",
    "img.show()"
   ]
  },
  {
   "cell_type": "code",
   "execution_count": null,
   "metadata": {},
   "outputs": [],
   "source": []
  }
 ],
 "metadata": {
  "kernelspec": {
   "display_name": "Python 3",
   "language": "python",
   "name": "python3"
  },
  "language_info": {
   "codemirror_mode": {
    "name": "ipython",
    "version": 3
   },
   "file_extension": ".py",
   "mimetype": "text/x-python",
   "name": "python",
   "nbconvert_exporter": "python",
   "pygments_lexer": "ipython3",
   "version": "3.7.3"
  }
 },
 "nbformat": 4,
 "nbformat_minor": 2
}
