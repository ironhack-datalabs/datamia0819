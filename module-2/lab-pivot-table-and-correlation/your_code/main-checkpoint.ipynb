{
 "cells": [
  {
   "cell_type": "markdown",
   "metadata": {},
   "source": [
    "# Before you start :\n",
    "   - These exercises are related to the Pivot table and correlation lessons.\n",
    "   - Keep in mind that you need to use some of the functions you learned in the previous lessons.\n",
    "   - All datasets are provided in the `your-code` folder of this lab.\n",
    "   - Elaborate your codes and outputs as much as you can.\n",
    "   - Try your best to answer the questions and complete the tasks and most importantly enjoy the process!!!"
   ]
  },
  {
   "cell_type": "markdown",
   "metadata": {},
   "source": [
    "#### Import all the libraries that are necessary"
   ]
  },
  {
   "cell_type": "code",
   "execution_count": 1,
   "metadata": {},
   "outputs": [],
   "source": [
    "# import libraries here\n",
    "import pandas as pd\n",
    "import numpy as np\n",
    "\n",
    "%matplotlib inline\n",
    "import matplotlib.pyplot as plt\n",
    "import seaborn as sns\n"
   ]
  },
  {
   "cell_type": "markdown",
   "metadata": {},
   "source": [
    "# Challenge 1"
   ]
  },
  {
   "cell_type": "markdown",
   "metadata": {},
   "source": [
    "#### Open the ` Employee.csv` file and name your dataset `employee`"
   ]
  },
  {
   "cell_type": "code",
   "execution_count": 2,
   "metadata": {},
   "outputs": [
    {
     "data": {
      "text/html": [
       "<div>\n",
       "<style scoped>\n",
       "    .dataframe tbody tr th:only-of-type {\n",
       "        vertical-align: middle;\n",
       "    }\n",
       "\n",
       "    .dataframe tbody tr th {\n",
       "        vertical-align: top;\n",
       "    }\n",
       "\n",
       "    .dataframe thead th {\n",
       "        text-align: right;\n",
       "    }\n",
       "</style>\n",
       "<table border=\"1\" class=\"dataframe\">\n",
       "  <thead>\n",
       "    <tr style=\"text-align: right;\">\n",
       "      <th></th>\n",
       "      <th>Name</th>\n",
       "      <th>Department</th>\n",
       "      <th>Education</th>\n",
       "      <th>Gender</th>\n",
       "      <th>Title</th>\n",
       "      <th>Years</th>\n",
       "      <th>Salary</th>\n",
       "    </tr>\n",
       "  </thead>\n",
       "  <tbody>\n",
       "    <tr>\n",
       "      <th>0</th>\n",
       "      <td>Jose</td>\n",
       "      <td>IT</td>\n",
       "      <td>Bachelor</td>\n",
       "      <td>M</td>\n",
       "      <td>analyst</td>\n",
       "      <td>1</td>\n",
       "      <td>35</td>\n",
       "    </tr>\n",
       "    <tr>\n",
       "      <th>1</th>\n",
       "      <td>Maria</td>\n",
       "      <td>IT</td>\n",
       "      <td>Master</td>\n",
       "      <td>F</td>\n",
       "      <td>analyst</td>\n",
       "      <td>2</td>\n",
       "      <td>30</td>\n",
       "    </tr>\n",
       "    <tr>\n",
       "      <th>2</th>\n",
       "      <td>David</td>\n",
       "      <td>HR</td>\n",
       "      <td>Master</td>\n",
       "      <td>M</td>\n",
       "      <td>analyst</td>\n",
       "      <td>2</td>\n",
       "      <td>30</td>\n",
       "    </tr>\n",
       "    <tr>\n",
       "      <th>3</th>\n",
       "      <td>Sonia</td>\n",
       "      <td>HR</td>\n",
       "      <td>Bachelor</td>\n",
       "      <td>F</td>\n",
       "      <td>analyst</td>\n",
       "      <td>4</td>\n",
       "      <td>35</td>\n",
       "    </tr>\n",
       "    <tr>\n",
       "      <th>4</th>\n",
       "      <td>Samuel</td>\n",
       "      <td>Sales</td>\n",
       "      <td>Master</td>\n",
       "      <td>M</td>\n",
       "      <td>associate</td>\n",
       "      <td>3</td>\n",
       "      <td>55</td>\n",
       "    </tr>\n",
       "    <tr>\n",
       "      <th>5</th>\n",
       "      <td>Eva</td>\n",
       "      <td>Sales</td>\n",
       "      <td>Bachelor</td>\n",
       "      <td>F</td>\n",
       "      <td>associate</td>\n",
       "      <td>2</td>\n",
       "      <td>55</td>\n",
       "    </tr>\n",
       "    <tr>\n",
       "      <th>6</th>\n",
       "      <td>Carlos</td>\n",
       "      <td>IT</td>\n",
       "      <td>Master</td>\n",
       "      <td>M</td>\n",
       "      <td>VP</td>\n",
       "      <td>8</td>\n",
       "      <td>70</td>\n",
       "    </tr>\n",
       "    <tr>\n",
       "      <th>7</th>\n",
       "      <td>Pedro</td>\n",
       "      <td>IT</td>\n",
       "      <td>Phd</td>\n",
       "      <td>M</td>\n",
       "      <td>associate</td>\n",
       "      <td>7</td>\n",
       "      <td>60</td>\n",
       "    </tr>\n",
       "    <tr>\n",
       "      <th>8</th>\n",
       "      <td>Ana</td>\n",
       "      <td>HR</td>\n",
       "      <td>Master</td>\n",
       "      <td>F</td>\n",
       "      <td>VP</td>\n",
       "      <td>8</td>\n",
       "      <td>70</td>\n",
       "    </tr>\n",
       "  </tbody>\n",
       "</table>\n",
       "</div>"
      ],
      "text/plain": [
       "     Name Department Education Gender      Title  Years  Salary\n",
       "0    Jose         IT  Bachelor      M    analyst      1      35\n",
       "1   Maria         IT    Master      F    analyst      2      30\n",
       "2   David         HR    Master      M    analyst      2      30\n",
       "3   Sonia         HR  Bachelor      F    analyst      4      35\n",
       "4  Samuel      Sales    Master      M  associate      3      55\n",
       "5     Eva      Sales  Bachelor      F  associate      2      55\n",
       "6  Carlos         IT    Master      M         VP      8      70\n",
       "7   Pedro         IT       Phd      M  associate      7      60\n",
       "8     Ana         HR    Master      F         VP      8      70"
      ]
     },
     "execution_count": 2,
     "metadata": {},
     "output_type": "execute_result"
    }
   ],
   "source": [
    "# your answer here\n",
    "employee = pd.read_csv(\"Employee.csv\")\n",
    "employee"
   ]
  },
  {
   "cell_type": "markdown",
   "metadata": {},
   "source": [
    "#### What's the mean salary by department. \n",
    "##### Tip : There are 2 ways to do it - one way is with and the other way is without pivot tables. Do it both ways. \n"
   ]
  },
  {
   "cell_type": "code",
   "execution_count": 3,
   "metadata": {},
   "outputs": [
    {
     "data": {
      "text/plain": [
       "Department\n",
       "HR       45.00\n",
       "IT       48.75\n",
       "Sales    55.00\n",
       "Name: Salary, dtype: float64"
      ]
     },
     "execution_count": 3,
     "metadata": {},
     "output_type": "execute_result"
    }
   ],
   "source": [
    "# your answer here-1st way\n",
    "\n",
    "employee.groupby('Department').agg('Salary').mean()\n"
   ]
  },
  {
   "cell_type": "code",
   "execution_count": 4,
   "metadata": {},
   "outputs": [
    {
     "data": {
      "text/html": [
       "<div>\n",
       "<style scoped>\n",
       "    .dataframe tbody tr th:only-of-type {\n",
       "        vertical-align: middle;\n",
       "    }\n",
       "\n",
       "    .dataframe tbody tr th {\n",
       "        vertical-align: top;\n",
       "    }\n",
       "\n",
       "    .dataframe thead th {\n",
       "        text-align: right;\n",
       "    }\n",
       "</style>\n",
       "<table border=\"1\" class=\"dataframe\">\n",
       "  <thead>\n",
       "    <tr style=\"text-align: right;\">\n",
       "      <th></th>\n",
       "      <th>Salary</th>\n",
       "    </tr>\n",
       "    <tr>\n",
       "      <th>Department</th>\n",
       "      <th></th>\n",
       "    </tr>\n",
       "  </thead>\n",
       "  <tbody>\n",
       "    <tr>\n",
       "      <th>HR</th>\n",
       "      <td>45.00</td>\n",
       "    </tr>\n",
       "    <tr>\n",
       "      <th>IT</th>\n",
       "      <td>48.75</td>\n",
       "    </tr>\n",
       "    <tr>\n",
       "      <th>Sales</th>\n",
       "      <td>55.00</td>\n",
       "    </tr>\n",
       "  </tbody>\n",
       "</table>\n",
       "</div>"
      ],
      "text/plain": [
       "            Salary\n",
       "Department        \n",
       "HR           45.00\n",
       "IT           48.75\n",
       "Sales        55.00"
      ]
     },
     "execution_count": 4,
     "metadata": {},
     "output_type": "execute_result"
    }
   ],
   "source": [
    "# your answer here-2nd way\n",
    "\n",
    "employee.pivot_table(index=[\"Department\"], values = 'Salary')\n"
   ]
  },
  {
   "cell_type": "markdown",
   "metadata": {},
   "source": [
    "#### We want now to group the data by more than one column. Use Pandas pivot table function to select the mean salary by department and title"
   ]
  },
  {
   "cell_type": "code",
   "execution_count": 5,
   "metadata": {},
   "outputs": [
    {
     "data": {
      "text/html": [
       "<div>\n",
       "<style scoped>\n",
       "    .dataframe tbody tr th:only-of-type {\n",
       "        vertical-align: middle;\n",
       "    }\n",
       "\n",
       "    .dataframe tbody tr th {\n",
       "        vertical-align: top;\n",
       "    }\n",
       "\n",
       "    .dataframe thead th {\n",
       "        text-align: right;\n",
       "    }\n",
       "</style>\n",
       "<table border=\"1\" class=\"dataframe\">\n",
       "  <thead>\n",
       "    <tr style=\"text-align: right;\">\n",
       "      <th></th>\n",
       "      <th></th>\n",
       "      <th>Salary</th>\n",
       "    </tr>\n",
       "    <tr>\n",
       "      <th>Department</th>\n",
       "      <th>Title</th>\n",
       "      <th></th>\n",
       "    </tr>\n",
       "  </thead>\n",
       "  <tbody>\n",
       "    <tr>\n",
       "      <th rowspan=\"2\" valign=\"top\">HR</th>\n",
       "      <th>VP</th>\n",
       "      <td>70.0</td>\n",
       "    </tr>\n",
       "    <tr>\n",
       "      <th>analyst</th>\n",
       "      <td>32.5</td>\n",
       "    </tr>\n",
       "    <tr>\n",
       "      <th rowspan=\"3\" valign=\"top\">IT</th>\n",
       "      <th>VP</th>\n",
       "      <td>70.0</td>\n",
       "    </tr>\n",
       "    <tr>\n",
       "      <th>analyst</th>\n",
       "      <td>32.5</td>\n",
       "    </tr>\n",
       "    <tr>\n",
       "      <th>associate</th>\n",
       "      <td>60.0</td>\n",
       "    </tr>\n",
       "    <tr>\n",
       "      <th>Sales</th>\n",
       "      <th>associate</th>\n",
       "      <td>55.0</td>\n",
       "    </tr>\n",
       "  </tbody>\n",
       "</table>\n",
       "</div>"
      ],
      "text/plain": [
       "                      Salary\n",
       "Department Title            \n",
       "HR         VP           70.0\n",
       "           analyst      32.5\n",
       "IT         VP           70.0\n",
       "           analyst      32.5\n",
       "           associate    60.0\n",
       "Sales      associate    55.0"
      ]
     },
     "execution_count": 5,
     "metadata": {},
     "output_type": "execute_result"
    }
   ],
   "source": [
    "# your answer here\n",
    "\n",
    "employee.pivot_table(index=[\"Department\", \"Title\"], values = 'Salary')\n"
   ]
  },
  {
   "cell_type": "markdown",
   "metadata": {},
   "source": [
    "#### We want to display the number of years of work experience and the salary for each Title. Add Years as a column in your pivot table\n",
    "*Hint: Use Pandas doc(see References in README.md) to explore the pivot_table() arguments*"
   ]
  },
  {
   "cell_type": "code",
   "execution_count": 6,
   "metadata": {},
   "outputs": [
    {
     "data": {
      "text/html": [
       "<div>\n",
       "<style scoped>\n",
       "    .dataframe tbody tr th:only-of-type {\n",
       "        vertical-align: middle;\n",
       "    }\n",
       "\n",
       "    .dataframe tbody tr th {\n",
       "        vertical-align: top;\n",
       "    }\n",
       "\n",
       "    .dataframe thead th {\n",
       "        text-align: right;\n",
       "    }\n",
       "</style>\n",
       "<table border=\"1\" class=\"dataframe\">\n",
       "  <thead>\n",
       "    <tr style=\"text-align: right;\">\n",
       "      <th>Years</th>\n",
       "      <th>1</th>\n",
       "      <th>2</th>\n",
       "      <th>3</th>\n",
       "      <th>4</th>\n",
       "      <th>7</th>\n",
       "      <th>8</th>\n",
       "    </tr>\n",
       "    <tr>\n",
       "      <th>Title</th>\n",
       "      <th></th>\n",
       "      <th></th>\n",
       "      <th></th>\n",
       "      <th></th>\n",
       "      <th></th>\n",
       "      <th></th>\n",
       "    </tr>\n",
       "  </thead>\n",
       "  <tbody>\n",
       "    <tr>\n",
       "      <th>VP</th>\n",
       "      <td>-</td>\n",
       "      <td>-</td>\n",
       "      <td>-</td>\n",
       "      <td>-</td>\n",
       "      <td>-</td>\n",
       "      <td>70</td>\n",
       "    </tr>\n",
       "    <tr>\n",
       "      <th>analyst</th>\n",
       "      <td>35</td>\n",
       "      <td>30</td>\n",
       "      <td>-</td>\n",
       "      <td>35</td>\n",
       "      <td>-</td>\n",
       "      <td>-</td>\n",
       "    </tr>\n",
       "    <tr>\n",
       "      <th>associate</th>\n",
       "      <td>-</td>\n",
       "      <td>55</td>\n",
       "      <td>55</td>\n",
       "      <td>-</td>\n",
       "      <td>60</td>\n",
       "      <td>-</td>\n",
       "    </tr>\n",
       "  </tbody>\n",
       "</table>\n",
       "</div>"
      ],
      "text/plain": [
       "Years       1   2   3   4   7   8\n",
       "Title                            \n",
       "VP          -   -   -   -   -  70\n",
       "analyst    35  30   -  35   -   -\n",
       "associate   -  55  55   -  60   -"
      ]
     },
     "execution_count": 6,
     "metadata": {},
     "output_type": "execute_result"
    }
   ],
   "source": [
    "# your answer here\n",
    "\n",
    "employee.pivot_table(index=[\"Title\"], columns = 'Years', values = 'Salary', fill_value = '-')"
   ]
  },
  {
   "cell_type": "markdown",
   "metadata": {},
   "source": [
    "#### We want to know the information about the mean salary and number of employees in each department and for each job title"
   ]
  },
  {
   "cell_type": "code",
   "execution_count": 7,
   "metadata": {},
   "outputs": [
    {
     "data": {
      "text/html": [
       "<div>\n",
       "<style scoped>\n",
       "    .dataframe tbody tr th:only-of-type {\n",
       "        vertical-align: middle;\n",
       "    }\n",
       "\n",
       "    .dataframe tbody tr th {\n",
       "        vertical-align: top;\n",
       "    }\n",
       "\n",
       "    .dataframe thead tr th {\n",
       "        text-align: left;\n",
       "    }\n",
       "\n",
       "    .dataframe thead tr:last-of-type th {\n",
       "        text-align: right;\n",
       "    }\n",
       "</style>\n",
       "<table border=\"1\" class=\"dataframe\">\n",
       "  <thead>\n",
       "    <tr>\n",
       "      <th></th>\n",
       "      <th></th>\n",
       "      <th>mean</th>\n",
       "      <th>len</th>\n",
       "    </tr>\n",
       "    <tr>\n",
       "      <th></th>\n",
       "      <th></th>\n",
       "      <th>Salary</th>\n",
       "      <th>Salary</th>\n",
       "    </tr>\n",
       "    <tr>\n",
       "      <th>Department</th>\n",
       "      <th>Title</th>\n",
       "      <th></th>\n",
       "      <th></th>\n",
       "    </tr>\n",
       "  </thead>\n",
       "  <tbody>\n",
       "    <tr>\n",
       "      <th rowspan=\"2\" valign=\"top\">HR</th>\n",
       "      <th>VP</th>\n",
       "      <td>70.000000</td>\n",
       "      <td>1</td>\n",
       "    </tr>\n",
       "    <tr>\n",
       "      <th>analyst</th>\n",
       "      <td>32.500000</td>\n",
       "      <td>2</td>\n",
       "    </tr>\n",
       "    <tr>\n",
       "      <th rowspan=\"3\" valign=\"top\">IT</th>\n",
       "      <th>VP</th>\n",
       "      <td>70.000000</td>\n",
       "      <td>1</td>\n",
       "    </tr>\n",
       "    <tr>\n",
       "      <th>analyst</th>\n",
       "      <td>32.500000</td>\n",
       "      <td>2</td>\n",
       "    </tr>\n",
       "    <tr>\n",
       "      <th>associate</th>\n",
       "      <td>60.000000</td>\n",
       "      <td>1</td>\n",
       "    </tr>\n",
       "    <tr>\n",
       "      <th>Sales</th>\n",
       "      <th>associate</th>\n",
       "      <td>55.000000</td>\n",
       "      <td>2</td>\n",
       "    </tr>\n",
       "    <tr>\n",
       "      <th>All</th>\n",
       "      <th></th>\n",
       "      <td>48.888889</td>\n",
       "      <td>9</td>\n",
       "    </tr>\n",
       "  </tbody>\n",
       "</table>\n",
       "</div>"
      ],
      "text/plain": [
       "                           mean    len\n",
       "                         Salary Salary\n",
       "Department Title                      \n",
       "HR         VP         70.000000      1\n",
       "           analyst    32.500000      2\n",
       "IT         VP         70.000000      1\n",
       "           analyst    32.500000      2\n",
       "           associate  60.000000      1\n",
       "Sales      associate  55.000000      2\n",
       "All                   48.888889      9"
      ]
     },
     "execution_count": 7,
     "metadata": {},
     "output_type": "execute_result"
    }
   ],
   "source": [
    "employee.pivot_table(index = [\"Department\",'Title'], values = [\"Salary\"], aggfunc=[np.mean,len], margins=True)\n",
    "\n",
    "\n"
   ]
  },
  {
   "cell_type": "markdown",
   "metadata": {},
   "source": [
    "#### We want to know for each department and for each job title the Salary's median,minimum,maximum and standard deviation. Comment your results"
   ]
  },
  {
   "cell_type": "code",
   "execution_count": 8,
   "metadata": {},
   "outputs": [
    {
     "data": {
      "text/html": [
       "<div>\n",
       "<style scoped>\n",
       "    .dataframe tbody tr th:only-of-type {\n",
       "        vertical-align: middle;\n",
       "    }\n",
       "\n",
       "    .dataframe tbody tr th {\n",
       "        vertical-align: top;\n",
       "    }\n",
       "\n",
       "    .dataframe thead tr th {\n",
       "        text-align: left;\n",
       "    }\n",
       "\n",
       "    .dataframe thead tr:last-of-type th {\n",
       "        text-align: right;\n",
       "    }\n",
       "</style>\n",
       "<table border=\"1\" class=\"dataframe\">\n",
       "  <thead>\n",
       "    <tr>\n",
       "      <th></th>\n",
       "      <th></th>\n",
       "      <th colspan=\"5\" halign=\"left\">Salary</th>\n",
       "    </tr>\n",
       "    <tr>\n",
       "      <th></th>\n",
       "      <th></th>\n",
       "      <th>max</th>\n",
       "      <th>mean</th>\n",
       "      <th>median</th>\n",
       "      <th>min</th>\n",
       "      <th>std</th>\n",
       "    </tr>\n",
       "    <tr>\n",
       "      <th>Department</th>\n",
       "      <th>Title</th>\n",
       "      <th></th>\n",
       "      <th></th>\n",
       "      <th></th>\n",
       "      <th></th>\n",
       "      <th></th>\n",
       "    </tr>\n",
       "  </thead>\n",
       "  <tbody>\n",
       "    <tr>\n",
       "      <th rowspan=\"2\" valign=\"top\">HR</th>\n",
       "      <th>VP</th>\n",
       "      <td>70.0</td>\n",
       "      <td>70.0</td>\n",
       "      <td>70.0</td>\n",
       "      <td>70.0</td>\n",
       "      <td>NaN</td>\n",
       "    </tr>\n",
       "    <tr>\n",
       "      <th>analyst</th>\n",
       "      <td>35.0</td>\n",
       "      <td>32.5</td>\n",
       "      <td>32.5</td>\n",
       "      <td>30.0</td>\n",
       "      <td>3.535534</td>\n",
       "    </tr>\n",
       "    <tr>\n",
       "      <th rowspan=\"3\" valign=\"top\">IT</th>\n",
       "      <th>VP</th>\n",
       "      <td>70.0</td>\n",
       "      <td>70.0</td>\n",
       "      <td>70.0</td>\n",
       "      <td>70.0</td>\n",
       "      <td>NaN</td>\n",
       "    </tr>\n",
       "    <tr>\n",
       "      <th>analyst</th>\n",
       "      <td>35.0</td>\n",
       "      <td>32.5</td>\n",
       "      <td>32.5</td>\n",
       "      <td>30.0</td>\n",
       "      <td>3.535534</td>\n",
       "    </tr>\n",
       "    <tr>\n",
       "      <th>associate</th>\n",
       "      <td>60.0</td>\n",
       "      <td>60.0</td>\n",
       "      <td>60.0</td>\n",
       "      <td>60.0</td>\n",
       "      <td>NaN</td>\n",
       "    </tr>\n",
       "    <tr>\n",
       "      <th>Sales</th>\n",
       "      <th>associate</th>\n",
       "      <td>55.0</td>\n",
       "      <td>55.0</td>\n",
       "      <td>55.0</td>\n",
       "      <td>55.0</td>\n",
       "      <td>0.000000</td>\n",
       "    </tr>\n",
       "  </tbody>\n",
       "</table>\n",
       "</div>"
      ],
      "text/plain": [
       "                     Salary                             \n",
       "                        max  mean median   min       std\n",
       "Department Title                                        \n",
       "HR         VP          70.0  70.0   70.0  70.0       NaN\n",
       "           analyst     35.0  32.5   32.5  30.0  3.535534\n",
       "IT         VP          70.0  70.0   70.0  70.0       NaN\n",
       "           analyst     35.0  32.5   32.5  30.0  3.535534\n",
       "           associate   60.0  60.0   60.0  60.0       NaN\n",
       "Sales      associate   55.0  55.0   55.0  55.0  0.000000"
      ]
     },
     "execution_count": 8,
     "metadata": {},
     "output_type": "execute_result"
    }
   ],
   "source": [
    "# # your answer here\n",
    "\n",
    "#There are NaNs in standard deviation because there is only one employee for that given title and department\n",
    "#Analysts' salaries are the same across IT and HR (30 and 35)\n",
    "#Both sales associates make the same Salary. \n",
    "\n",
    "employee.pivot_table(index = [\"Department\",'Title'], values = [\"Salary\"], \n",
    "                     aggfunc=(np.mean, min, max, np.std, np.median))\n"
   ]
  },
  {
   "cell_type": "markdown",
   "metadata": {},
   "source": [
    "#### Based on your comments, fill the missing values with an appropriate value"
   ]
  },
  {
   "cell_type": "code",
   "execution_count": 9,
   "metadata": {},
   "outputs": [
    {
     "data": {
      "text/html": [
       "<div>\n",
       "<style scoped>\n",
       "    .dataframe tbody tr th:only-of-type {\n",
       "        vertical-align: middle;\n",
       "    }\n",
       "\n",
       "    .dataframe tbody tr th {\n",
       "        vertical-align: top;\n",
       "    }\n",
       "\n",
       "    .dataframe thead tr th {\n",
       "        text-align: left;\n",
       "    }\n",
       "\n",
       "    .dataframe thead tr:last-of-type th {\n",
       "        text-align: right;\n",
       "    }\n",
       "</style>\n",
       "<table border=\"1\" class=\"dataframe\">\n",
       "  <thead>\n",
       "    <tr>\n",
       "      <th></th>\n",
       "      <th></th>\n",
       "      <th colspan=\"5\" halign=\"left\">Salary</th>\n",
       "    </tr>\n",
       "    <tr>\n",
       "      <th></th>\n",
       "      <th></th>\n",
       "      <th>max</th>\n",
       "      <th>mean</th>\n",
       "      <th>median</th>\n",
       "      <th>min</th>\n",
       "      <th>std</th>\n",
       "    </tr>\n",
       "    <tr>\n",
       "      <th>Department</th>\n",
       "      <th>Title</th>\n",
       "      <th></th>\n",
       "      <th></th>\n",
       "      <th></th>\n",
       "      <th></th>\n",
       "      <th></th>\n",
       "    </tr>\n",
       "  </thead>\n",
       "  <tbody>\n",
       "    <tr>\n",
       "      <th rowspan=\"2\" valign=\"top\">HR</th>\n",
       "      <th>VP</th>\n",
       "      <td>70.0</td>\n",
       "      <td>70.0</td>\n",
       "      <td>70.0</td>\n",
       "      <td>70.0</td>\n",
       "      <td>-</td>\n",
       "    </tr>\n",
       "    <tr>\n",
       "      <th>analyst</th>\n",
       "      <td>35.0</td>\n",
       "      <td>32.5</td>\n",
       "      <td>32.5</td>\n",
       "      <td>30.0</td>\n",
       "      <td>3.53553</td>\n",
       "    </tr>\n",
       "    <tr>\n",
       "      <th rowspan=\"3\" valign=\"top\">IT</th>\n",
       "      <th>VP</th>\n",
       "      <td>70.0</td>\n",
       "      <td>70.0</td>\n",
       "      <td>70.0</td>\n",
       "      <td>70.0</td>\n",
       "      <td>-</td>\n",
       "    </tr>\n",
       "    <tr>\n",
       "      <th>analyst</th>\n",
       "      <td>35.0</td>\n",
       "      <td>32.5</td>\n",
       "      <td>32.5</td>\n",
       "      <td>30.0</td>\n",
       "      <td>3.53553</td>\n",
       "    </tr>\n",
       "    <tr>\n",
       "      <th>associate</th>\n",
       "      <td>60.0</td>\n",
       "      <td>60.0</td>\n",
       "      <td>60.0</td>\n",
       "      <td>60.0</td>\n",
       "      <td>-</td>\n",
       "    </tr>\n",
       "    <tr>\n",
       "      <th>Sales</th>\n",
       "      <th>associate</th>\n",
       "      <td>55.0</td>\n",
       "      <td>55.0</td>\n",
       "      <td>55.0</td>\n",
       "      <td>55.0</td>\n",
       "      <td>0</td>\n",
       "    </tr>\n",
       "  </tbody>\n",
       "</table>\n",
       "</div>"
      ],
      "text/plain": [
       "                     Salary                            \n",
       "                        max  mean median   min      std\n",
       "Department Title                                       \n",
       "HR         VP          70.0  70.0   70.0  70.0        -\n",
       "           analyst     35.0  32.5   32.5  30.0  3.53553\n",
       "IT         VP          70.0  70.0   70.0  70.0        -\n",
       "           analyst     35.0  32.5   32.5  30.0  3.53553\n",
       "           associate   60.0  60.0   60.0  60.0        -\n",
       "Sales      associate   55.0  55.0   55.0  55.0        0"
      ]
     },
     "execution_count": 9,
     "metadata": {},
     "output_type": "execute_result"
    }
   ],
   "source": [
    "# your answer here\n",
    "employee.pivot_table(index = [\"Department\",'Title'], values = [\"Salary\"], fill_value = '-',\n",
    "                     aggfunc=(np.mean, min, max, np.std, np.median))"
   ]
  },
  {
   "cell_type": "markdown",
   "metadata": {},
   "source": [
    "#### The stake holders want to know for each department the number of employees and how much money is spend on salaries. Could you provide that information? "
   ]
  },
  {
   "cell_type": "code",
   "execution_count": 10,
   "metadata": {},
   "outputs": [
    {
     "data": {
      "text/html": [
       "<div>\n",
       "<style scoped>\n",
       "    .dataframe tbody tr th:only-of-type {\n",
       "        vertical-align: middle;\n",
       "    }\n",
       "\n",
       "    .dataframe tbody tr th {\n",
       "        vertical-align: top;\n",
       "    }\n",
       "\n",
       "    .dataframe thead th {\n",
       "        text-align: right;\n",
       "    }\n",
       "</style>\n",
       "<table border=\"1\" class=\"dataframe\">\n",
       "  <thead>\n",
       "    <tr style=\"text-align: right;\">\n",
       "      <th></th>\n",
       "      <th>Salary</th>\n",
       "      <th>#Employees</th>\n",
       "    </tr>\n",
       "    <tr>\n",
       "      <th>Department</th>\n",
       "      <th></th>\n",
       "      <th></th>\n",
       "    </tr>\n",
       "  </thead>\n",
       "  <tbody>\n",
       "    <tr>\n",
       "      <th>HR</th>\n",
       "      <td>45.00</td>\n",
       "      <td>3</td>\n",
       "    </tr>\n",
       "    <tr>\n",
       "      <th>IT</th>\n",
       "      <td>48.75</td>\n",
       "      <td>4</td>\n",
       "    </tr>\n",
       "    <tr>\n",
       "      <th>Sales</th>\n",
       "      <td>55.00</td>\n",
       "      <td>2</td>\n",
       "    </tr>\n",
       "  </tbody>\n",
       "</table>\n",
       "</div>"
      ],
      "text/plain": [
       "            Salary  #Employees\n",
       "Department                    \n",
       "HR           45.00           3\n",
       "IT           48.75           4\n",
       "Sales        55.00           2"
      ]
     },
     "execution_count": 10,
     "metadata": {},
     "output_type": "execute_result"
    }
   ],
   "source": [
    "# your answer here\n",
    "\n",
    "x = employee.pivot_table(index = [\"Department\"], values = [\"Salary\", 'Name'], aggfunc=[np.mean,len])\n",
    " \n",
    "#Creating a DF out of the Pivot in order to tidy up the column name. Pivot tables aggfunc doesnt allow convenient calculation\n",
    "#as does groupby.agg\n",
    "\n",
    "x.columns = x.columns.droplevel()\n",
    "x2 = x.rename(columns={'Name':'#Employees'})\n",
    "x = x2.iloc[:,0:2]\n",
    "x\n"
   ]
  },
  {
   "cell_type": "markdown",
   "metadata": {},
   "source": [
    "#### For each Department and Title, we want to know the the total years of work experience and the mean salary"
   ]
  },
  {
   "cell_type": "code",
   "execution_count": 11,
   "metadata": {},
   "outputs": [
    {
     "data": {
      "text/html": [
       "<div>\n",
       "<style scoped>\n",
       "    .dataframe tbody tr th:only-of-type {\n",
       "        vertical-align: middle;\n",
       "    }\n",
       "\n",
       "    .dataframe tbody tr th {\n",
       "        vertical-align: top;\n",
       "    }\n",
       "\n",
       "    .dataframe thead th {\n",
       "        text-align: right;\n",
       "    }\n",
       "</style>\n",
       "<table border=\"1\" class=\"dataframe\">\n",
       "  <thead>\n",
       "    <tr style=\"text-align: right;\">\n",
       "      <th></th>\n",
       "      <th></th>\n",
       "      <th>Salary</th>\n",
       "      <th>Years</th>\n",
       "    </tr>\n",
       "    <tr>\n",
       "      <th>Department</th>\n",
       "      <th>Title</th>\n",
       "      <th></th>\n",
       "      <th></th>\n",
       "    </tr>\n",
       "  </thead>\n",
       "  <tbody>\n",
       "    <tr>\n",
       "      <th rowspan=\"2\" valign=\"top\">HR</th>\n",
       "      <th>VP</th>\n",
       "      <td>70.000000</td>\n",
       "      <td>8</td>\n",
       "    </tr>\n",
       "    <tr>\n",
       "      <th>analyst</th>\n",
       "      <td>32.500000</td>\n",
       "      <td>6</td>\n",
       "    </tr>\n",
       "    <tr>\n",
       "      <th rowspan=\"3\" valign=\"top\">IT</th>\n",
       "      <th>VP</th>\n",
       "      <td>70.000000</td>\n",
       "      <td>8</td>\n",
       "    </tr>\n",
       "    <tr>\n",
       "      <th>analyst</th>\n",
       "      <td>32.500000</td>\n",
       "      <td>3</td>\n",
       "    </tr>\n",
       "    <tr>\n",
       "      <th>associate</th>\n",
       "      <td>60.000000</td>\n",
       "      <td>7</td>\n",
       "    </tr>\n",
       "    <tr>\n",
       "      <th>Sales</th>\n",
       "      <th>associate</th>\n",
       "      <td>55.000000</td>\n",
       "      <td>5</td>\n",
       "    </tr>\n",
       "    <tr>\n",
       "      <th>All</th>\n",
       "      <th></th>\n",
       "      <td>48.888889</td>\n",
       "      <td>37</td>\n",
       "    </tr>\n",
       "  </tbody>\n",
       "</table>\n",
       "</div>"
      ],
      "text/plain": [
       "                         Salary  Years\n",
       "Department Title                      \n",
       "HR         VP         70.000000      8\n",
       "           analyst    32.500000      6\n",
       "IT         VP         70.000000      8\n",
       "           analyst    32.500000      3\n",
       "           associate  60.000000      7\n",
       "Sales      associate  55.000000      5\n",
       "All                   48.888889     37"
      ]
     },
     "execution_count": 11,
     "metadata": {},
     "output_type": "execute_result"
    }
   ],
   "source": [
    "# your answer here\n",
    "\n",
    "#Quick solution -- Make two pivots\n",
    "\n",
    "#Salary by department/title (MEAN)\n",
    "a = employee.pivot_table(index = [\"Department\", 'Title'], values = [\"Salary\"], margins=True)\n",
    "\n",
    "#No. Of Years (Total)\n",
    "b = employee.pivot_table(index = [\"Department\", 'Title'], values = [\"Years\"], aggfunc = [sum], margins=True)\n",
    "\n",
    "#One pivot followed by transformation into a DF to clean it up\n",
    "#Pivot creation\n",
    "tricky = employee.pivot_table(index = [\"Department\", 'Title'], values = [\"Salary\",'Years'], aggfunc = [np.mean, sum], margins=True)\n",
    "#DF creation\n",
    "trickyDF = tricky\n",
    "#get rid of multi level index - a side effect of pivot tables\n",
    "trickyDF.columns = trickyDF.columns.droplevel()\n",
    "\n",
    "#take the necessary columns, ignore salary sum and years mean, another side effect of pivot tables\n",
    "d1 = trickyDF.iloc[:,0]\n",
    "d2 = trickyDF.iloc[:,3]\n",
    "\n",
    "#concatenate the resulting iloc variables\n",
    "pd.concat([d1,d2], axis = 1)\n",
    "\n",
    "##Stack overflow method for dropping column with duplicate titles ---- What can I plug in for i to make this iloc work?\n",
    "#df = df.iloc[:, [j for j, c in enumerate(df.columns) if j != i]]"
   ]
  },
  {
   "cell_type": "markdown",
   "metadata": {},
   "source": [
    "#### Bonus\n",
    "\n",
    "#### We now want to compute the mean salary after removing the maxima for each Department. Create the appropriate pivot table\n",
    "\n",
    "#### * Hint: Write a custom function*"
   ]
  },
  {
   "cell_type": "code",
   "execution_count": null,
   "metadata": {},
   "outputs": [],
   "source": [
    "# your answer here--Your custom function here\n",
    "\n",
    "def maxima(dept):\n",
    "    maxi = dept - max(salary)"
   ]
  },
  {
   "cell_type": "code",
   "execution_count": null,
   "metadata": {},
   "outputs": [],
   "source": [
    "# your answer here"
   ]
  },
  {
   "cell_type": "markdown",
   "metadata": {},
   "source": [
    "# Challenge 2"
   ]
  },
  {
   "cell_type": "markdown",
   "metadata": {},
   "source": [
    "#### Open the ` Fitbit.csv` file and name your dataset `fitbit`"
   ]
  },
  {
   "cell_type": "code",
   "execution_count": 12,
   "metadata": {
    "scrolled": true
   },
   "outputs": [
    {
     "data": {
      "text/html": [
       "<div>\n",
       "<style scoped>\n",
       "    .dataframe tbody tr th:only-of-type {\n",
       "        vertical-align: middle;\n",
       "    }\n",
       "\n",
       "    .dataframe tbody tr th {\n",
       "        vertical-align: top;\n",
       "    }\n",
       "\n",
       "    .dataframe thead th {\n",
       "        text-align: right;\n",
       "    }\n",
       "</style>\n",
       "<table border=\"1\" class=\"dataframe\">\n",
       "  <thead>\n",
       "    <tr style=\"text-align: right;\">\n",
       "      <th></th>\n",
       "      <th>Date</th>\n",
       "      <th>Calorie burned</th>\n",
       "      <th>Steps</th>\n",
       "      <th>Distance</th>\n",
       "      <th>Floors</th>\n",
       "      <th>Minutes Sedentary</th>\n",
       "      <th>Minutes Lightly Active</th>\n",
       "      <th>Minutes Fairly Active</th>\n",
       "      <th>Minutes Very Active</th>\n",
       "      <th>Activity Calories</th>\n",
       "      <th>MinutesOfSleep</th>\n",
       "      <th>MinutesOfBeingAwake</th>\n",
       "      <th>NumberOfAwakings</th>\n",
       "      <th>LengthOfRestInMinutes</th>\n",
       "    </tr>\n",
       "  </thead>\n",
       "  <tbody>\n",
       "    <tr>\n",
       "      <th>0</th>\n",
       "      <td>08-05-2015</td>\n",
       "      <td>1934</td>\n",
       "      <td>905</td>\n",
       "      <td>0.65</td>\n",
       "      <td>0</td>\n",
       "      <td>1.355</td>\n",
       "      <td>46</td>\n",
       "      <td>0</td>\n",
       "      <td>0</td>\n",
       "      <td>1680</td>\n",
       "      <td>384</td>\n",
       "      <td>26</td>\n",
       "      <td>23</td>\n",
       "      <td>417</td>\n",
       "    </tr>\n",
       "    <tr>\n",
       "      <th>1</th>\n",
       "      <td>09-05-2015</td>\n",
       "      <td>3631</td>\n",
       "      <td>18925</td>\n",
       "      <td>14.11</td>\n",
       "      <td>4</td>\n",
       "      <td>611.000</td>\n",
       "      <td>316</td>\n",
       "      <td>61</td>\n",
       "      <td>60</td>\n",
       "      <td>2248</td>\n",
       "      <td>454</td>\n",
       "      <td>35</td>\n",
       "      <td>21</td>\n",
       "      <td>491</td>\n",
       "    </tr>\n",
       "    <tr>\n",
       "      <th>2</th>\n",
       "      <td>10-05-2015</td>\n",
       "      <td>3204</td>\n",
       "      <td>14228</td>\n",
       "      <td>10.57</td>\n",
       "      <td>1</td>\n",
       "      <td>602.000</td>\n",
       "      <td>226</td>\n",
       "      <td>14</td>\n",
       "      <td>77</td>\n",
       "      <td>1719</td>\n",
       "      <td>387</td>\n",
       "      <td>46</td>\n",
       "      <td>25</td>\n",
       "      <td>436</td>\n",
       "    </tr>\n",
       "  </tbody>\n",
       "</table>\n",
       "</div>"
      ],
      "text/plain": [
       "         Date  Calorie burned  Steps  Distance  Floors  Minutes Sedentary  \\\n",
       "0  08-05-2015            1934    905      0.65       0              1.355   \n",
       "1  09-05-2015            3631  18925     14.11       4            611.000   \n",
       "2  10-05-2015            3204  14228     10.57       1            602.000   \n",
       "\n",
       "   Minutes Lightly Active  Minutes Fairly Active  Minutes Very Active  \\\n",
       "0                      46                      0                    0   \n",
       "1                     316                     61                   60   \n",
       "2                     226                     14                   77   \n",
       "\n",
       "   Activity Calories  MinutesOfSleep  MinutesOfBeingAwake  NumberOfAwakings  \\\n",
       "0               1680             384                   26                23   \n",
       "1               2248             454                   35                21   \n",
       "2               1719             387                   46                25   \n",
       "\n",
       "   LengthOfRestInMinutes  \n",
       "0                    417  \n",
       "1                    491  \n",
       "2                    436  "
      ]
     },
     "execution_count": 12,
     "metadata": {},
     "output_type": "execute_result"
    }
   ],
   "source": [
    "# your answer here\n",
    "\n",
    "fitbit = pd.read_csv('fitbit.csv')\n",
    "fitbit.head(3)"
   ]
  },
  {
   "cell_type": "markdown",
   "metadata": {},
   "source": [
    "#### Explore you dataset in terms of data types and descriptive statistics\n",
    "#### *Hint: Use Pandas functions from previous lectures*"
   ]
  },
  {
   "cell_type": "code",
   "execution_count": 13,
   "metadata": {},
   "outputs": [
    {
     "data": {
      "text/plain": [
       "Date                       object\n",
       "Calorie burned              int64\n",
       "Steps                       int64\n",
       "Distance                  float64\n",
       "Floors                      int64\n",
       "Minutes Sedentary         float64\n",
       "Minutes Lightly Active      int64\n",
       "Minutes Fairly Active       int64\n",
       "Minutes Very Active         int64\n",
       "Activity Calories           int64\n",
       "MinutesOfSleep              int64\n",
       "MinutesOfBeingAwake         int64\n",
       "NumberOfAwakings            int64\n",
       "LengthOfRestInMinutes       int64\n",
       "dtype: object"
      ]
     },
     "execution_count": 13,
     "metadata": {},
     "output_type": "execute_result"
    }
   ],
   "source": [
    "# your answer here\n",
    "fitbit.dtypes"
   ]
  },
  {
   "cell_type": "code",
   "execution_count": 14,
   "metadata": {},
   "outputs": [
    {
     "data": {
      "text/html": [
       "<div>\n",
       "<style scoped>\n",
       "    .dataframe tbody tr th:only-of-type {\n",
       "        vertical-align: middle;\n",
       "    }\n",
       "\n",
       "    .dataframe tbody tr th {\n",
       "        vertical-align: top;\n",
       "    }\n",
       "\n",
       "    .dataframe thead th {\n",
       "        text-align: right;\n",
       "    }\n",
       "</style>\n",
       "<table border=\"1\" class=\"dataframe\">\n",
       "  <thead>\n",
       "    <tr style=\"text-align: right;\">\n",
       "      <th></th>\n",
       "      <th>Calorie burned</th>\n",
       "      <th>Steps</th>\n",
       "      <th>Distance</th>\n",
       "      <th>Floors</th>\n",
       "      <th>Minutes Sedentary</th>\n",
       "      <th>Minutes Lightly Active</th>\n",
       "      <th>Minutes Fairly Active</th>\n",
       "      <th>Minutes Very Active</th>\n",
       "      <th>Activity Calories</th>\n",
       "      <th>MinutesOfSleep</th>\n",
       "      <th>MinutesOfBeingAwake</th>\n",
       "      <th>NumberOfAwakings</th>\n",
       "      <th>LengthOfRestInMinutes</th>\n",
       "    </tr>\n",
       "  </thead>\n",
       "  <tbody>\n",
       "    <tr>\n",
       "      <th>count</th>\n",
       "      <td>367.000000</td>\n",
       "      <td>367.000000</td>\n",
       "      <td>367.000000</td>\n",
       "      <td>367.000000</td>\n",
       "      <td>367.000000</td>\n",
       "      <td>367.000000</td>\n",
       "      <td>367.000000</td>\n",
       "      <td>367.000000</td>\n",
       "      <td>367.000000</td>\n",
       "      <td>367.000000</td>\n",
       "      <td>367.000000</td>\n",
       "      <td>367.000000</td>\n",
       "      <td>367.000000</td>\n",
       "    </tr>\n",
       "    <tr>\n",
       "      <th>mean</th>\n",
       "      <td>2741.501362</td>\n",
       "      <td>10121.588556</td>\n",
       "      <td>8.549128</td>\n",
       "      <td>11.724796</td>\n",
       "      <td>563.934482</td>\n",
       "      <td>236.405995</td>\n",
       "      <td>26.163488</td>\n",
       "      <td>35.722071</td>\n",
       "      <td>2044.147139</td>\n",
       "      <td>290.479564</td>\n",
       "      <td>28.008174</td>\n",
       "      <td>16.196185</td>\n",
       "      <td>321.343324</td>\n",
       "    </tr>\n",
       "    <tr>\n",
       "      <th>std</th>\n",
       "      <td>916.307036</td>\n",
       "      <td>5594.836225</td>\n",
       "      <td>3.409881</td>\n",
       "      <td>10.337370</td>\n",
       "      <td>294.793145</td>\n",
       "      <td>86.531376</td>\n",
       "      <td>20.319456</td>\n",
       "      <td>31.006682</td>\n",
       "      <td>2041.267168</td>\n",
       "      <td>154.752328</td>\n",
       "      <td>18.541415</td>\n",
       "      <td>10.757622</td>\n",
       "      <td>170.786726</td>\n",
       "    </tr>\n",
       "    <tr>\n",
       "      <th>min</th>\n",
       "      <td>179.000000</td>\n",
       "      <td>0.000000</td>\n",
       "      <td>0.000000</td>\n",
       "      <td>0.000000</td>\n",
       "      <td>1.002000</td>\n",
       "      <td>0.000000</td>\n",
       "      <td>0.000000</td>\n",
       "      <td>0.000000</td>\n",
       "      <td>0.000000</td>\n",
       "      <td>0.000000</td>\n",
       "      <td>0.000000</td>\n",
       "      <td>0.000000</td>\n",
       "      <td>0.000000</td>\n",
       "    </tr>\n",
       "    <tr>\n",
       "      <th>25%</th>\n",
       "      <td>2698.000000</td>\n",
       "      <td>6730.500000</td>\n",
       "      <td>6.155000</td>\n",
       "      <td>5.000000</td>\n",
       "      <td>520.000000</td>\n",
       "      <td>179.000000</td>\n",
       "      <td>8.000000</td>\n",
       "      <td>10.500000</td>\n",
       "      <td>1218.500000</td>\n",
       "      <td>224.000000</td>\n",
       "      <td>14.000000</td>\n",
       "      <td>7.000000</td>\n",
       "      <td>248.000000</td>\n",
       "    </tr>\n",
       "    <tr>\n",
       "      <th>50%</th>\n",
       "      <td>2974.000000</td>\n",
       "      <td>10413.000000</td>\n",
       "      <td>8.290000</td>\n",
       "      <td>11.000000</td>\n",
       "      <td>663.000000</td>\n",
       "      <td>226.000000</td>\n",
       "      <td>24.000000</td>\n",
       "      <td>29.000000</td>\n",
       "      <td>1553.000000</td>\n",
       "      <td>337.000000</td>\n",
       "      <td>29.000000</td>\n",
       "      <td>16.000000</td>\n",
       "      <td>370.000000</td>\n",
       "    </tr>\n",
       "    <tr>\n",
       "      <th>75%</th>\n",
       "      <td>3233.000000</td>\n",
       "      <td>13916.500000</td>\n",
       "      <td>10.560000</td>\n",
       "      <td>16.000000</td>\n",
       "      <td>756.500000</td>\n",
       "      <td>290.000000</td>\n",
       "      <td>41.500000</td>\n",
       "      <td>54.000000</td>\n",
       "      <td>1927.500000</td>\n",
       "      <td>400.500000</td>\n",
       "      <td>41.500000</td>\n",
       "      <td>24.000000</td>\n",
       "      <td>440.500000</td>\n",
       "    </tr>\n",
       "    <tr>\n",
       "      <th>max</th>\n",
       "      <td>4351.000000</td>\n",
       "      <td>26444.000000</td>\n",
       "      <td>20.450000</td>\n",
       "      <td>101.000000</td>\n",
       "      <td>998.000000</td>\n",
       "      <td>472.000000</td>\n",
       "      <td>101.000000</td>\n",
       "      <td>153.000000</td>\n",
       "      <td>9830.000000</td>\n",
       "      <td>553.000000</td>\n",
       "      <td>78.000000</td>\n",
       "      <td>45.000000</td>\n",
       "      <td>607.000000</td>\n",
       "    </tr>\n",
       "  </tbody>\n",
       "</table>\n",
       "</div>"
      ],
      "text/plain": [
       "       Calorie burned         Steps    Distance      Floors  \\\n",
       "count      367.000000    367.000000  367.000000  367.000000   \n",
       "mean      2741.501362  10121.588556    8.549128   11.724796   \n",
       "std        916.307036   5594.836225    3.409881   10.337370   \n",
       "min        179.000000      0.000000    0.000000    0.000000   \n",
       "25%       2698.000000   6730.500000    6.155000    5.000000   \n",
       "50%       2974.000000  10413.000000    8.290000   11.000000   \n",
       "75%       3233.000000  13916.500000   10.560000   16.000000   \n",
       "max       4351.000000  26444.000000   20.450000  101.000000   \n",
       "\n",
       "       Minutes Sedentary  Minutes Lightly Active  Minutes Fairly Active  \\\n",
       "count         367.000000              367.000000             367.000000   \n",
       "mean          563.934482              236.405995              26.163488   \n",
       "std           294.793145               86.531376              20.319456   \n",
       "min             1.002000                0.000000               0.000000   \n",
       "25%           520.000000              179.000000               8.000000   \n",
       "50%           663.000000              226.000000              24.000000   \n",
       "75%           756.500000              290.000000              41.500000   \n",
       "max           998.000000              472.000000             101.000000   \n",
       "\n",
       "       Minutes Very Active  Activity Calories  MinutesOfSleep  \\\n",
       "count           367.000000         367.000000      367.000000   \n",
       "mean             35.722071        2044.147139      290.479564   \n",
       "std              31.006682        2041.267168      154.752328   \n",
       "min               0.000000           0.000000        0.000000   \n",
       "25%              10.500000        1218.500000      224.000000   \n",
       "50%              29.000000        1553.000000      337.000000   \n",
       "75%              54.000000        1927.500000      400.500000   \n",
       "max             153.000000        9830.000000      553.000000   \n",
       "\n",
       "       MinutesOfBeingAwake  NumberOfAwakings  LengthOfRestInMinutes  \n",
       "count           367.000000        367.000000             367.000000  \n",
       "mean             28.008174         16.196185             321.343324  \n",
       "std              18.541415         10.757622             170.786726  \n",
       "min               0.000000          0.000000               0.000000  \n",
       "25%              14.000000          7.000000             248.000000  \n",
       "50%              29.000000         16.000000             370.000000  \n",
       "75%              41.500000         24.000000             440.500000  \n",
       "max              78.000000         45.000000             607.000000  "
      ]
     },
     "execution_count": 14,
     "metadata": {},
     "output_type": "execute_result"
    }
   ],
   "source": [
    "# your answer here\n",
    "fitbit.describe()"
   ]
  },
  {
   "cell_type": "markdown",
   "metadata": {},
   "source": [
    "#### You suspect that there must be a linear relationship between the Minutes Very Active and the Steps. Compute the correlation between these variables."
   ]
  },
  {
   "cell_type": "code",
   "execution_count": null,
   "metadata": {},
   "outputs": [],
   "source": [
    "# plt.style.use('dark_background')\n",
    "# sns.set_style('whitegrid')\n",
    "# plt.rcParams['figure.figsize'] = (6, 3)"
   ]
  },
  {
   "cell_type": "code",
   "execution_count": 15,
   "metadata": {},
   "outputs": [
    {
     "data": {
      "text/plain": [
       "Text(0.5, 1.0, 'Activity vs. Steps')"
      ]
     },
     "execution_count": 15,
     "metadata": {},
     "output_type": "execute_result"
    },
    {
     "data": {
      "image/png": "[encoded data removed]",
      "text/plain": [
       "<Figure size 432x288 with 1 Axes>"
      ]
     },
     "metadata": {
      "needs_background": "light"
     },
     "output_type": "display_data"
    }
   ],
   "source": [
    "# your answer here\n",
    "\n",
    "\n",
    "x = pd.cut(fitbit['Minutes Very Active'], bins=5)\n",
    "y = fitbit['Steps']\n",
    "vactive = sns.barplot(x,y)\n",
    "vactive.set_xticklabels(vactive.get_xticklabels(),rotation=90)\n",
    "vactive.set_title  ('Activity vs. Steps')\n",
    "\n",
    "\n",
    "\n"
   ]
  },
  {
   "cell_type": "markdown",
   "metadata": {},
   "source": [
    "#### Use matplotlib to visually plot Minutes Very active vs Steps. \n",
    "\n",
    "##### Hint : import matplotlib.pyplot as plt (See previous lessons)#####\n",
    "- Use plt.scatter(x=df['col_name_1'], y=df['col_name_2'])"
   ]
  },
  {
   "cell_type": "code",
   "execution_count": 16,
   "metadata": {},
   "outputs": [
    {
     "data": {
      "text/plain": [
       "Text(0.5, 1.0, 'Activity impact')"
      ]
     },
     "execution_count": 16,
     "metadata": {},
     "output_type": "execute_result"
    },
    {
     "data": {
      "image/png": "[encoded data removed]",
      "text/plain": [
       "<Figure size 432x288 with 1 Axes>"
      ]
     },
     "metadata": {
      "needs_background": "light"
     },
     "output_type": "display_data"
    }
   ],
   "source": [
    "# your answer here\n",
    "\n",
    "plt.scatter(x=fitbit['Minutes Very Active'], y=fitbit['Steps'])\n",
    "plt.xlabel('Very active mins')\n",
    "plt.ylabel('Steps')\n",
    "plt.title('Activity impact')\n",
    "\n"
   ]
  },
  {
   "cell_type": "markdown",
   "metadata": {},
   "source": [
    "#### What can you say about Minute Very Active and Steps? Write a comment below"
   ]
  },
  {
   "cell_type": "code",
   "execution_count": null,
   "metadata": {},
   "outputs": [],
   "source": [
    "# Your comment here"
   ]
  },
  {
   "cell_type": "code",
   "execution_count": 30,
   "metadata": {},
   "outputs": [
    {
     "data": {
      "text/plain": [
       "0.5714518481062608"
      ]
     },
     "execution_count": 30,
     "metadata": {},
     "output_type": "execute_result"
    }
   ],
   "source": [
    "# your comment here\n",
    "corr = pearsonr(fitbit['Minutes Very Active'], fitbit['Steps'])\n",
    "corr[0]\n",
    "#There is a healthy correlation between them (0.57). Higher activity yields a higher step count."
   ]
  },
  {
   "cell_type": "markdown",
   "metadata": {},
   "source": [
    "#### We also suspect that there must be a linear relationship between the Minutes Sedentary and the Steps. Compute the correlation between these variables."
   ]
  },
  {
   "cell_type": "code",
   "execution_count": 28,
   "metadata": {},
   "outputs": [
    {
     "data": {
      "text/html": [
       "<div>\n",
       "<style scoped>\n",
       "    .dataframe tbody tr th:only-of-type {\n",
       "        vertical-align: middle;\n",
       "    }\n",
       "\n",
       "    .dataframe tbody tr th {\n",
       "        vertical-align: top;\n",
       "    }\n",
       "\n",
       "    .dataframe thead th {\n",
       "        text-align: right;\n",
       "    }\n",
       "</style>\n",
       "<table border=\"1\" class=\"dataframe\">\n",
       "  <thead>\n",
       "    <tr style=\"text-align: right;\">\n",
       "      <th></th>\n",
       "      <th>Calorie burned</th>\n",
       "      <th>Steps</th>\n",
       "      <th>Distance</th>\n",
       "      <th>Floors</th>\n",
       "      <th>Minutes Sedentary</th>\n",
       "      <th>Minutes Lightly Active</th>\n",
       "      <th>Minutes Fairly Active</th>\n",
       "      <th>Minutes Very Active</th>\n",
       "      <th>Activity Calories</th>\n",
       "      <th>MinutesOfSleep</th>\n",
       "      <th>MinutesOfBeingAwake</th>\n",
       "      <th>NumberOfAwakings</th>\n",
       "      <th>LengthOfRestInMinutes</th>\n",
       "    </tr>\n",
       "  </thead>\n",
       "  <tbody>\n",
       "    <tr>\n",
       "      <th>Calorie burned</th>\n",
       "      <td>1.000000</td>\n",
       "      <td>0.255305</td>\n",
       "      <td>0.292790</td>\n",
       "      <td>0.130757</td>\n",
       "      <td>0.125353</td>\n",
       "      <td>0.209540</td>\n",
       "      <td>0.188256</td>\n",
       "      <td>0.197881</td>\n",
       "      <td>-0.130758</td>\n",
       "      <td>0.011485</td>\n",
       "      <td>0.041999</td>\n",
       "      <td>0.030490</td>\n",
       "      <td>0.017460</td>\n",
       "    </tr>\n",
       "    <tr>\n",
       "      <th>Steps</th>\n",
       "      <td>0.255305</td>\n",
       "      <td>1.000000</td>\n",
       "      <td>0.779678</td>\n",
       "      <td>0.306511</td>\n",
       "      <td>0.076906</td>\n",
       "      <td>0.393010</td>\n",
       "      <td>0.303244</td>\n",
       "      <td>0.571452</td>\n",
       "      <td>-0.160568</td>\n",
       "      <td>0.130986</td>\n",
       "      <td>0.124846</td>\n",
       "      <td>0.106591</td>\n",
       "      <td>0.133405</td>\n",
       "    </tr>\n",
       "    <tr>\n",
       "      <th>Distance</th>\n",
       "      <td>0.292790</td>\n",
       "      <td>0.779678</td>\n",
       "      <td>1.000000</td>\n",
       "      <td>0.382940</td>\n",
       "      <td>0.160632</td>\n",
       "      <td>0.455272</td>\n",
       "      <td>0.348113</td>\n",
       "      <td>0.759310</td>\n",
       "      <td>-0.246853</td>\n",
       "      <td>0.129442</td>\n",
       "      <td>0.130447</td>\n",
       "      <td>0.091095</td>\n",
       "      <td>0.134550</td>\n",
       "    </tr>\n",
       "    <tr>\n",
       "      <th>Floors</th>\n",
       "      <td>0.130757</td>\n",
       "      <td>0.306511</td>\n",
       "      <td>0.382940</td>\n",
       "      <td>1.000000</td>\n",
       "      <td>0.057812</td>\n",
       "      <td>-0.085992</td>\n",
       "      <td>0.278408</td>\n",
       "      <td>0.399503</td>\n",
       "      <td>-0.155532</td>\n",
       "      <td>0.069464</td>\n",
       "      <td>0.064587</td>\n",
       "      <td>0.043459</td>\n",
       "      <td>0.075864</td>\n",
       "    </tr>\n",
       "    <tr>\n",
       "      <th>Minutes Sedentary</th>\n",
       "      <td>0.125353</td>\n",
       "      <td>0.076906</td>\n",
       "      <td>0.160632</td>\n",
       "      <td>0.057812</td>\n",
       "      <td>1.000000</td>\n",
       "      <td>0.217021</td>\n",
       "      <td>0.084137</td>\n",
       "      <td>0.105963</td>\n",
       "      <td>-0.161446</td>\n",
       "      <td>0.204242</td>\n",
       "      <td>0.200589</td>\n",
       "      <td>0.178387</td>\n",
       "      <td>0.208539</td>\n",
       "    </tr>\n",
       "    <tr>\n",
       "      <th>Minutes Lightly Active</th>\n",
       "      <td>0.209540</td>\n",
       "      <td>0.393010</td>\n",
       "      <td>0.455272</td>\n",
       "      <td>-0.085992</td>\n",
       "      <td>0.217021</td>\n",
       "      <td>1.000000</td>\n",
       "      <td>0.014288</td>\n",
       "      <td>-0.034425</td>\n",
       "      <td>-0.219892</td>\n",
       "      <td>0.105048</td>\n",
       "      <td>0.096107</td>\n",
       "      <td>0.087150</td>\n",
       "      <td>0.105406</td>\n",
       "    </tr>\n",
       "    <tr>\n",
       "      <th>Minutes Fairly Active</th>\n",
       "      <td>0.188256</td>\n",
       "      <td>0.303244</td>\n",
       "      <td>0.348113</td>\n",
       "      <td>0.278408</td>\n",
       "      <td>0.084137</td>\n",
       "      <td>0.014288</td>\n",
       "      <td>1.000000</td>\n",
       "      <td>0.337839</td>\n",
       "      <td>-0.204562</td>\n",
       "      <td>0.114950</td>\n",
       "      <td>0.104303</td>\n",
       "      <td>0.100498</td>\n",
       "      <td>0.123034</td>\n",
       "    </tr>\n",
       "    <tr>\n",
       "      <th>Minutes Very Active</th>\n",
       "      <td>0.197881</td>\n",
       "      <td>0.571452</td>\n",
       "      <td>0.759310</td>\n",
       "      <td>0.399503</td>\n",
       "      <td>0.105963</td>\n",
       "      <td>-0.034425</td>\n",
       "      <td>0.337839</td>\n",
       "      <td>1.000000</td>\n",
       "      <td>-0.187309</td>\n",
       "      <td>0.108018</td>\n",
       "      <td>0.116559</td>\n",
       "      <td>0.099859</td>\n",
       "      <td>0.115641</td>\n",
       "    </tr>\n",
       "    <tr>\n",
       "      <th>Activity Calories</th>\n",
       "      <td>-0.130758</td>\n",
       "      <td>-0.160568</td>\n",
       "      <td>-0.246853</td>\n",
       "      <td>-0.155532</td>\n",
       "      <td>-0.161446</td>\n",
       "      <td>-0.219892</td>\n",
       "      <td>-0.204562</td>\n",
       "      <td>-0.187309</td>\n",
       "      <td>1.000000</td>\n",
       "      <td>-0.005804</td>\n",
       "      <td>0.010859</td>\n",
       "      <td>0.022757</td>\n",
       "      <td>-0.004992</td>\n",
       "    </tr>\n",
       "    <tr>\n",
       "      <th>MinutesOfSleep</th>\n",
       "      <td>0.011485</td>\n",
       "      <td>0.130986</td>\n",
       "      <td>0.129442</td>\n",
       "      <td>0.069464</td>\n",
       "      <td>0.204242</td>\n",
       "      <td>0.105048</td>\n",
       "      <td>0.114950</td>\n",
       "      <td>0.108018</td>\n",
       "      <td>-0.005804</td>\n",
       "      <td>1.000000</td>\n",
       "      <td>0.779595</td>\n",
       "      <td>0.780512</td>\n",
       "      <td>0.997184</td>\n",
       "    </tr>\n",
       "    <tr>\n",
       "      <th>MinutesOfBeingAwake</th>\n",
       "      <td>0.041999</td>\n",
       "      <td>0.124846</td>\n",
       "      <td>0.130447</td>\n",
       "      <td>0.064587</td>\n",
       "      <td>0.200589</td>\n",
       "      <td>0.096107</td>\n",
       "      <td>0.104303</td>\n",
       "      <td>0.116559</td>\n",
       "      <td>0.010859</td>\n",
       "      <td>0.779595</td>\n",
       "      <td>1.000000</td>\n",
       "      <td>0.951817</td>\n",
       "      <td>0.820110</td>\n",
       "    </tr>\n",
       "    <tr>\n",
       "      <th>NumberOfAwakings</th>\n",
       "      <td>0.030490</td>\n",
       "      <td>0.106591</td>\n",
       "      <td>0.091095</td>\n",
       "      <td>0.043459</td>\n",
       "      <td>0.178387</td>\n",
       "      <td>0.087150</td>\n",
       "      <td>0.100498</td>\n",
       "      <td>0.099859</td>\n",
       "      <td>0.022757</td>\n",
       "      <td>0.780512</td>\n",
       "      <td>0.951817</td>\n",
       "      <td>1.000000</td>\n",
       "      <td>0.817326</td>\n",
       "    </tr>\n",
       "    <tr>\n",
       "      <th>LengthOfRestInMinutes</th>\n",
       "      <td>0.017460</td>\n",
       "      <td>0.133405</td>\n",
       "      <td>0.134550</td>\n",
       "      <td>0.075864</td>\n",
       "      <td>0.208539</td>\n",
       "      <td>0.105406</td>\n",
       "      <td>0.123034</td>\n",
       "      <td>0.115641</td>\n",
       "      <td>-0.004992</td>\n",
       "      <td>0.997184</td>\n",
       "      <td>0.820110</td>\n",
       "      <td>0.817326</td>\n",
       "      <td>1.000000</td>\n",
       "    </tr>\n",
       "  </tbody>\n",
       "</table>\n",
       "</div>"
      ],
      "text/plain": [
       "                        Calorie burned     Steps  Distance    Floors  \\\n",
       "Calorie burned                1.000000  0.255305  0.292790  0.130757   \n",
       "Steps                         0.255305  1.000000  0.779678  0.306511   \n",
       "Distance                      0.292790  0.779678  1.000000  0.382940   \n",
       "Floors                        0.130757  0.306511  0.382940  1.000000   \n",
       "Minutes Sedentary             0.125353  0.076906  0.160632  0.057812   \n",
       "Minutes Lightly Active        0.209540  0.393010  0.455272 -0.085992   \n",
       "Minutes Fairly Active         0.188256  0.303244  0.348113  0.278408   \n",
       "Minutes Very Active           0.197881  0.571452  0.759310  0.399503   \n",
       "Activity Calories            -0.130758 -0.160568 -0.246853 -0.155532   \n",
       "MinutesOfSleep                0.011485  0.130986  0.129442  0.069464   \n",
       "MinutesOfBeingAwake           0.041999  0.124846  0.130447  0.064587   \n",
       "NumberOfAwakings              0.030490  0.106591  0.091095  0.043459   \n",
       "LengthOfRestInMinutes         0.017460  0.133405  0.134550  0.075864   \n",
       "\n",
       "                        Minutes Sedentary  Minutes Lightly Active  \\\n",
       "Calorie burned                   0.125353                0.209540   \n",
       "Steps                            0.076906                0.393010   \n",
       "Distance                         0.160632                0.455272   \n",
       "Floors                           0.057812               -0.085992   \n",
       "Minutes Sedentary                1.000000                0.217021   \n",
       "Minutes Lightly Active           0.217021                1.000000   \n",
       "Minutes Fairly Active            0.084137                0.014288   \n",
       "Minutes Very Active              0.105963               -0.034425   \n",
       "Activity Calories               -0.161446               -0.219892   \n",
       "MinutesOfSleep                   0.204242                0.105048   \n",
       "MinutesOfBeingAwake              0.200589                0.096107   \n",
       "NumberOfAwakings                 0.178387                0.087150   \n",
       "LengthOfRestInMinutes            0.208539                0.105406   \n",
       "\n",
       "                        Minutes Fairly Active  Minutes Very Active  \\\n",
       "Calorie burned                       0.188256             0.197881   \n",
       "Steps                                0.303244             0.571452   \n",
       "Distance                             0.348113             0.759310   \n",
       "Floors                               0.278408             0.399503   \n",
       "Minutes Sedentary                    0.084137             0.105963   \n",
       "Minutes Lightly Active               0.014288            -0.034425   \n",
       "Minutes Fairly Active                1.000000             0.337839   \n",
       "Minutes Very Active                  0.337839             1.000000   \n",
       "Activity Calories                   -0.204562            -0.187309   \n",
       "MinutesOfSleep                       0.114950             0.108018   \n",
       "MinutesOfBeingAwake                  0.104303             0.116559   \n",
       "NumberOfAwakings                     0.100498             0.099859   \n",
       "LengthOfRestInMinutes                0.123034             0.115641   \n",
       "\n",
       "                        Activity Calories  MinutesOfSleep  \\\n",
       "Calorie burned                  -0.130758        0.011485   \n",
       "Steps                           -0.160568        0.130986   \n",
       "Distance                        -0.246853        0.129442   \n",
       "Floors                          -0.155532        0.069464   \n",
       "Minutes Sedentary               -0.161446        0.204242   \n",
       "Minutes Lightly Active          -0.219892        0.105048   \n",
       "Minutes Fairly Active           -0.204562        0.114950   \n",
       "Minutes Very Active             -0.187309        0.108018   \n",
       "Activity Calories                1.000000       -0.005804   \n",
       "MinutesOfSleep                  -0.005804        1.000000   \n",
       "MinutesOfBeingAwake              0.010859        0.779595   \n",
       "NumberOfAwakings                 0.022757        0.780512   \n",
       "LengthOfRestInMinutes           -0.004992        0.997184   \n",
       "\n",
       "                        MinutesOfBeingAwake  NumberOfAwakings  \\\n",
       "Calorie burned                     0.041999          0.030490   \n",
       "Steps                              0.124846          0.106591   \n",
       "Distance                           0.130447          0.091095   \n",
       "Floors                             0.064587          0.043459   \n",
       "Minutes Sedentary                  0.200589          0.178387   \n",
       "Minutes Lightly Active             0.096107          0.087150   \n",
       "Minutes Fairly Active              0.104303          0.100498   \n",
       "Minutes Very Active                0.116559          0.099859   \n",
       "Activity Calories                  0.010859          0.022757   \n",
       "MinutesOfSleep                     0.779595          0.780512   \n",
       "MinutesOfBeingAwake                1.000000          0.951817   \n",
       "NumberOfAwakings                   0.951817          1.000000   \n",
       "LengthOfRestInMinutes              0.820110          0.817326   \n",
       "\n",
       "                        LengthOfRestInMinutes  \n",
       "Calorie burned                       0.017460  \n",
       "Steps                                0.133405  \n",
       "Distance                             0.134550  \n",
       "Floors                               0.075864  \n",
       "Minutes Sedentary                    0.208539  \n",
       "Minutes Lightly Active               0.105406  \n",
       "Minutes Fairly Active                0.123034  \n",
       "Minutes Very Active                  0.115641  \n",
       "Activity Calories                   -0.004992  \n",
       "MinutesOfSleep                       0.997184  \n",
       "MinutesOfBeingAwake                  0.820110  \n",
       "NumberOfAwakings                     0.817326  \n",
       "LengthOfRestInMinutes                1.000000  "
      ]
     },
     "execution_count": 28,
     "metadata": {},
     "output_type": "execute_result"
    },
    {
     "data": {
      "image/png": "[encoded data removed]",
      "text/plain": [
       "<Figure size 432x288 with 1 Axes>"
      ]
     },
     "metadata": {
      "needs_background": "light"
     },
     "output_type": "display_data"
    }
   ],
   "source": [
    "# your answer here\n",
    "\n",
    "plt.scatter(x=fitbit['Minutes Sedentary'], y=fitbit['Steps'])\n",
    "plt.xlabel('Sedentary minutes')\n",
    "plt.ylabel('Steps')\n",
    "plt.title('Sedentary impact')\n",
    "\n",
    "# x = pd.cut(fitbit['Minutes Sedentary'], bins=5)\n",
    "# y = fitbit['Steps']\n",
    "# vactive = sns.barplot(x,y)\n",
    "# vactive.set_xticklabels(vactive.get_xticklabels(),rotation=90)\n",
    "# vactive.set_title  ('Sedentary impact')\n",
    "\n",
    "fitbit.corr()\n"
   ]
  },
  {
   "cell_type": "markdown",
   "metadata": {},
   "source": [
    "#### Use matplotlib to visually plot Minutes Sedentary vs Steps. Based on the results of the computed correlation and the plot. What can you say about these 2 variables?"
   ]
  },
  {
   "cell_type": "code",
   "execution_count": null,
   "metadata": {},
   "outputs": [],
   "source": [
    "#The graph and correlation matrix are shown above\n",
    "#Scatter points are too disperse, correlation is flat - the correlation matrix confirms it (value is .077). \n",
    "#Intuitively inactivity will yield less steps but the data cant confirm it. There's a chunk of outliers that are\n",
    "#relatively inactive yet maintain healthy step count. It appears there is a threshold of inactivity where\n",
    "#the step count falls sharply. More data needed to confirm."
   ]
  },
  {
   "cell_type": "markdown",
   "metadata": {},
   "source": [
    "#### We also suspect that there must be a linear relationship between the MinutesOfSleep and the Steps. Compute the correlation between these variables."
   ]
  },
  {
   "cell_type": "code",
   "execution_count": 27,
   "metadata": {},
   "outputs": [
    {
     "data": {
      "text/plain": [
       "0.13098565950836386"
      ]
     },
     "execution_count": 27,
     "metadata": {},
     "output_type": "execute_result"
    }
   ],
   "source": [
    "# your answer here\n",
    "\n",
    "from scipy.stats import pearsonr\n",
    "corr = pearsonr(fitbit['MinutesOfSleep'], fitbit['Steps'])\n",
    "corr[0]"
   ]
  },
  {
   "cell_type": "markdown",
   "metadata": {},
   "source": [
    "#### Use matplotlib to visually plot MinutesOfSleep vs Steps. Based on the results of the computed correlation and the plot. What can you say about these 2 variables?"
   ]
  },
  {
   "cell_type": "code",
   "execution_count": 29,
   "metadata": {},
   "outputs": [
    {
     "data": {
      "text/plain": [
       "Text(0.5, 1.0, 'Sleep impact')"
      ]
     },
     "execution_count": 29,
     "metadata": {},
     "output_type": "execute_result"
    },
    {
     "data": {
      "image/png": "[encoded data removed]",
      "text/plain": [
       "<Figure size 432x288 with 1 Axes>"
      ]
     },
     "metadata": {
      "needs_background": "light"
     },
     "output_type": "display_data"
    }
   ],
   "source": [
    "# your answer here\n",
    "\n",
    "plt.scatter(x=fitbit['MinutesOfSleep'], y=fitbit['Steps'])\n",
    "plt.xlabel('Sleep minutes')\n",
    "plt.ylabel('Steps')\n",
    "plt.title('Sleep impact')\n",
    "\n",
    "#Scatter points are too disperse, correlation is weak/flat - the correlation matrix confirms it (value is .130)."
   ]
  },
  {
   "cell_type": "markdown",
   "metadata": {},
   "source": [
    "#### Select a subset of your dataset with the columns below and compute the correlation matrix. Save the results in the variable `cor_fit`\n",
    "column= ['Calorie burned', 'Steps','Floors','Minutes Sedentary','Minutes Very Active', 'MinutesOfSleep']"
   ]
  },
  {
   "cell_type": "code",
   "execution_count": 34,
   "metadata": {},
   "outputs": [],
   "source": [
    "# your answer here\n",
    "\n",
    "subset = fitbit[['Calorie burned', 'Steps','Floors','Minutes Sedentary','Minutes Very Active', 'MinutesOfSleep']]"
   ]
  },
  {
   "cell_type": "code",
   "execution_count": 36,
   "metadata": {},
   "outputs": [],
   "source": [
    "#Print cor_fit\n",
    "corr_result = subset.corr()"
   ]
  },
  {
   "cell_type": "markdown",
   "metadata": {},
   "source": [
    "#### Based on the result of the correlation matrix. What are the highly correlated features with the variable Steps?\n",
    "*Hint: From the results above select the variable Steps and order your results in descending order (use Pandas sort_values function)*"
   ]
  },
  {
   "cell_type": "code",
   "execution_count": 45,
   "metadata": {},
   "outputs": [
    {
     "data": {
      "text/html": [
       "<div>\n",
       "<style scoped>\n",
       "    .dataframe tbody tr th:only-of-type {\n",
       "        vertical-align: middle;\n",
       "    }\n",
       "\n",
       "    .dataframe tbody tr th {\n",
       "        vertical-align: top;\n",
       "    }\n",
       "\n",
       "    .dataframe thead th {\n",
       "        text-align: right;\n",
       "    }\n",
       "</style>\n",
       "<table border=\"1\" class=\"dataframe\">\n",
       "  <thead>\n",
       "    <tr style=\"text-align: right;\">\n",
       "      <th></th>\n",
       "      <th>Steps</th>\n",
       "    </tr>\n",
       "  </thead>\n",
       "  <tbody>\n",
       "    <tr>\n",
       "      <th>Steps</th>\n",
       "      <td>1.000000</td>\n",
       "    </tr>\n",
       "    <tr>\n",
       "      <th>Minutes Very Active</th>\n",
       "      <td>0.571452</td>\n",
       "    </tr>\n",
       "    <tr>\n",
       "      <th>Floors</th>\n",
       "      <td>0.306511</td>\n",
       "    </tr>\n",
       "    <tr>\n",
       "      <th>Calorie burned</th>\n",
       "      <td>0.255305</td>\n",
       "    </tr>\n",
       "    <tr>\n",
       "      <th>MinutesOfSleep</th>\n",
       "      <td>0.130986</td>\n",
       "    </tr>\n",
       "    <tr>\n",
       "      <th>Minutes Sedentary</th>\n",
       "      <td>0.076906</td>\n",
       "    </tr>\n",
       "  </tbody>\n",
       "</table>\n",
       "</div>"
      ],
      "text/plain": [
       "                        Steps\n",
       "Steps                1.000000\n",
       "Minutes Very Active  0.571452\n",
       "Floors               0.306511\n",
       "Calorie burned       0.255305\n",
       "MinutesOfSleep       0.130986\n",
       "Minutes Sedentary    0.076906"
      ]
     },
     "execution_count": 45,
     "metadata": {},
     "output_type": "execute_result"
    }
   ],
   "source": [
    "# your answer here\n",
    "corr_sort = corr_result.sort_values('Steps', ascending=False)\n",
    "\n",
    "Steps_corr = corr_sort[['Steps']]\n",
    "Steps_corr\n"
   ]
  },
  {
   "cell_type": "markdown",
   "metadata": {},
   "source": [
    "# Challenge 3"
   ]
  },
  {
   "cell_type": "markdown",
   "metadata": {},
   "source": [
    "#### Open the `Time_Grades.csv` file and name your dataset `time_grades`"
   ]
  },
  {
   "cell_type": "code",
   "execution_count": 46,
   "metadata": {},
   "outputs": [],
   "source": [
    "# your answer here\n",
    "\n",
    "tm_grades = pd.read_csv('Time_Grades.csv')"
   ]
  },
  {
   "cell_type": "code",
   "execution_count": 47,
   "metadata": {},
   "outputs": [
    {
     "data": {
      "text/html": [
       "<div>\n",
       "<style scoped>\n",
       "    .dataframe tbody tr th:only-of-type {\n",
       "        vertical-align: middle;\n",
       "    }\n",
       "\n",
       "    .dataframe tbody tr th {\n",
       "        vertical-align: top;\n",
       "    }\n",
       "\n",
       "    .dataframe thead th {\n",
       "        text-align: right;\n",
       "    }\n",
       "</style>\n",
       "<table border=\"1\" class=\"dataframe\">\n",
       "  <thead>\n",
       "    <tr style=\"text-align: right;\">\n",
       "      <th></th>\n",
       "      <th>Name</th>\n",
       "      <th>Study time</th>\n",
       "      <th>Grade</th>\n",
       "    </tr>\n",
       "  </thead>\n",
       "  <tbody>\n",
       "    <tr>\n",
       "      <th>0</th>\n",
       "      <td>Jose</td>\n",
       "      <td>4</td>\n",
       "      <td>4</td>\n",
       "    </tr>\n",
       "    <tr>\n",
       "      <th>1</th>\n",
       "      <td>Maria</td>\n",
       "      <td>9</td>\n",
       "      <td>7</td>\n",
       "    </tr>\n",
       "    <tr>\n",
       "      <th>2</th>\n",
       "      <td>David</td>\n",
       "      <td>8</td>\n",
       "      <td>9</td>\n",
       "    </tr>\n",
       "    <tr>\n",
       "      <th>3</th>\n",
       "      <td>Sonia</td>\n",
       "      <td>10</td>\n",
       "      <td>7</td>\n",
       "    </tr>\n",
       "    <tr>\n",
       "      <th>4</th>\n",
       "      <td>Samuel</td>\n",
       "      <td>20</td>\n",
       "      <td>9</td>\n",
       "    </tr>\n",
       "    <tr>\n",
       "      <th>5</th>\n",
       "      <td>Eva</td>\n",
       "      <td>5</td>\n",
       "      <td>3</td>\n",
       "    </tr>\n",
       "    <tr>\n",
       "      <th>6</th>\n",
       "      <td>Carlos</td>\n",
       "      <td>12</td>\n",
       "      <td>7</td>\n",
       "    </tr>\n",
       "    <tr>\n",
       "      <th>7</th>\n",
       "      <td>Pedro</td>\n",
       "      <td>6</td>\n",
       "      <td>5</td>\n",
       "    </tr>\n",
       "    <tr>\n",
       "      <th>8</th>\n",
       "      <td>Ana</td>\n",
       "      <td>18</td>\n",
       "      <td>9</td>\n",
       "    </tr>\n",
       "    <tr>\n",
       "      <th>9</th>\n",
       "      <td>Gervasio</td>\n",
       "      <td>7</td>\n",
       "      <td>3</td>\n",
       "    </tr>\n",
       "    <tr>\n",
       "      <th>10</th>\n",
       "      <td>Gemma</td>\n",
       "      <td>7</td>\n",
       "      <td>8</td>\n",
       "    </tr>\n",
       "    <tr>\n",
       "      <th>11</th>\n",
       "      <td>Alicia</td>\n",
       "      <td>11</td>\n",
       "      <td>7</td>\n",
       "    </tr>\n",
       "    <tr>\n",
       "      <th>12</th>\n",
       "      <td>Jonathan</td>\n",
       "      <td>2</td>\n",
       "      <td>1</td>\n",
       "    </tr>\n",
       "    <tr>\n",
       "      <th>13</th>\n",
       "      <td>Cristina</td>\n",
       "      <td>13</td>\n",
       "      <td>8</td>\n",
       "    </tr>\n",
       "    <tr>\n",
       "      <th>14</th>\n",
       "      <td>Pilar</td>\n",
       "      <td>3</td>\n",
       "      <td>2</td>\n",
       "    </tr>\n",
       "  </tbody>\n",
       "</table>\n",
       "</div>"
      ],
      "text/plain": [
       "        Name  Study time  Grade\n",
       "0       Jose           4      4\n",
       "1      Maria           9      7\n",
       "2      David           8      9\n",
       "3      Sonia          10      7\n",
       "4     Samuel          20      9\n",
       "5        Eva           5      3\n",
       "6     Carlos          12      7\n",
       "7      Pedro           6      5\n",
       "8        Ana          18      9\n",
       "9   Gervasio           7      3\n",
       "10     Gemma           7      8\n",
       "11    Alicia          11      7\n",
       "12  Jonathan           2      1\n",
       "13  Cristina          13      8\n",
       "14     Pilar           3      2"
      ]
     },
     "execution_count": 47,
     "metadata": {},
     "output_type": "execute_result"
    }
   ],
   "source": [
    "#Print time_grades\n",
    "tm_grades"
   ]
  },
  {
   "cell_type": "markdown",
   "metadata": {},
   "source": [
    "#### Show visually the frequency distribution of the time_grades dataset."
   ]
  },
  {
   "cell_type": "code",
   "execution_count": 50,
   "metadata": {},
   "outputs": [
    {
     "data": {
      "text/plain": [
       "array([[<matplotlib.axes._subplots.AxesSubplot object at 0x000002304366C9E8>,\n",
       "        <matplotlib.axes._subplots.AxesSubplot object at 0x000002304457FE48>]],\n",
       "      dtype=object)"
      ]
     },
     "execution_count": 50,
     "metadata": {},
     "output_type": "execute_result"
    },
    {
     "data": {
      "image/png": "[encoded data removed]",
      "text/plain": [
       "<Figure size 432x288 with 2 Axes>"
      ]
     },
     "metadata": {
      "needs_background": "light"
     },
     "output_type": "display_data"
    }
   ],
   "source": [
    "# your answer here\n",
    "tm_grades.hist()"
   ]
  },
  {
   "cell_type": "markdown",
   "metadata": {},
   "source": [
    "#### Is there a correaltion between study time and Grade? Use both Pearson and Spearman correlation and comment your results."
   ]
  },
  {
   "cell_type": "code",
   "execution_count": 52,
   "metadata": {},
   "outputs": [
    {
     "data": {
      "text/html": [
       "<div>\n",
       "<style scoped>\n",
       "    .dataframe tbody tr th:only-of-type {\n",
       "        vertical-align: middle;\n",
       "    }\n",
       "\n",
       "    .dataframe tbody tr th {\n",
       "        vertical-align: top;\n",
       "    }\n",
       "\n",
       "    .dataframe thead th {\n",
       "        text-align: right;\n",
       "    }\n",
       "</style>\n",
       "<table border=\"1\" class=\"dataframe\">\n",
       "  <thead>\n",
       "    <tr style=\"text-align: right;\">\n",
       "      <th></th>\n",
       "      <th>Study time</th>\n",
       "      <th>Grade</th>\n",
       "    </tr>\n",
       "  </thead>\n",
       "  <tbody>\n",
       "    <tr>\n",
       "      <th>Study time</th>\n",
       "      <td>1.000000</td>\n",
       "      <td>0.798046</td>\n",
       "    </tr>\n",
       "    <tr>\n",
       "      <th>Grade</th>\n",
       "      <td>0.798046</td>\n",
       "      <td>1.000000</td>\n",
       "    </tr>\n",
       "  </tbody>\n",
       "</table>\n",
       "</div>"
      ],
      "text/plain": [
       "            Study time     Grade\n",
       "Study time    1.000000  0.798046\n",
       "Grade         0.798046  1.000000"
      ]
     },
     "execution_count": 52,
     "metadata": {},
     "output_type": "execute_result"
    }
   ],
   "source": [
    "# your answer here-Pearson \n",
    "#Positive correlation (its .79, a correlation of 1 is the Max.) More study = higher grades\n",
    "#Works well for linear types of data - this method better suits the time/grades data set.\n",
    "tm_grades.corr(method='pearson')"
   ]
  },
  {
   "cell_type": "code",
   "execution_count": 55,
   "metadata": {},
   "outputs": [
    {
     "data": {
      "text/html": [
       "<div>\n",
       "<style scoped>\n",
       "    .dataframe tbody tr th:only-of-type {\n",
       "        vertical-align: middle;\n",
       "    }\n",
       "\n",
       "    .dataframe tbody tr th {\n",
       "        vertical-align: top;\n",
       "    }\n",
       "\n",
       "    .dataframe thead th {\n",
       "        text-align: right;\n",
       "    }\n",
       "</style>\n",
       "<table border=\"1\" class=\"dataframe\">\n",
       "  <thead>\n",
       "    <tr style=\"text-align: right;\">\n",
       "      <th></th>\n",
       "      <th>Study time</th>\n",
       "      <th>Grade</th>\n",
       "    </tr>\n",
       "  </thead>\n",
       "  <tbody>\n",
       "    <tr>\n",
       "      <th>Study time</th>\n",
       "      <td>1.000000</td>\n",
       "      <td>0.819659</td>\n",
       "    </tr>\n",
       "    <tr>\n",
       "      <th>Grade</th>\n",
       "      <td>0.819659</td>\n",
       "      <td>1.000000</td>\n",
       "    </tr>\n",
       "  </tbody>\n",
       "</table>\n",
       "</div>"
      ],
      "text/plain": [
       "            Study time     Grade\n",
       "Study time    1.000000  0.819659\n",
       "Grade         0.819659  1.000000"
      ]
     },
     "execution_count": 55,
     "metadata": {},
     "output_type": "execute_result"
    }
   ],
   "source": [
    "## your answer here-Spearman\n",
    "#Also yields a strong positive correlation.\n",
    "#Better applied when the data is non linear, ie. exponetial. I dont see much application for spearman on this data set.\n",
    "tm_grades.corr(method='spearman')"
   ]
  },
  {
   "cell_type": "markdown",
   "metadata": {},
   "source": [
    "#### Use matplotlib to visually plot Study time vs Grade. Based on the results of the computed correlation and the plot. What can you say about these 2 variables?"
   ]
  },
  {
   "cell_type": "code",
   "execution_count": 58,
   "metadata": {},
   "outputs": [
    {
     "data": {
      "text/plain": [
       "Text(0.5, 1.0, 'Time studied vs. Grades')"
      ]
     },
     "execution_count": 58,
     "metadata": {},
     "output_type": "execute_result"
    },
    {
     "data": {
      "image/png": "[encoded data removed]",
      "text/plain": [
       "<Figure size 432x288 with 1 Axes>"
      ]
     },
     "metadata": {
      "needs_background": "light"
     },
     "output_type": "display_data"
    }
   ],
   "source": [
    "# your answer here\n",
    "plt.scatter(x=tm_grades['Study time'], y=tm_grades['Grade'])\n",
    "plt.xlabel('Hrs. studied')\n",
    "plt.ylabel('Grades')\n",
    "plt.title('Time studied vs. Grades')"
   ]
  },
  {
   "cell_type": "code",
   "execution_count": null,
   "metadata": {},
   "outputs": [],
   "source": [
    "#your comment here\n",
    "\n",
    "#They're positively correlated. The students who study the most have the best exam results. \n"
   ]
  },
  {
   "cell_type": "markdown",
   "metadata": {},
   "source": [
    "#### Could you explain the difference between Pearson and Spearman correlation? (see References in README.md) "
   ]
  },
  {
   "cell_type": "code",
   "execution_count": null,
   "metadata": {},
   "outputs": [],
   "source": [
    "#your comment here\n",
    "\n",
    "#Explained above"
   ]
  }
 ],
 "metadata": {
  "anaconda-cloud": {},
  "kernelspec": {
   "display_name": "Python 3",
   "language": "python",
   "name": "python3"
  },
  "language_info": {
   "codemirror_mode": {
    "name": "ipython",
    "version": 3
   },
   "file_extension": ".py",
   "mimetype": "text/x-python",
   "name": "python",
   "nbconvert_exporter": "python",
   "pygments_lexer": "ipython3",
   "version": "3.7.3"
  }
 },
 "nbformat": 4,
 "nbformat_minor": 1
}
