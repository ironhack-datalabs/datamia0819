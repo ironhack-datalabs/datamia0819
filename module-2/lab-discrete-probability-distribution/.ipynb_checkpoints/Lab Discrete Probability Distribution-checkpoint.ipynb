{
 "cells": [
  {
   "cell_type": "markdown",
   "metadata": {},
   "source": [
    "# Before your start:\n",
    "\n",
    "    Read the README.md file\n",
    "    Comment as much as you can and use the resources (README.md file)\n",
    "    Happy learning!"
   ]
  },
  {
   "cell_type": "raw",
   "metadata": {},
   "source": [
    "Please note: All calculations must be done in python. \n",
    "Please round the final answer to three decimal places. "
   ]
  },
  {
   "cell_type": "code",
   "execution_count": 1,
   "metadata": {},
   "outputs": [],
   "source": [
    "import matplotlib.pyplot as plt\n",
    "%matplotlib inline\n",
    "import scipy\n",
    "import math\n",
    "import numpy as np"
   ]
  },
  {
   "cell_type": "markdown",
   "metadata": {},
   "source": [
    "## Bernoulli's Distribution"
   ]
  },
  {
   "cell_type": "raw",
   "metadata": {},
   "source": [
    "In a basket containing apples and oranges, there are 60 apples and 40 oranges. "
   ]
  },
  {
   "cell_type": "raw",
   "metadata": {},
   "source": [
    "A fruit is picked randomly from the basket. \n",
    "1. What is the probability that the fruit is apple?\n",
    "2. What is the probability that it is an orange?"
   ]
  },
  {
   "cell_type": "code",
   "execution_count": 2,
   "metadata": {},
   "outputs": [
    {
     "name": "stdout",
     "output_type": "stream",
     "text": [
      "0.6 0.4\n"
     ]
    }
   ],
   "source": [
    "## p = probability that the fruit is an apple \n",
    "## q = probability that the fruit is an orange\n",
    "num_app=60\n",
    "num_or=40\n",
    "p=60/(num_app+num_or)\n",
    "q=40/(num_app+num_or)\n",
    "print(p,q)"
   ]
  },
  {
   "cell_type": "raw",
   "metadata": {},
   "source": [
    "Now we take a random sample of 20 fruits with replacement. \n",
    "What is the probability that the first 5 fruits are apples?"
   ]
  },
  {
   "cell_type": "raw",
   "metadata": {},
   "source": [
    "Hint: (p**5)*(q**15)"
   ]
  },
  {
   "cell_type": "code",
   "execution_count": 3,
   "metadata": {},
   "outputs": [
    {
     "data": {
      "text/plain": [
       "8.349416423424006e-08"
      ]
     },
     "execution_count": 3,
     "metadata": {},
     "output_type": "execute_result"
    }
   ],
   "source": [
    "##Your solution here\n",
    "p_5apple=(p**5)*(q**15)# probability of getting 5 apples in a row= p*p*p*p*p\n",
    "p_5apple"
   ]
  },
  {
   "cell_type": "markdown",
   "metadata": {},
   "source": [
    "## Binomial Distribution"
   ]
  },
  {
   "cell_type": "raw",
   "metadata": {},
   "source": [
    "Similar to the above problem, this time again we pick 20 fruits. \n",
    "What is the probability that this time we picked 5 apples and 15 oranges?\n",
    "Please note that this time we are not asking specifically about the \n",
    "first picks!!"
   ]
  },
  {
   "cell_type": "code",
   "execution_count": 4,
   "metadata": {},
   "outputs": [
    {
     "data": {
      "text/plain": [
       "0.0012944935222876579"
      ]
     },
     "execution_count": 4,
     "metadata": {},
     "output_type": "execute_result"
    }
   ],
   "source": [
    "##Your solutionm here\n",
    "import math\n",
    "n=20\n",
    "i=5\n",
    "def nci(n,i):\n",
    "    return  math.factorial(n)/(math.factorial(n-i)*math.factorial(i))*(p**i)*(q**(n-i))\n",
    "nci(n,i)\n",
    "# round(fact*p_5apple,3)"
   ]
  },
  {
   "cell_type": "raw",
   "metadata": {},
   "source": [
    "During the lectures we also talked about CDF \n",
    "Consider the same problem as above except that this time we are \n",
    "interesed in the probability that less than 5 apples were selected. \n",
    "Compute the probability?"
   ]
  },
  {
   "cell_type": "code",
   "execution_count": 5,
   "metadata": {},
   "outputs": [
    {
     "data": {
      "text/plain": [
       "0.00031703112116863"
      ]
     },
     "execution_count": 5,
     "metadata": {},
     "output_type": "execute_result"
    }
   ],
   "source": [
    "##Your solution here \n",
    "def cdf(n,i):\n",
    "    return  (math.factorial(n)/(math.factorial(n-i)*math.factorial(i)))*(p**i)*(q**(n-i))\n",
    "\n",
    "cdf(20,0)+cdf(20,1)+cdf(20,2)+cdf(20,3)+cdf(20,4)"
   ]
  },
  {
   "cell_type": "raw",
   "metadata": {},
   "source": [
    "Plot the probability distributiom function for the above binomial \n",
    "distribution. \n",
    "Hint: The range of x in a binomial distribution is from 0 to 'n'\n"
   ]
  },
  {
   "cell_type": "code",
   "execution_count": 6,
   "metadata": {},
   "outputs": [
    {
     "name": "stdout",
     "output_type": "stream",
     "text": [
      "0.0012944935222876511\n",
      "0.0003170311211686301\n",
      "12.0\n",
      "4.800000000000001\n",
      "2.1908902300206647\n",
      "[10 13 14  9 13 11  8 13 13 15]\n"
     ]
    },
    {
     "data": {
      "text/plain": [
       "<matplotlib.collections.LineCollection at 0x1ef73e9a470>"
      ]
     },
     "execution_count": 6,
     "metadata": {},
     "output_type": "execute_result"
    },
    {
     "data": {
      "image/png": "[encoded data removed]",
      "text/plain": [
       "<Figure size 432x288 with 1 Axes>"
      ]
     },
     "metadata": {
      "needs_background": "light"
     },
     "output_type": "display_data"
    }
   ],
   "source": [
    "## Your code here\n",
    "%matplotlib inline\n",
    "from scipy import stats\n",
    "from scipy.stats import binom\n",
    "\n",
    "binomial = binom(n,p)\n",
    "#print(x)\n",
    "print(binomial.pmf(5))\n",
    "print(binomial.cdf(4))\n",
    "print(binomial.mean())\n",
    "print(binomial.var())\n",
    "print(binomial.std())\n",
    "print(binomial.rvs(10))\n",
    "x = np.arange(0,10)\n",
    "fig, ax = plt.subplots(1, 1)\n",
    "ax.plot(x, binom.pmf(x, n, p), 'bo')\n",
    "ax.vlines(x, 0, binom.pmf(x, n, p), colors='b', lw=5, alpha=0.5)\n"
   ]
  },
  {
   "cell_type": "code",
   "execution_count": 7,
   "metadata": {},
   "outputs": [],
   "source": [
    "#Please label the axes and give a title to the plot "
   ]
  },
  {
   "cell_type": "markdown",
   "metadata": {},
   "source": [
    "## Poisson Distribution"
   ]
  },
  {
   "cell_type": "raw",
   "metadata": {},
   "source": [
    "In this problem you are required to use the Math library in python to \n",
    "solve the problem"
   ]
  },
  {
   "cell_type": "raw",
   "metadata": {},
   "source": [
    "In the UEFA champions league tournament, the average number of goals \n",
    "scored in a match is 2.3. What is the probability that the number of \n",
    "goals scored in a match is 5?"
   ]
  },
  {
   "cell_type": "raw",
   "metadata": {},
   "source": [
    "Hint: Use the exp() in the math library \n",
    "And to find the factorial, you can use the following code:"
   ]
  },
  {
   "cell_type": "code",
   "execution_count": 14,
   "metadata": {},
   "outputs": [
    {
     "data": {
      "text/plain": [
       "0.05377502558194681"
      ]
     },
     "execution_count": 14,
     "metadata": {},
     "output_type": "execute_result"
    }
   ],
   "source": [
    "import math\n",
    "mean=2.3\n",
    "\n",
    "# def poisson(actual,mean):\n",
    "#         rate=1/mean\n",
    "#         return (math.exp(-rate))*(rate**actual/math.factorial(actual))\n",
    "def poisson(actual,mean):\n",
    "        return (math.exp(-mean))*(mean**actual/math.factorial(actual))    \n",
    "\n",
    "poisson(5,2.3)   \n",
    "#math.factorial(n)\n",
    "#where n is the number you want to find the factorial of"
   ]
  },
  {
   "cell_type": "code",
   "execution_count": 13,
   "metadata": {},
   "outputs": [
    {
     "data": {
      "text/plain": [
       "0.053775025581946814"
      ]
     },
     "execution_count": 13,
     "metadata": {},
     "output_type": "execute_result"
    }
   ],
   "source": [
    "## Your code here \n",
    "from scipy import stats\n",
    "from scipy.stats import poisson\n",
    "poiss=poisson(2.3)\n",
    "poiss.pmf(5)\n"
   ]
  },
  {
   "cell_type": "raw",
   "metadata": {},
   "source": []
  },
  {
   "cell_type": "code",
   "execution_count": 17,
   "metadata": {},
   "outputs": [
    {
     "name": "stdout",
     "output_type": "stream",
     "text": [
      "0.0\n",
      "[4 2 2 3 0 1 3 3 5 4]\n"
     ]
    },
    {
     "data": {
      "text/plain": [
       "<matplotlib.collections.LineCollection at 0x1ef75460908>"
      ]
     },
     "execution_count": 17,
     "metadata": {},
     "output_type": "execute_result"
    },
    {
     "data": {
      "image/png": "[encoded data removed]",
      "text/plain": [
       "<Figure size 432x288 with 1 Axes>"
      ]
     },
     "metadata": {
      "needs_background": "light"
     },
     "output_type": "display_data"
    }
   ],
   "source": [
    "#Please label the axes and give a title to the plot \n",
    "# Draw a poisson probability distribution plot for the number of goals \n",
    "# to be between 0 to 10\n",
    "\n",
    "%matplotlib inline \n",
    "from scipy import stats\n",
    "from scipy.stats import poisson\n",
    "param = 2.3\n",
    "po = stats.poisson(param)\n",
    "print(po.pmf(param))     \n",
    "print(po.rvs(10))\n",
    "x = np.arange(0,10)\n",
    "fig, ax = plt.subplots(1, 1)\n",
    "ax.plot(x, poisson.pmf(x, param), 'bo', ms=8, label='poisson pmf')\n",
    "ax.vlines(x, 0, poisson.pmf(x, param), colors='b', lw=5, alpha=0.5)"
   ]
  },
  {
   "cell_type": "code",
   "execution_count": null,
   "metadata": {},
   "outputs": [],
   "source": []
  }
 ],
 "metadata": {
  "kernelspec": {
   "display_name": "Python 3",
   "language": "python",
   "name": "python3"
  },
  "language_info": {
   "codemirror_mode": {
    "name": "ipython",
    "version": 3
   },
   "file_extension": ".py",
   "mimetype": "text/x-python",
   "name": "python",
   "nbconvert_exporter": "python",
   "pygments_lexer": "ipython3",
   "version": "3.7.3"
  }
 },
 "nbformat": 4,
 "nbformat_minor": 2
}
