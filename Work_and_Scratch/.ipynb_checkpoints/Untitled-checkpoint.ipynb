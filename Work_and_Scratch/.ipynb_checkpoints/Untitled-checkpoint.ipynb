{
 "cells": [
  {
   "cell_type": "code",
   "execution_count": 33,
   "metadata": {
    "scrolled": true
   },
   "outputs": [
    {
     "ename": "SyntaxError",
     "evalue": "invalid syntax (<ipython-input-33-c5c9d76b7b90>, line 35)",
     "output_type": "error",
     "traceback": [
      "\u001b[1;36m  File \u001b[1;32m\"<ipython-input-33-c5c9d76b7b90>\"\u001b[1;36m, line \u001b[1;32m35\u001b[0m\n\u001b[1;33m    for i in range(len(d[a]):\u001b[0m\n\u001b[1;37m                            ^\u001b[0m\n\u001b[1;31mSyntaxError\u001b[0m\u001b[1;31m:\u001b[0m invalid syntax\n"
     ]
    }
   ],
   "source": [
    "import numpy as np \n",
    "import random \n",
    "\n",
    "a = np.random.random((2,3,5))\n",
    "\n",
    "\n",
    "b = np.full((5,3,2),1)\n",
    "\n",
    "\n",
    "c = np.transpose(b)\n",
    "\n",
    "\n",
    "d = np.add(a,c)\n",
    "# print(a,'\\n')\n",
    "\n",
    "# print(d, '\\n')\n",
    "\n",
    "e = np.multiply(a,c)\n",
    "\n",
    "# print(e, '\\n')\n",
    "\n",
    "d_mean = np.mean(d)\n",
    "# print(d_mean)\n",
    "# print(d_max)\n",
    "# print(d_min)\n",
    "d_max = np.max(d)\n",
    "d_min = np.min(d)\n",
    "\n",
    "f = np.zeros([2,3,5])\n",
    "\n",
    "print(d)\n",
    "print(d[1][0][0])\n",
    "\n",
    "for a in range(len(d)):\n",
    "    for i in range(len(d[a]):\n",
    "        for j in range(len(d[a][i])):\n",
    "            if d[a][i][j] > d_min and d[a][i][j] < d_mean:\n",
    "                f[a][i][j] = 25\n",
    "            elif d[a][i][j] > d_mean and d[a][i][j] < d_max:\n",
    "                f[a][i][j] = 75\n",
    "            elif d[a][i][j] == d_mean:\n",
    "                f[a][i][j] = 50\n",
    "            elif d[a][i][j] == d_min:\n",
    "                f[a][i][j] = 0\n",
    "            elif d[a][i][j] == d_max:\n",
    "                f[a][i][j] = 100\n",
    "            \n",
    "\n",
    "\n"
   ]
  },
  {
   "cell_type": "code",
   "execution_count": 32,
   "metadata": {},
   "outputs": [
    {
     "ename": "SyntaxError",
     "evalue": "invalid syntax (<ipython-input-32-66386d9d4f15>, line 1)",
     "output_type": "error",
     "traceback": [
      "\u001b[1;36m  File \u001b[1;32m\"<ipython-input-32-66386d9d4f15>\"\u001b[1;36m, line \u001b[1;32m1\u001b[0m\n\u001b[1;33m    for a in range len(d):\u001b[0m\n\u001b[1;37m                     ^\u001b[0m\n\u001b[1;31mSyntaxError\u001b[0m\u001b[1;31m:\u001b[0m invalid syntax\n"
     ]
    }
   ],
   "source": [
    "for a in range len(d):\n",
    "    for i in range(len(d,))"
   ]
  },
  {
   "cell_type": "code",
   "execution_count": null,
   "metadata": {},
   "outputs": [],
   "source": []
  },
  {
   "cell_type": "code",
   "execution_count": null,
   "metadata": {},
   "outputs": [],
   "source": []
  },
  {
   "cell_type": "code",
   "execution_count": null,
   "metadata": {},
   "outputs": [],
   "source": []
  }
 ],
 "metadata": {
  "kernelspec": {
   "display_name": "Python 3",
   "language": "python",
   "name": "python3"
  },
  "language_info": {
   "codemirror_mode": {
    "name": "ipython",
    "version": 3
   },
   "file_extension": ".py",
   "mimetype": "text/x-python",
   "name": "python",
   "nbconvert_exporter": "python",
   "pygments_lexer": "ipython3",
   "version": "3.7.3"
  }
 },
 "nbformat": 4,
 "nbformat_minor": 2
}
